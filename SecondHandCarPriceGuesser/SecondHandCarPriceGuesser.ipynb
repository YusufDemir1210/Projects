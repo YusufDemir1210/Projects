{
 "cells": [
  {
   "cell_type": "code",
   "execution_count": 656,
   "metadata": {
    "collapsed": true,
    "ExecuteTime": {
     "end_time": "2023-10-06T12:16:39.003550400Z",
     "start_time": "2023-10-06T12:16:38.776510Z"
    }
   },
   "outputs": [],
   "source": [
    "import numpy as np\n",
    "import pandas as pd\n",
    "import matplotlib.pyplot as plt\n",
    "import seaborn as sns\n",
    "%matplotlib inline\n",
    "\n",
    "import tensorflow as tf\n",
    "import sklearn as sk"
   ]
  },
  {
   "cell_type": "code",
   "execution_count": 657,
   "outputs": [],
   "source": [
    "df = pd.read_csv('Car_details.csv',index_col='name')"
   ],
   "metadata": {
    "collapsed": false,
    "ExecuteTime": {
     "end_time": "2023-10-06T12:16:39.337999300Z",
     "start_time": "2023-10-06T12:16:38.780054400Z"
    }
   }
  },
  {
   "cell_type": "code",
   "execution_count": 658,
   "outputs": [],
   "source": [
    "df.dropna(inplace = True)"
   ],
   "metadata": {
    "collapsed": false,
    "ExecuteTime": {
     "end_time": "2023-10-06T12:16:39.341755700Z",
     "start_time": "2023-10-06T12:16:38.799475400Z"
    }
   }
  },
  {
   "cell_type": "code",
   "execution_count": 659,
   "outputs": [
    {
     "data": {
      "text/plain": "numpy.int64"
     },
     "execution_count": 659,
     "metadata": {},
     "output_type": "execute_result"
    }
   ],
   "source": [
    "# fuel, seller_type, transmission, owner, mileage, engine, max power, torque\n",
    "type(df['km_driven'].iloc[0])"
   ],
   "metadata": {
    "collapsed": false,
    "ExecuteTime": {
     "end_time": "2023-10-06T12:16:39.341755700Z",
     "start_time": "2023-10-06T12:16:38.877860300Z"
    }
   }
  },
  {
   "cell_type": "code",
   "execution_count": 660,
   "outputs": [
    {
     "data": {
      "text/plain": "array(['Individual', 'Dealer', 'Trustmark Dealer'], dtype=object)"
     },
     "execution_count": 660,
     "metadata": {},
     "output_type": "execute_result"
    }
   ],
   "source": [
    "df['seller_type'].unique()"
   ],
   "metadata": {
    "collapsed": false,
    "ExecuteTime": {
     "end_time": "2023-10-06T12:16:39.341755700Z",
     "start_time": "2023-10-06T12:16:38.916779400Z"
    }
   }
  },
  {
   "cell_type": "code",
   "execution_count": 661,
   "outputs": [],
   "source": [
    "df = pd.get_dummies(data=df, columns=['fuel'],drop_first=True)"
   ],
   "metadata": {
    "collapsed": false,
    "ExecuteTime": {
     "end_time": "2023-10-06T12:16:39.342759300Z",
     "start_time": "2023-10-06T12:16:38.924629800Z"
    }
   }
  },
  {
   "cell_type": "code",
   "execution_count": 662,
   "outputs": [
    {
     "data": {
      "text/plain": "                               year  selling_price  km_driven seller_type  \\\nname                                                                        \nSkoda Rapid 1.5 TDI Ambition   2014         370000     120000  Individual   \nHonda City 2017-2020 EXi       2006         158000     140000  Individual   \nHyundai i20 Sportz Diesel      2010         225000     127000  Individual   \nMaruti Swift VXI BSIII         2007         130000     120000  Individual   \nHyundai Xcent 1.2 VTVT E Plus  2017         440000      45000  Individual   \n...                             ...            ...        ...         ...   \nHyundai i20 Magna              2013         320000     110000  Individual   \nHyundai Verna CRDi SX          2007         135000     119000  Individual   \nMaruti Swift Dzire ZDi         2009         382000     120000  Individual   \nTata Indigo CR4                2013         290000      25000  Individual   \nTata Indigo CR4                2013         290000      25000  Individual   \n\n                              transmission                 owner     mileage  \\\nname                                                                           \nSkoda Rapid 1.5 TDI Ambition        Manual          Second Owner  21.14 kmpl   \nHonda City 2017-2020 EXi            Manual           Third Owner   17.7 kmpl   \nHyundai i20 Sportz Diesel           Manual           First Owner   23.0 kmpl   \nMaruti Swift VXI BSIII              Manual           First Owner   16.1 kmpl   \nHyundai Xcent 1.2 VTVT E Plus       Manual           First Owner  20.14 kmpl   \n...                                    ...                   ...         ...   \nHyundai i20 Magna                   Manual           First Owner   18.5 kmpl   \nHyundai Verna CRDi SX               Manual  Fourth & Above Owner   16.8 kmpl   \nMaruti Swift Dzire ZDi              Manual           First Owner   19.3 kmpl   \nTata Indigo CR4                     Manual           First Owner  23.57 kmpl   \nTata Indigo CR4                     Manual           First Owner  23.57 kmpl   \n\n                                engine   max_power                     torque  \\\nname                                                                            \nSkoda Rapid 1.5 TDI Ambition   1498 CC  103.52 bhp        250Nm@ 1500-2500rpm   \nHonda City 2017-2020 EXi       1497 CC      78 bhp      12.7@ 2,700(kgm@ rpm)   \nHyundai i20 Sportz Diesel      1396 CC      90 bhp   22.4 kgm at 1750-2750rpm   \nMaruti Swift VXI BSIII         1298 CC    88.2 bhp      11.5@ 4,500(kgm@ rpm)   \nHyundai Xcent 1.2 VTVT E Plus  1197 CC   81.86 bhp          113.75nm@ 4000rpm   \n...                                ...         ...                        ...   \nHyundai i20 Magna              1197 CC   82.85 bhp           113.7Nm@ 4000rpm   \nHyundai Verna CRDi SX          1493 CC     110 bhp  24@ 1,900-2,750(kgm@ rpm)   \nMaruti Swift Dzire ZDi         1248 CC    73.9 bhp             190Nm@ 2000rpm   \nTata Indigo CR4                1396 CC      70 bhp        140Nm@ 1800-3000rpm   \nTata Indigo CR4                1396 CC      70 bhp        140Nm@ 1800-3000rpm   \n\n                               seats  fuel_Diesel  fuel_LPG  fuel_Petrol  \nname                                                                      \nSkoda Rapid 1.5 TDI Ambition     5.0         True     False        False  \nHonda City 2017-2020 EXi         5.0        False     False         True  \nHyundai i20 Sportz Diesel        5.0         True     False        False  \nMaruti Swift VXI BSIII           5.0        False     False         True  \nHyundai Xcent 1.2 VTVT E Plus    5.0        False     False         True  \n...                              ...          ...       ...          ...  \nHyundai i20 Magna                5.0        False     False         True  \nHyundai Verna CRDi SX            5.0         True     False        False  \nMaruti Swift Dzire ZDi           5.0         True     False        False  \nTata Indigo CR4                  5.0         True     False        False  \nTata Indigo CR4                  5.0         True     False        False  \n\n[7905 rows x 14 columns]",
      "text/html": "<div>\n<style scoped>\n    .dataframe tbody tr th:only-of-type {\n        vertical-align: middle;\n    }\n\n    .dataframe tbody tr th {\n        vertical-align: top;\n    }\n\n    .dataframe thead th {\n        text-align: right;\n    }\n</style>\n<table border=\"1\" class=\"dataframe\">\n  <thead>\n    <tr style=\"text-align: right;\">\n      <th></th>\n      <th>year</th>\n      <th>selling_price</th>\n      <th>km_driven</th>\n      <th>seller_type</th>\n      <th>transmission</th>\n      <th>owner</th>\n      <th>mileage</th>\n      <th>engine</th>\n      <th>max_power</th>\n      <th>torque</th>\n      <th>seats</th>\n      <th>fuel_Diesel</th>\n      <th>fuel_LPG</th>\n      <th>fuel_Petrol</th>\n    </tr>\n    <tr>\n      <th>name</th>\n      <th></th>\n      <th></th>\n      <th></th>\n      <th></th>\n      <th></th>\n      <th></th>\n      <th></th>\n      <th></th>\n      <th></th>\n      <th></th>\n      <th></th>\n      <th></th>\n      <th></th>\n      <th></th>\n    </tr>\n  </thead>\n  <tbody>\n    <tr>\n      <th>Skoda Rapid 1.5 TDI Ambition</th>\n      <td>2014</td>\n      <td>370000</td>\n      <td>120000</td>\n      <td>Individual</td>\n      <td>Manual</td>\n      <td>Second Owner</td>\n      <td>21.14 kmpl</td>\n      <td>1498 CC</td>\n      <td>103.52 bhp</td>\n      <td>250Nm@ 1500-2500rpm</td>\n      <td>5.0</td>\n      <td>True</td>\n      <td>False</td>\n      <td>False</td>\n    </tr>\n    <tr>\n      <th>Honda City 2017-2020 EXi</th>\n      <td>2006</td>\n      <td>158000</td>\n      <td>140000</td>\n      <td>Individual</td>\n      <td>Manual</td>\n      <td>Third Owner</td>\n      <td>17.7 kmpl</td>\n      <td>1497 CC</td>\n      <td>78 bhp</td>\n      <td>12.7@ 2,700(kgm@ rpm)</td>\n      <td>5.0</td>\n      <td>False</td>\n      <td>False</td>\n      <td>True</td>\n    </tr>\n    <tr>\n      <th>Hyundai i20 Sportz Diesel</th>\n      <td>2010</td>\n      <td>225000</td>\n      <td>127000</td>\n      <td>Individual</td>\n      <td>Manual</td>\n      <td>First Owner</td>\n      <td>23.0 kmpl</td>\n      <td>1396 CC</td>\n      <td>90 bhp</td>\n      <td>22.4 kgm at 1750-2750rpm</td>\n      <td>5.0</td>\n      <td>True</td>\n      <td>False</td>\n      <td>False</td>\n    </tr>\n    <tr>\n      <th>Maruti Swift VXI BSIII</th>\n      <td>2007</td>\n      <td>130000</td>\n      <td>120000</td>\n      <td>Individual</td>\n      <td>Manual</td>\n      <td>First Owner</td>\n      <td>16.1 kmpl</td>\n      <td>1298 CC</td>\n      <td>88.2 bhp</td>\n      <td>11.5@ 4,500(kgm@ rpm)</td>\n      <td>5.0</td>\n      <td>False</td>\n      <td>False</td>\n      <td>True</td>\n    </tr>\n    <tr>\n      <th>Hyundai Xcent 1.2 VTVT E Plus</th>\n      <td>2017</td>\n      <td>440000</td>\n      <td>45000</td>\n      <td>Individual</td>\n      <td>Manual</td>\n      <td>First Owner</td>\n      <td>20.14 kmpl</td>\n      <td>1197 CC</td>\n      <td>81.86 bhp</td>\n      <td>113.75nm@ 4000rpm</td>\n      <td>5.0</td>\n      <td>False</td>\n      <td>False</td>\n      <td>True</td>\n    </tr>\n    <tr>\n      <th>...</th>\n      <td>...</td>\n      <td>...</td>\n      <td>...</td>\n      <td>...</td>\n      <td>...</td>\n      <td>...</td>\n      <td>...</td>\n      <td>...</td>\n      <td>...</td>\n      <td>...</td>\n      <td>...</td>\n      <td>...</td>\n      <td>...</td>\n      <td>...</td>\n    </tr>\n    <tr>\n      <th>Hyundai i20 Magna</th>\n      <td>2013</td>\n      <td>320000</td>\n      <td>110000</td>\n      <td>Individual</td>\n      <td>Manual</td>\n      <td>First Owner</td>\n      <td>18.5 kmpl</td>\n      <td>1197 CC</td>\n      <td>82.85 bhp</td>\n      <td>113.7Nm@ 4000rpm</td>\n      <td>5.0</td>\n      <td>False</td>\n      <td>False</td>\n      <td>True</td>\n    </tr>\n    <tr>\n      <th>Hyundai Verna CRDi SX</th>\n      <td>2007</td>\n      <td>135000</td>\n      <td>119000</td>\n      <td>Individual</td>\n      <td>Manual</td>\n      <td>Fourth &amp; Above Owner</td>\n      <td>16.8 kmpl</td>\n      <td>1493 CC</td>\n      <td>110 bhp</td>\n      <td>24@ 1,900-2,750(kgm@ rpm)</td>\n      <td>5.0</td>\n      <td>True</td>\n      <td>False</td>\n      <td>False</td>\n    </tr>\n    <tr>\n      <th>Maruti Swift Dzire ZDi</th>\n      <td>2009</td>\n      <td>382000</td>\n      <td>120000</td>\n      <td>Individual</td>\n      <td>Manual</td>\n      <td>First Owner</td>\n      <td>19.3 kmpl</td>\n      <td>1248 CC</td>\n      <td>73.9 bhp</td>\n      <td>190Nm@ 2000rpm</td>\n      <td>5.0</td>\n      <td>True</td>\n      <td>False</td>\n      <td>False</td>\n    </tr>\n    <tr>\n      <th>Tata Indigo CR4</th>\n      <td>2013</td>\n      <td>290000</td>\n      <td>25000</td>\n      <td>Individual</td>\n      <td>Manual</td>\n      <td>First Owner</td>\n      <td>23.57 kmpl</td>\n      <td>1396 CC</td>\n      <td>70 bhp</td>\n      <td>140Nm@ 1800-3000rpm</td>\n      <td>5.0</td>\n      <td>True</td>\n      <td>False</td>\n      <td>False</td>\n    </tr>\n    <tr>\n      <th>Tata Indigo CR4</th>\n      <td>2013</td>\n      <td>290000</td>\n      <td>25000</td>\n      <td>Individual</td>\n      <td>Manual</td>\n      <td>First Owner</td>\n      <td>23.57 kmpl</td>\n      <td>1396 CC</td>\n      <td>70 bhp</td>\n      <td>140Nm@ 1800-3000rpm</td>\n      <td>5.0</td>\n      <td>True</td>\n      <td>False</td>\n      <td>False</td>\n    </tr>\n  </tbody>\n</table>\n<p>7905 rows × 14 columns</p>\n</div>"
     },
     "execution_count": 662,
     "metadata": {},
     "output_type": "execute_result"
    }
   ],
   "source": [
    "df"
   ],
   "metadata": {
    "collapsed": false,
    "ExecuteTime": {
     "end_time": "2023-10-06T12:16:39.342759300Z",
     "start_time": "2023-10-06T12:16:38.935250Z"
    }
   }
  },
  {
   "cell_type": "code",
   "execution_count": 663,
   "outputs": [],
   "source": [
    "df = pd.get_dummies(data=df, columns=['seller_type'],drop_first=True)"
   ],
   "metadata": {
    "collapsed": false,
    "ExecuteTime": {
     "end_time": "2023-10-06T12:16:39.342759300Z",
     "start_time": "2023-10-06T12:16:38.951794Z"
    }
   }
  },
  {
   "cell_type": "code",
   "execution_count": 664,
   "outputs": [],
   "source": [
    "df = pd.get_dummies(data=df, columns=['transmission'],drop_first=True)"
   ],
   "metadata": {
    "collapsed": false,
    "ExecuteTime": {
     "end_time": "2023-10-06T12:16:39.387995600Z",
     "start_time": "2023-10-06T12:16:38.962473600Z"
    }
   }
  },
  {
   "cell_type": "code",
   "execution_count": 665,
   "outputs": [],
   "source": [
    "df = pd.get_dummies(data=df, columns=['owner'],drop_first=True)"
   ],
   "metadata": {
    "collapsed": false,
    "ExecuteTime": {
     "end_time": "2023-10-06T12:16:39.387995600Z",
     "start_time": "2023-10-06T12:16:38.974166800Z"
    }
   }
  },
  {
   "cell_type": "code",
   "execution_count": 666,
   "outputs": [
    {
     "data": {
      "text/plain": "                               year  selling_price  km_driven     mileage  \\\nname                                                                        \nSkoda Rapid 1.5 TDI Ambition   2014         370000     120000  21.14 kmpl   \nHonda City 2017-2020 EXi       2006         158000     140000   17.7 kmpl   \nHyundai i20 Sportz Diesel      2010         225000     127000   23.0 kmpl   \nMaruti Swift VXI BSIII         2007         130000     120000   16.1 kmpl   \nHyundai Xcent 1.2 VTVT E Plus  2017         440000      45000  20.14 kmpl   \n...                             ...            ...        ...         ...   \nHyundai i20 Magna              2013         320000     110000   18.5 kmpl   \nHyundai Verna CRDi SX          2007         135000     119000   16.8 kmpl   \nMaruti Swift Dzire ZDi         2009         382000     120000   19.3 kmpl   \nTata Indigo CR4                2013         290000      25000  23.57 kmpl   \nTata Indigo CR4                2013         290000      25000  23.57 kmpl   \n\n                                engine   max_power                     torque  \\\nname                                                                            \nSkoda Rapid 1.5 TDI Ambition   1498 CC  103.52 bhp        250Nm@ 1500-2500rpm   \nHonda City 2017-2020 EXi       1497 CC      78 bhp      12.7@ 2,700(kgm@ rpm)   \nHyundai i20 Sportz Diesel      1396 CC      90 bhp   22.4 kgm at 1750-2750rpm   \nMaruti Swift VXI BSIII         1298 CC    88.2 bhp      11.5@ 4,500(kgm@ rpm)   \nHyundai Xcent 1.2 VTVT E Plus  1197 CC   81.86 bhp          113.75nm@ 4000rpm   \n...                                ...         ...                        ...   \nHyundai i20 Magna              1197 CC   82.85 bhp           113.7Nm@ 4000rpm   \nHyundai Verna CRDi SX          1493 CC     110 bhp  24@ 1,900-2,750(kgm@ rpm)   \nMaruti Swift Dzire ZDi         1248 CC    73.9 bhp             190Nm@ 2000rpm   \nTata Indigo CR4                1396 CC      70 bhp        140Nm@ 1800-3000rpm   \nTata Indigo CR4                1396 CC      70 bhp        140Nm@ 1800-3000rpm   \n\n                               seats  fuel_Diesel  fuel_LPG  fuel_Petrol  \\\nname                                                                       \nSkoda Rapid 1.5 TDI Ambition     5.0         True     False        False   \nHonda City 2017-2020 EXi         5.0        False     False         True   \nHyundai i20 Sportz Diesel        5.0         True     False        False   \nMaruti Swift VXI BSIII           5.0        False     False         True   \nHyundai Xcent 1.2 VTVT E Plus    5.0        False     False         True   \n...                              ...          ...       ...          ...   \nHyundai i20 Magna                5.0        False     False         True   \nHyundai Verna CRDi SX            5.0         True     False        False   \nMaruti Swift Dzire ZDi           5.0         True     False        False   \nTata Indigo CR4                  5.0         True     False        False   \nTata Indigo CR4                  5.0         True     False        False   \n\n                               seller_type_Individual  \\\nname                                                    \nSkoda Rapid 1.5 TDI Ambition                     True   \nHonda City 2017-2020 EXi                         True   \nHyundai i20 Sportz Diesel                        True   \nMaruti Swift VXI BSIII                           True   \nHyundai Xcent 1.2 VTVT E Plus                    True   \n...                                               ...   \nHyundai i20 Magna                                True   \nHyundai Verna CRDi SX                            True   \nMaruti Swift Dzire ZDi                           True   \nTata Indigo CR4                                  True   \nTata Indigo CR4                                  True   \n\n                               seller_type_Trustmark Dealer  \\\nname                                                          \nSkoda Rapid 1.5 TDI Ambition                          False   \nHonda City 2017-2020 EXi                              False   \nHyundai i20 Sportz Diesel                             False   \nMaruti Swift VXI BSIII                                False   \nHyundai Xcent 1.2 VTVT E Plus                         False   \n...                                                     ...   \nHyundai i20 Magna                                     False   \nHyundai Verna CRDi SX                                 False   \nMaruti Swift Dzire ZDi                                False   \nTata Indigo CR4                                       False   \nTata Indigo CR4                                       False   \n\n                               transmission_Manual  \\\nname                                                 \nSkoda Rapid 1.5 TDI Ambition                  True   \nHonda City 2017-2020 EXi                      True   \nHyundai i20 Sportz Diesel                     True   \nMaruti Swift VXI BSIII                        True   \nHyundai Xcent 1.2 VTVT E Plus                 True   \n...                                            ...   \nHyundai i20 Magna                             True   \nHyundai Verna CRDi SX                         True   \nMaruti Swift Dzire ZDi                        True   \nTata Indigo CR4                               True   \nTata Indigo CR4                               True   \n\n                               owner_Fourth & Above Owner  owner_Second Owner  \\\nname                                                                            \nSkoda Rapid 1.5 TDI Ambition                        False                True   \nHonda City 2017-2020 EXi                            False               False   \nHyundai i20 Sportz Diesel                           False               False   \nMaruti Swift VXI BSIII                              False               False   \nHyundai Xcent 1.2 VTVT E Plus                       False               False   \n...                                                   ...                 ...   \nHyundai i20 Magna                                   False               False   \nHyundai Verna CRDi SX                                True               False   \nMaruti Swift Dzire ZDi                              False               False   \nTata Indigo CR4                                     False               False   \nTata Indigo CR4                                     False               False   \n\n                               owner_Test Drive Car  owner_Third Owner  \nname                                                                    \nSkoda Rapid 1.5 TDI Ambition                  False              False  \nHonda City 2017-2020 EXi                      False               True  \nHyundai i20 Sportz Diesel                     False              False  \nMaruti Swift VXI BSIII                        False              False  \nHyundai Xcent 1.2 VTVT E Plus                 False              False  \n...                                             ...                ...  \nHyundai i20 Magna                             False              False  \nHyundai Verna CRDi SX                         False              False  \nMaruti Swift Dzire ZDi                        False              False  \nTata Indigo CR4                               False              False  \nTata Indigo CR4                               False              False  \n\n[7905 rows x 18 columns]",
      "text/html": "<div>\n<style scoped>\n    .dataframe tbody tr th:only-of-type {\n        vertical-align: middle;\n    }\n\n    .dataframe tbody tr th {\n        vertical-align: top;\n    }\n\n    .dataframe thead th {\n        text-align: right;\n    }\n</style>\n<table border=\"1\" class=\"dataframe\">\n  <thead>\n    <tr style=\"text-align: right;\">\n      <th></th>\n      <th>year</th>\n      <th>selling_price</th>\n      <th>km_driven</th>\n      <th>mileage</th>\n      <th>engine</th>\n      <th>max_power</th>\n      <th>torque</th>\n      <th>seats</th>\n      <th>fuel_Diesel</th>\n      <th>fuel_LPG</th>\n      <th>fuel_Petrol</th>\n      <th>seller_type_Individual</th>\n      <th>seller_type_Trustmark Dealer</th>\n      <th>transmission_Manual</th>\n      <th>owner_Fourth &amp; Above Owner</th>\n      <th>owner_Second Owner</th>\n      <th>owner_Test Drive Car</th>\n      <th>owner_Third Owner</th>\n    </tr>\n    <tr>\n      <th>name</th>\n      <th></th>\n      <th></th>\n      <th></th>\n      <th></th>\n      <th></th>\n      <th></th>\n      <th></th>\n      <th></th>\n      <th></th>\n      <th></th>\n      <th></th>\n      <th></th>\n      <th></th>\n      <th></th>\n      <th></th>\n      <th></th>\n      <th></th>\n      <th></th>\n    </tr>\n  </thead>\n  <tbody>\n    <tr>\n      <th>Skoda Rapid 1.5 TDI Ambition</th>\n      <td>2014</td>\n      <td>370000</td>\n      <td>120000</td>\n      <td>21.14 kmpl</td>\n      <td>1498 CC</td>\n      <td>103.52 bhp</td>\n      <td>250Nm@ 1500-2500rpm</td>\n      <td>5.0</td>\n      <td>True</td>\n      <td>False</td>\n      <td>False</td>\n      <td>True</td>\n      <td>False</td>\n      <td>True</td>\n      <td>False</td>\n      <td>True</td>\n      <td>False</td>\n      <td>False</td>\n    </tr>\n    <tr>\n      <th>Honda City 2017-2020 EXi</th>\n      <td>2006</td>\n      <td>158000</td>\n      <td>140000</td>\n      <td>17.7 kmpl</td>\n      <td>1497 CC</td>\n      <td>78 bhp</td>\n      <td>12.7@ 2,700(kgm@ rpm)</td>\n      <td>5.0</td>\n      <td>False</td>\n      <td>False</td>\n      <td>True</td>\n      <td>True</td>\n      <td>False</td>\n      <td>True</td>\n      <td>False</td>\n      <td>False</td>\n      <td>False</td>\n      <td>True</td>\n    </tr>\n    <tr>\n      <th>Hyundai i20 Sportz Diesel</th>\n      <td>2010</td>\n      <td>225000</td>\n      <td>127000</td>\n      <td>23.0 kmpl</td>\n      <td>1396 CC</td>\n      <td>90 bhp</td>\n      <td>22.4 kgm at 1750-2750rpm</td>\n      <td>5.0</td>\n      <td>True</td>\n      <td>False</td>\n      <td>False</td>\n      <td>True</td>\n      <td>False</td>\n      <td>True</td>\n      <td>False</td>\n      <td>False</td>\n      <td>False</td>\n      <td>False</td>\n    </tr>\n    <tr>\n      <th>Maruti Swift VXI BSIII</th>\n      <td>2007</td>\n      <td>130000</td>\n      <td>120000</td>\n      <td>16.1 kmpl</td>\n      <td>1298 CC</td>\n      <td>88.2 bhp</td>\n      <td>11.5@ 4,500(kgm@ rpm)</td>\n      <td>5.0</td>\n      <td>False</td>\n      <td>False</td>\n      <td>True</td>\n      <td>True</td>\n      <td>False</td>\n      <td>True</td>\n      <td>False</td>\n      <td>False</td>\n      <td>False</td>\n      <td>False</td>\n    </tr>\n    <tr>\n      <th>Hyundai Xcent 1.2 VTVT E Plus</th>\n      <td>2017</td>\n      <td>440000</td>\n      <td>45000</td>\n      <td>20.14 kmpl</td>\n      <td>1197 CC</td>\n      <td>81.86 bhp</td>\n      <td>113.75nm@ 4000rpm</td>\n      <td>5.0</td>\n      <td>False</td>\n      <td>False</td>\n      <td>True</td>\n      <td>True</td>\n      <td>False</td>\n      <td>True</td>\n      <td>False</td>\n      <td>False</td>\n      <td>False</td>\n      <td>False</td>\n    </tr>\n    <tr>\n      <th>...</th>\n      <td>...</td>\n      <td>...</td>\n      <td>...</td>\n      <td>...</td>\n      <td>...</td>\n      <td>...</td>\n      <td>...</td>\n      <td>...</td>\n      <td>...</td>\n      <td>...</td>\n      <td>...</td>\n      <td>...</td>\n      <td>...</td>\n      <td>...</td>\n      <td>...</td>\n      <td>...</td>\n      <td>...</td>\n      <td>...</td>\n    </tr>\n    <tr>\n      <th>Hyundai i20 Magna</th>\n      <td>2013</td>\n      <td>320000</td>\n      <td>110000</td>\n      <td>18.5 kmpl</td>\n      <td>1197 CC</td>\n      <td>82.85 bhp</td>\n      <td>113.7Nm@ 4000rpm</td>\n      <td>5.0</td>\n      <td>False</td>\n      <td>False</td>\n      <td>True</td>\n      <td>True</td>\n      <td>False</td>\n      <td>True</td>\n      <td>False</td>\n      <td>False</td>\n      <td>False</td>\n      <td>False</td>\n    </tr>\n    <tr>\n      <th>Hyundai Verna CRDi SX</th>\n      <td>2007</td>\n      <td>135000</td>\n      <td>119000</td>\n      <td>16.8 kmpl</td>\n      <td>1493 CC</td>\n      <td>110 bhp</td>\n      <td>24@ 1,900-2,750(kgm@ rpm)</td>\n      <td>5.0</td>\n      <td>True</td>\n      <td>False</td>\n      <td>False</td>\n      <td>True</td>\n      <td>False</td>\n      <td>True</td>\n      <td>True</td>\n      <td>False</td>\n      <td>False</td>\n      <td>False</td>\n    </tr>\n    <tr>\n      <th>Maruti Swift Dzire ZDi</th>\n      <td>2009</td>\n      <td>382000</td>\n      <td>120000</td>\n      <td>19.3 kmpl</td>\n      <td>1248 CC</td>\n      <td>73.9 bhp</td>\n      <td>190Nm@ 2000rpm</td>\n      <td>5.0</td>\n      <td>True</td>\n      <td>False</td>\n      <td>False</td>\n      <td>True</td>\n      <td>False</td>\n      <td>True</td>\n      <td>False</td>\n      <td>False</td>\n      <td>False</td>\n      <td>False</td>\n    </tr>\n    <tr>\n      <th>Tata Indigo CR4</th>\n      <td>2013</td>\n      <td>290000</td>\n      <td>25000</td>\n      <td>23.57 kmpl</td>\n      <td>1396 CC</td>\n      <td>70 bhp</td>\n      <td>140Nm@ 1800-3000rpm</td>\n      <td>5.0</td>\n      <td>True</td>\n      <td>False</td>\n      <td>False</td>\n      <td>True</td>\n      <td>False</td>\n      <td>True</td>\n      <td>False</td>\n      <td>False</td>\n      <td>False</td>\n      <td>False</td>\n    </tr>\n    <tr>\n      <th>Tata Indigo CR4</th>\n      <td>2013</td>\n      <td>290000</td>\n      <td>25000</td>\n      <td>23.57 kmpl</td>\n      <td>1396 CC</td>\n      <td>70 bhp</td>\n      <td>140Nm@ 1800-3000rpm</td>\n      <td>5.0</td>\n      <td>True</td>\n      <td>False</td>\n      <td>False</td>\n      <td>True</td>\n      <td>False</td>\n      <td>True</td>\n      <td>False</td>\n      <td>False</td>\n      <td>False</td>\n      <td>False</td>\n    </tr>\n  </tbody>\n</table>\n<p>7905 rows × 18 columns</p>\n</div>"
     },
     "execution_count": 666,
     "metadata": {},
     "output_type": "execute_result"
    }
   ],
   "source": [
    "df"
   ],
   "metadata": {
    "collapsed": false,
    "ExecuteTime": {
     "end_time": "2023-10-06T12:16:39.388996Z",
     "start_time": "2023-10-06T12:16:38.984504Z"
    }
   }
  },
  {
   "cell_type": "code",
   "execution_count": 667,
   "outputs": [],
   "source": [
    "def mils(n):\n",
    "    try: return float(n.split()[0])\n",
    "    except: return n"
   ],
   "metadata": {
    "collapsed": false,
    "ExecuteTime": {
     "end_time": "2023-10-06T12:16:39.388996Z",
     "start_time": "2023-10-06T12:16:39.006534900Z"
    }
   }
  },
  {
   "cell_type": "code",
   "execution_count": 668,
   "outputs": [],
   "source": [
    "df['mileage'] = df['mileage'].apply(mils)"
   ],
   "metadata": {
    "collapsed": false,
    "ExecuteTime": {
     "end_time": "2023-10-06T12:16:39.388996Z",
     "start_time": "2023-10-06T12:16:39.013248900Z"
    }
   }
  },
  {
   "cell_type": "code",
   "execution_count": 669,
   "outputs": [
    {
     "data": {
      "text/plain": "                               year  selling_price  km_driven  mileage  \\\nname                                                                     \nSkoda Rapid 1.5 TDI Ambition   2014         370000     120000    21.14   \nHonda City 2017-2020 EXi       2006         158000     140000    17.70   \nHyundai i20 Sportz Diesel      2010         225000     127000    23.00   \nMaruti Swift VXI BSIII         2007         130000     120000    16.10   \nHyundai Xcent 1.2 VTVT E Plus  2017         440000      45000    20.14   \n...                             ...            ...        ...      ...   \nHyundai i20 Magna              2013         320000     110000    18.50   \nHyundai Verna CRDi SX          2007         135000     119000    16.80   \nMaruti Swift Dzire ZDi         2009         382000     120000    19.30   \nTata Indigo CR4                2013         290000      25000    23.57   \nTata Indigo CR4                2013         290000      25000    23.57   \n\n                                engine   max_power                     torque  \\\nname                                                                            \nSkoda Rapid 1.5 TDI Ambition   1498 CC  103.52 bhp        250Nm@ 1500-2500rpm   \nHonda City 2017-2020 EXi       1497 CC      78 bhp      12.7@ 2,700(kgm@ rpm)   \nHyundai i20 Sportz Diesel      1396 CC      90 bhp   22.4 kgm at 1750-2750rpm   \nMaruti Swift VXI BSIII         1298 CC    88.2 bhp      11.5@ 4,500(kgm@ rpm)   \nHyundai Xcent 1.2 VTVT E Plus  1197 CC   81.86 bhp          113.75nm@ 4000rpm   \n...                                ...         ...                        ...   \nHyundai i20 Magna              1197 CC   82.85 bhp           113.7Nm@ 4000rpm   \nHyundai Verna CRDi SX          1493 CC     110 bhp  24@ 1,900-2,750(kgm@ rpm)   \nMaruti Swift Dzire ZDi         1248 CC    73.9 bhp             190Nm@ 2000rpm   \nTata Indigo CR4                1396 CC      70 bhp        140Nm@ 1800-3000rpm   \nTata Indigo CR4                1396 CC      70 bhp        140Nm@ 1800-3000rpm   \n\n                               seats  fuel_Diesel  fuel_LPG  fuel_Petrol  \\\nname                                                                       \nSkoda Rapid 1.5 TDI Ambition     5.0         True     False        False   \nHonda City 2017-2020 EXi         5.0        False     False         True   \nHyundai i20 Sportz Diesel        5.0         True     False        False   \nMaruti Swift VXI BSIII           5.0        False     False         True   \nHyundai Xcent 1.2 VTVT E Plus    5.0        False     False         True   \n...                              ...          ...       ...          ...   \nHyundai i20 Magna                5.0        False     False         True   \nHyundai Verna CRDi SX            5.0         True     False        False   \nMaruti Swift Dzire ZDi           5.0         True     False        False   \nTata Indigo CR4                  5.0         True     False        False   \nTata Indigo CR4                  5.0         True     False        False   \n\n                               seller_type_Individual  \\\nname                                                    \nSkoda Rapid 1.5 TDI Ambition                     True   \nHonda City 2017-2020 EXi                         True   \nHyundai i20 Sportz Diesel                        True   \nMaruti Swift VXI BSIII                           True   \nHyundai Xcent 1.2 VTVT E Plus                    True   \n...                                               ...   \nHyundai i20 Magna                                True   \nHyundai Verna CRDi SX                            True   \nMaruti Swift Dzire ZDi                           True   \nTata Indigo CR4                                  True   \nTata Indigo CR4                                  True   \n\n                               seller_type_Trustmark Dealer  \\\nname                                                          \nSkoda Rapid 1.5 TDI Ambition                          False   \nHonda City 2017-2020 EXi                              False   \nHyundai i20 Sportz Diesel                             False   \nMaruti Swift VXI BSIII                                False   \nHyundai Xcent 1.2 VTVT E Plus                         False   \n...                                                     ...   \nHyundai i20 Magna                                     False   \nHyundai Verna CRDi SX                                 False   \nMaruti Swift Dzire ZDi                                False   \nTata Indigo CR4                                       False   \nTata Indigo CR4                                       False   \n\n                               transmission_Manual  \\\nname                                                 \nSkoda Rapid 1.5 TDI Ambition                  True   \nHonda City 2017-2020 EXi                      True   \nHyundai i20 Sportz Diesel                     True   \nMaruti Swift VXI BSIII                        True   \nHyundai Xcent 1.2 VTVT E Plus                 True   \n...                                            ...   \nHyundai i20 Magna                             True   \nHyundai Verna CRDi SX                         True   \nMaruti Swift Dzire ZDi                        True   \nTata Indigo CR4                               True   \nTata Indigo CR4                               True   \n\n                               owner_Fourth & Above Owner  owner_Second Owner  \\\nname                                                                            \nSkoda Rapid 1.5 TDI Ambition                        False                True   \nHonda City 2017-2020 EXi                            False               False   \nHyundai i20 Sportz Diesel                           False               False   \nMaruti Swift VXI BSIII                              False               False   \nHyundai Xcent 1.2 VTVT E Plus                       False               False   \n...                                                   ...                 ...   \nHyundai i20 Magna                                   False               False   \nHyundai Verna CRDi SX                                True               False   \nMaruti Swift Dzire ZDi                              False               False   \nTata Indigo CR4                                     False               False   \nTata Indigo CR4                                     False               False   \n\n                               owner_Test Drive Car  owner_Third Owner  \nname                                                                    \nSkoda Rapid 1.5 TDI Ambition                  False              False  \nHonda City 2017-2020 EXi                      False               True  \nHyundai i20 Sportz Diesel                     False              False  \nMaruti Swift VXI BSIII                        False              False  \nHyundai Xcent 1.2 VTVT E Plus                 False              False  \n...                                             ...                ...  \nHyundai i20 Magna                             False              False  \nHyundai Verna CRDi SX                         False              False  \nMaruti Swift Dzire ZDi                        False              False  \nTata Indigo CR4                               False              False  \nTata Indigo CR4                               False              False  \n\n[7905 rows x 18 columns]",
      "text/html": "<div>\n<style scoped>\n    .dataframe tbody tr th:only-of-type {\n        vertical-align: middle;\n    }\n\n    .dataframe tbody tr th {\n        vertical-align: top;\n    }\n\n    .dataframe thead th {\n        text-align: right;\n    }\n</style>\n<table border=\"1\" class=\"dataframe\">\n  <thead>\n    <tr style=\"text-align: right;\">\n      <th></th>\n      <th>year</th>\n      <th>selling_price</th>\n      <th>km_driven</th>\n      <th>mileage</th>\n      <th>engine</th>\n      <th>max_power</th>\n      <th>torque</th>\n      <th>seats</th>\n      <th>fuel_Diesel</th>\n      <th>fuel_LPG</th>\n      <th>fuel_Petrol</th>\n      <th>seller_type_Individual</th>\n      <th>seller_type_Trustmark Dealer</th>\n      <th>transmission_Manual</th>\n      <th>owner_Fourth &amp; Above Owner</th>\n      <th>owner_Second Owner</th>\n      <th>owner_Test Drive Car</th>\n      <th>owner_Third Owner</th>\n    </tr>\n    <tr>\n      <th>name</th>\n      <th></th>\n      <th></th>\n      <th></th>\n      <th></th>\n      <th></th>\n      <th></th>\n      <th></th>\n      <th></th>\n      <th></th>\n      <th></th>\n      <th></th>\n      <th></th>\n      <th></th>\n      <th></th>\n      <th></th>\n      <th></th>\n      <th></th>\n      <th></th>\n    </tr>\n  </thead>\n  <tbody>\n    <tr>\n      <th>Skoda Rapid 1.5 TDI Ambition</th>\n      <td>2014</td>\n      <td>370000</td>\n      <td>120000</td>\n      <td>21.14</td>\n      <td>1498 CC</td>\n      <td>103.52 bhp</td>\n      <td>250Nm@ 1500-2500rpm</td>\n      <td>5.0</td>\n      <td>True</td>\n      <td>False</td>\n      <td>False</td>\n      <td>True</td>\n      <td>False</td>\n      <td>True</td>\n      <td>False</td>\n      <td>True</td>\n      <td>False</td>\n      <td>False</td>\n    </tr>\n    <tr>\n      <th>Honda City 2017-2020 EXi</th>\n      <td>2006</td>\n      <td>158000</td>\n      <td>140000</td>\n      <td>17.70</td>\n      <td>1497 CC</td>\n      <td>78 bhp</td>\n      <td>12.7@ 2,700(kgm@ rpm)</td>\n      <td>5.0</td>\n      <td>False</td>\n      <td>False</td>\n      <td>True</td>\n      <td>True</td>\n      <td>False</td>\n      <td>True</td>\n      <td>False</td>\n      <td>False</td>\n      <td>False</td>\n      <td>True</td>\n    </tr>\n    <tr>\n      <th>Hyundai i20 Sportz Diesel</th>\n      <td>2010</td>\n      <td>225000</td>\n      <td>127000</td>\n      <td>23.00</td>\n      <td>1396 CC</td>\n      <td>90 bhp</td>\n      <td>22.4 kgm at 1750-2750rpm</td>\n      <td>5.0</td>\n      <td>True</td>\n      <td>False</td>\n      <td>False</td>\n      <td>True</td>\n      <td>False</td>\n      <td>True</td>\n      <td>False</td>\n      <td>False</td>\n      <td>False</td>\n      <td>False</td>\n    </tr>\n    <tr>\n      <th>Maruti Swift VXI BSIII</th>\n      <td>2007</td>\n      <td>130000</td>\n      <td>120000</td>\n      <td>16.10</td>\n      <td>1298 CC</td>\n      <td>88.2 bhp</td>\n      <td>11.5@ 4,500(kgm@ rpm)</td>\n      <td>5.0</td>\n      <td>False</td>\n      <td>False</td>\n      <td>True</td>\n      <td>True</td>\n      <td>False</td>\n      <td>True</td>\n      <td>False</td>\n      <td>False</td>\n      <td>False</td>\n      <td>False</td>\n    </tr>\n    <tr>\n      <th>Hyundai Xcent 1.2 VTVT E Plus</th>\n      <td>2017</td>\n      <td>440000</td>\n      <td>45000</td>\n      <td>20.14</td>\n      <td>1197 CC</td>\n      <td>81.86 bhp</td>\n      <td>113.75nm@ 4000rpm</td>\n      <td>5.0</td>\n      <td>False</td>\n      <td>False</td>\n      <td>True</td>\n      <td>True</td>\n      <td>False</td>\n      <td>True</td>\n      <td>False</td>\n      <td>False</td>\n      <td>False</td>\n      <td>False</td>\n    </tr>\n    <tr>\n      <th>...</th>\n      <td>...</td>\n      <td>...</td>\n      <td>...</td>\n      <td>...</td>\n      <td>...</td>\n      <td>...</td>\n      <td>...</td>\n      <td>...</td>\n      <td>...</td>\n      <td>...</td>\n      <td>...</td>\n      <td>...</td>\n      <td>...</td>\n      <td>...</td>\n      <td>...</td>\n      <td>...</td>\n      <td>...</td>\n      <td>...</td>\n    </tr>\n    <tr>\n      <th>Hyundai i20 Magna</th>\n      <td>2013</td>\n      <td>320000</td>\n      <td>110000</td>\n      <td>18.50</td>\n      <td>1197 CC</td>\n      <td>82.85 bhp</td>\n      <td>113.7Nm@ 4000rpm</td>\n      <td>5.0</td>\n      <td>False</td>\n      <td>False</td>\n      <td>True</td>\n      <td>True</td>\n      <td>False</td>\n      <td>True</td>\n      <td>False</td>\n      <td>False</td>\n      <td>False</td>\n      <td>False</td>\n    </tr>\n    <tr>\n      <th>Hyundai Verna CRDi SX</th>\n      <td>2007</td>\n      <td>135000</td>\n      <td>119000</td>\n      <td>16.80</td>\n      <td>1493 CC</td>\n      <td>110 bhp</td>\n      <td>24@ 1,900-2,750(kgm@ rpm)</td>\n      <td>5.0</td>\n      <td>True</td>\n      <td>False</td>\n      <td>False</td>\n      <td>True</td>\n      <td>False</td>\n      <td>True</td>\n      <td>True</td>\n      <td>False</td>\n      <td>False</td>\n      <td>False</td>\n    </tr>\n    <tr>\n      <th>Maruti Swift Dzire ZDi</th>\n      <td>2009</td>\n      <td>382000</td>\n      <td>120000</td>\n      <td>19.30</td>\n      <td>1248 CC</td>\n      <td>73.9 bhp</td>\n      <td>190Nm@ 2000rpm</td>\n      <td>5.0</td>\n      <td>True</td>\n      <td>False</td>\n      <td>False</td>\n      <td>True</td>\n      <td>False</td>\n      <td>True</td>\n      <td>False</td>\n      <td>False</td>\n      <td>False</td>\n      <td>False</td>\n    </tr>\n    <tr>\n      <th>Tata Indigo CR4</th>\n      <td>2013</td>\n      <td>290000</td>\n      <td>25000</td>\n      <td>23.57</td>\n      <td>1396 CC</td>\n      <td>70 bhp</td>\n      <td>140Nm@ 1800-3000rpm</td>\n      <td>5.0</td>\n      <td>True</td>\n      <td>False</td>\n      <td>False</td>\n      <td>True</td>\n      <td>False</td>\n      <td>True</td>\n      <td>False</td>\n      <td>False</td>\n      <td>False</td>\n      <td>False</td>\n    </tr>\n    <tr>\n      <th>Tata Indigo CR4</th>\n      <td>2013</td>\n      <td>290000</td>\n      <td>25000</td>\n      <td>23.57</td>\n      <td>1396 CC</td>\n      <td>70 bhp</td>\n      <td>140Nm@ 1800-3000rpm</td>\n      <td>5.0</td>\n      <td>True</td>\n      <td>False</td>\n      <td>False</td>\n      <td>True</td>\n      <td>False</td>\n      <td>True</td>\n      <td>False</td>\n      <td>False</td>\n      <td>False</td>\n      <td>False</td>\n    </tr>\n  </tbody>\n</table>\n<p>7905 rows × 18 columns</p>\n</div>"
     },
     "execution_count": 669,
     "metadata": {},
     "output_type": "execute_result"
    }
   ],
   "source": [
    "df"
   ],
   "metadata": {
    "collapsed": false,
    "ExecuteTime": {
     "end_time": "2023-10-06T12:16:39.388996Z",
     "start_time": "2023-10-06T12:16:39.023603500Z"
    }
   }
  },
  {
   "cell_type": "code",
   "execution_count": 670,
   "outputs": [],
   "source": [
    "df['engine'] = df['engine'].apply(mils)"
   ],
   "metadata": {
    "collapsed": false,
    "ExecuteTime": {
     "end_time": "2023-10-06T12:16:39.389997400Z",
     "start_time": "2023-10-06T12:16:39.045873700Z"
    }
   }
  },
  {
   "cell_type": "code",
   "execution_count": 671,
   "outputs": [
    {
     "data": {
      "text/plain": "                               year  selling_price  km_driven  mileage  \\\nname                                                                     \nSkoda Rapid 1.5 TDI Ambition   2014         370000     120000    21.14   \nHonda City 2017-2020 EXi       2006         158000     140000    17.70   \nHyundai i20 Sportz Diesel      2010         225000     127000    23.00   \nMaruti Swift VXI BSIII         2007         130000     120000    16.10   \nHyundai Xcent 1.2 VTVT E Plus  2017         440000      45000    20.14   \n...                             ...            ...        ...      ...   \nHyundai i20 Magna              2013         320000     110000    18.50   \nHyundai Verna CRDi SX          2007         135000     119000    16.80   \nMaruti Swift Dzire ZDi         2009         382000     120000    19.30   \nTata Indigo CR4                2013         290000      25000    23.57   \nTata Indigo CR4                2013         290000      25000    23.57   \n\n                               engine   max_power                     torque  \\\nname                                                                           \nSkoda Rapid 1.5 TDI Ambition   1498.0  103.52 bhp        250Nm@ 1500-2500rpm   \nHonda City 2017-2020 EXi       1497.0      78 bhp      12.7@ 2,700(kgm@ rpm)   \nHyundai i20 Sportz Diesel      1396.0      90 bhp   22.4 kgm at 1750-2750rpm   \nMaruti Swift VXI BSIII         1298.0    88.2 bhp      11.5@ 4,500(kgm@ rpm)   \nHyundai Xcent 1.2 VTVT E Plus  1197.0   81.86 bhp          113.75nm@ 4000rpm   \n...                               ...         ...                        ...   \nHyundai i20 Magna              1197.0   82.85 bhp           113.7Nm@ 4000rpm   \nHyundai Verna CRDi SX          1493.0     110 bhp  24@ 1,900-2,750(kgm@ rpm)   \nMaruti Swift Dzire ZDi         1248.0    73.9 bhp             190Nm@ 2000rpm   \nTata Indigo CR4                1396.0      70 bhp        140Nm@ 1800-3000rpm   \nTata Indigo CR4                1396.0      70 bhp        140Nm@ 1800-3000rpm   \n\n                               seats  fuel_Diesel  fuel_LPG  fuel_Petrol  \\\nname                                                                       \nSkoda Rapid 1.5 TDI Ambition     5.0         True     False        False   \nHonda City 2017-2020 EXi         5.0        False     False         True   \nHyundai i20 Sportz Diesel        5.0         True     False        False   \nMaruti Swift VXI BSIII           5.0        False     False         True   \nHyundai Xcent 1.2 VTVT E Plus    5.0        False     False         True   \n...                              ...          ...       ...          ...   \nHyundai i20 Magna                5.0        False     False         True   \nHyundai Verna CRDi SX            5.0         True     False        False   \nMaruti Swift Dzire ZDi           5.0         True     False        False   \nTata Indigo CR4                  5.0         True     False        False   \nTata Indigo CR4                  5.0         True     False        False   \n\n                               seller_type_Individual  \\\nname                                                    \nSkoda Rapid 1.5 TDI Ambition                     True   \nHonda City 2017-2020 EXi                         True   \nHyundai i20 Sportz Diesel                        True   \nMaruti Swift VXI BSIII                           True   \nHyundai Xcent 1.2 VTVT E Plus                    True   \n...                                               ...   \nHyundai i20 Magna                                True   \nHyundai Verna CRDi SX                            True   \nMaruti Swift Dzire ZDi                           True   \nTata Indigo CR4                                  True   \nTata Indigo CR4                                  True   \n\n                               seller_type_Trustmark Dealer  \\\nname                                                          \nSkoda Rapid 1.5 TDI Ambition                          False   \nHonda City 2017-2020 EXi                              False   \nHyundai i20 Sportz Diesel                             False   \nMaruti Swift VXI BSIII                                False   \nHyundai Xcent 1.2 VTVT E Plus                         False   \n...                                                     ...   \nHyundai i20 Magna                                     False   \nHyundai Verna CRDi SX                                 False   \nMaruti Swift Dzire ZDi                                False   \nTata Indigo CR4                                       False   \nTata Indigo CR4                                       False   \n\n                               transmission_Manual  \\\nname                                                 \nSkoda Rapid 1.5 TDI Ambition                  True   \nHonda City 2017-2020 EXi                      True   \nHyundai i20 Sportz Diesel                     True   \nMaruti Swift VXI BSIII                        True   \nHyundai Xcent 1.2 VTVT E Plus                 True   \n...                                            ...   \nHyundai i20 Magna                             True   \nHyundai Verna CRDi SX                         True   \nMaruti Swift Dzire ZDi                        True   \nTata Indigo CR4                               True   \nTata Indigo CR4                               True   \n\n                               owner_Fourth & Above Owner  owner_Second Owner  \\\nname                                                                            \nSkoda Rapid 1.5 TDI Ambition                        False                True   \nHonda City 2017-2020 EXi                            False               False   \nHyundai i20 Sportz Diesel                           False               False   \nMaruti Swift VXI BSIII                              False               False   \nHyundai Xcent 1.2 VTVT E Plus                       False               False   \n...                                                   ...                 ...   \nHyundai i20 Magna                                   False               False   \nHyundai Verna CRDi SX                                True               False   \nMaruti Swift Dzire ZDi                              False               False   \nTata Indigo CR4                                     False               False   \nTata Indigo CR4                                     False               False   \n\n                               owner_Test Drive Car  owner_Third Owner  \nname                                                                    \nSkoda Rapid 1.5 TDI Ambition                  False              False  \nHonda City 2017-2020 EXi                      False               True  \nHyundai i20 Sportz Diesel                     False              False  \nMaruti Swift VXI BSIII                        False              False  \nHyundai Xcent 1.2 VTVT E Plus                 False              False  \n...                                             ...                ...  \nHyundai i20 Magna                             False              False  \nHyundai Verna CRDi SX                         False              False  \nMaruti Swift Dzire ZDi                        False              False  \nTata Indigo CR4                               False              False  \nTata Indigo CR4                               False              False  \n\n[7905 rows x 18 columns]",
      "text/html": "<div>\n<style scoped>\n    .dataframe tbody tr th:only-of-type {\n        vertical-align: middle;\n    }\n\n    .dataframe tbody tr th {\n        vertical-align: top;\n    }\n\n    .dataframe thead th {\n        text-align: right;\n    }\n</style>\n<table border=\"1\" class=\"dataframe\">\n  <thead>\n    <tr style=\"text-align: right;\">\n      <th></th>\n      <th>year</th>\n      <th>selling_price</th>\n      <th>km_driven</th>\n      <th>mileage</th>\n      <th>engine</th>\n      <th>max_power</th>\n      <th>torque</th>\n      <th>seats</th>\n      <th>fuel_Diesel</th>\n      <th>fuel_LPG</th>\n      <th>fuel_Petrol</th>\n      <th>seller_type_Individual</th>\n      <th>seller_type_Trustmark Dealer</th>\n      <th>transmission_Manual</th>\n      <th>owner_Fourth &amp; Above Owner</th>\n      <th>owner_Second Owner</th>\n      <th>owner_Test Drive Car</th>\n      <th>owner_Third Owner</th>\n    </tr>\n    <tr>\n      <th>name</th>\n      <th></th>\n      <th></th>\n      <th></th>\n      <th></th>\n      <th></th>\n      <th></th>\n      <th></th>\n      <th></th>\n      <th></th>\n      <th></th>\n      <th></th>\n      <th></th>\n      <th></th>\n      <th></th>\n      <th></th>\n      <th></th>\n      <th></th>\n      <th></th>\n    </tr>\n  </thead>\n  <tbody>\n    <tr>\n      <th>Skoda Rapid 1.5 TDI Ambition</th>\n      <td>2014</td>\n      <td>370000</td>\n      <td>120000</td>\n      <td>21.14</td>\n      <td>1498.0</td>\n      <td>103.52 bhp</td>\n      <td>250Nm@ 1500-2500rpm</td>\n      <td>5.0</td>\n      <td>True</td>\n      <td>False</td>\n      <td>False</td>\n      <td>True</td>\n      <td>False</td>\n      <td>True</td>\n      <td>False</td>\n      <td>True</td>\n      <td>False</td>\n      <td>False</td>\n    </tr>\n    <tr>\n      <th>Honda City 2017-2020 EXi</th>\n      <td>2006</td>\n      <td>158000</td>\n      <td>140000</td>\n      <td>17.70</td>\n      <td>1497.0</td>\n      <td>78 bhp</td>\n      <td>12.7@ 2,700(kgm@ rpm)</td>\n      <td>5.0</td>\n      <td>False</td>\n      <td>False</td>\n      <td>True</td>\n      <td>True</td>\n      <td>False</td>\n      <td>True</td>\n      <td>False</td>\n      <td>False</td>\n      <td>False</td>\n      <td>True</td>\n    </tr>\n    <tr>\n      <th>Hyundai i20 Sportz Diesel</th>\n      <td>2010</td>\n      <td>225000</td>\n      <td>127000</td>\n      <td>23.00</td>\n      <td>1396.0</td>\n      <td>90 bhp</td>\n      <td>22.4 kgm at 1750-2750rpm</td>\n      <td>5.0</td>\n      <td>True</td>\n      <td>False</td>\n      <td>False</td>\n      <td>True</td>\n      <td>False</td>\n      <td>True</td>\n      <td>False</td>\n      <td>False</td>\n      <td>False</td>\n      <td>False</td>\n    </tr>\n    <tr>\n      <th>Maruti Swift VXI BSIII</th>\n      <td>2007</td>\n      <td>130000</td>\n      <td>120000</td>\n      <td>16.10</td>\n      <td>1298.0</td>\n      <td>88.2 bhp</td>\n      <td>11.5@ 4,500(kgm@ rpm)</td>\n      <td>5.0</td>\n      <td>False</td>\n      <td>False</td>\n      <td>True</td>\n      <td>True</td>\n      <td>False</td>\n      <td>True</td>\n      <td>False</td>\n      <td>False</td>\n      <td>False</td>\n      <td>False</td>\n    </tr>\n    <tr>\n      <th>Hyundai Xcent 1.2 VTVT E Plus</th>\n      <td>2017</td>\n      <td>440000</td>\n      <td>45000</td>\n      <td>20.14</td>\n      <td>1197.0</td>\n      <td>81.86 bhp</td>\n      <td>113.75nm@ 4000rpm</td>\n      <td>5.0</td>\n      <td>False</td>\n      <td>False</td>\n      <td>True</td>\n      <td>True</td>\n      <td>False</td>\n      <td>True</td>\n      <td>False</td>\n      <td>False</td>\n      <td>False</td>\n      <td>False</td>\n    </tr>\n    <tr>\n      <th>...</th>\n      <td>...</td>\n      <td>...</td>\n      <td>...</td>\n      <td>...</td>\n      <td>...</td>\n      <td>...</td>\n      <td>...</td>\n      <td>...</td>\n      <td>...</td>\n      <td>...</td>\n      <td>...</td>\n      <td>...</td>\n      <td>...</td>\n      <td>...</td>\n      <td>...</td>\n      <td>...</td>\n      <td>...</td>\n      <td>...</td>\n    </tr>\n    <tr>\n      <th>Hyundai i20 Magna</th>\n      <td>2013</td>\n      <td>320000</td>\n      <td>110000</td>\n      <td>18.50</td>\n      <td>1197.0</td>\n      <td>82.85 bhp</td>\n      <td>113.7Nm@ 4000rpm</td>\n      <td>5.0</td>\n      <td>False</td>\n      <td>False</td>\n      <td>True</td>\n      <td>True</td>\n      <td>False</td>\n      <td>True</td>\n      <td>False</td>\n      <td>False</td>\n      <td>False</td>\n      <td>False</td>\n    </tr>\n    <tr>\n      <th>Hyundai Verna CRDi SX</th>\n      <td>2007</td>\n      <td>135000</td>\n      <td>119000</td>\n      <td>16.80</td>\n      <td>1493.0</td>\n      <td>110 bhp</td>\n      <td>24@ 1,900-2,750(kgm@ rpm)</td>\n      <td>5.0</td>\n      <td>True</td>\n      <td>False</td>\n      <td>False</td>\n      <td>True</td>\n      <td>False</td>\n      <td>True</td>\n      <td>True</td>\n      <td>False</td>\n      <td>False</td>\n      <td>False</td>\n    </tr>\n    <tr>\n      <th>Maruti Swift Dzire ZDi</th>\n      <td>2009</td>\n      <td>382000</td>\n      <td>120000</td>\n      <td>19.30</td>\n      <td>1248.0</td>\n      <td>73.9 bhp</td>\n      <td>190Nm@ 2000rpm</td>\n      <td>5.0</td>\n      <td>True</td>\n      <td>False</td>\n      <td>False</td>\n      <td>True</td>\n      <td>False</td>\n      <td>True</td>\n      <td>False</td>\n      <td>False</td>\n      <td>False</td>\n      <td>False</td>\n    </tr>\n    <tr>\n      <th>Tata Indigo CR4</th>\n      <td>2013</td>\n      <td>290000</td>\n      <td>25000</td>\n      <td>23.57</td>\n      <td>1396.0</td>\n      <td>70 bhp</td>\n      <td>140Nm@ 1800-3000rpm</td>\n      <td>5.0</td>\n      <td>True</td>\n      <td>False</td>\n      <td>False</td>\n      <td>True</td>\n      <td>False</td>\n      <td>True</td>\n      <td>False</td>\n      <td>False</td>\n      <td>False</td>\n      <td>False</td>\n    </tr>\n    <tr>\n      <th>Tata Indigo CR4</th>\n      <td>2013</td>\n      <td>290000</td>\n      <td>25000</td>\n      <td>23.57</td>\n      <td>1396.0</td>\n      <td>70 bhp</td>\n      <td>140Nm@ 1800-3000rpm</td>\n      <td>5.0</td>\n      <td>True</td>\n      <td>False</td>\n      <td>False</td>\n      <td>True</td>\n      <td>False</td>\n      <td>True</td>\n      <td>False</td>\n      <td>False</td>\n      <td>False</td>\n      <td>False</td>\n    </tr>\n  </tbody>\n</table>\n<p>7905 rows × 18 columns</p>\n</div>"
     },
     "execution_count": 671,
     "metadata": {},
     "output_type": "execute_result"
    }
   ],
   "source": [
    "df"
   ],
   "metadata": {
    "collapsed": false,
    "ExecuteTime": {
     "end_time": "2023-10-06T12:16:39.389997400Z",
     "start_time": "2023-10-06T12:16:39.055994900Z"
    }
   }
  },
  {
   "cell_type": "code",
   "execution_count": 672,
   "outputs": [],
   "source": [
    "df['max_power'] = df['max_power'].apply(mils)"
   ],
   "metadata": {
    "collapsed": false,
    "ExecuteTime": {
     "end_time": "2023-10-06T12:16:39.389997400Z",
     "start_time": "2023-10-06T12:16:39.081004800Z"
    }
   }
  },
  {
   "cell_type": "code",
   "execution_count": 673,
   "outputs": [
    {
     "data": {
      "text/plain": "year                                           2014\nselling_price                                370000\nkm_driven                                    120000\nmileage                                       21.14\nengine                                       1498.0\nmax_power                                    103.52\ntorque                          250Nm@ 1500-2500rpm\nseats                                           5.0\nfuel_Diesel                                    True\nfuel_LPG                                      False\nfuel_Petrol                                   False\nseller_type_Individual                         True\nseller_type_Trustmark Dealer                  False\ntransmission_Manual                            True\nowner_Fourth & Above Owner                    False\nowner_Second Owner                             True\nowner_Test Drive Car                          False\nowner_Third Owner                             False\nName: Skoda Rapid 1.5 TDI Ambition, dtype: object"
     },
     "execution_count": 673,
     "metadata": {},
     "output_type": "execute_result"
    }
   ],
   "source": [
    "df.iloc[0]"
   ],
   "metadata": {
    "collapsed": false,
    "ExecuteTime": {
     "end_time": "2023-10-06T12:16:39.389997400Z",
     "start_time": "2023-10-06T12:16:39.092615800Z"
    }
   }
  },
  {
   "cell_type": "code",
   "execution_count": 674,
   "outputs": [],
   "source": [
    "def torq(data):\n",
    "    data = data.replace(',','')\n",
    "    if '@' in data: data = data.split('@')[0]\n",
    "    elif 'at' in data: data = data.split('at')[0]\n",
    "    if '/' in data: data = data.split('/')[0]\n",
    "    if '(' in data: data = data.split('(/)')[0]\n",
    "    g = 9.80665\n",
    "    i = 0\n",
    "    for c in data:\n",
    "        if c == '.': continue\n",
    "        if not c.isdigit(): break\n",
    "        i +=1\n",
    "    t = float(data[0:i])\n",
    "    if ('kgm' in data) or ('kgM' in data) or ('KGm' in data) or ('KGM' in data):\n",
    "        return float(t) * g\n",
    "    return float(t)\n",
    "\n",
    "def rp(data):\n",
    "    data = data.replace(',','')\n",
    "    if '@' in data: data = data.split('@')[1]\n",
    "    elif 'at' in data: data = data.split('at')[1]\n",
    "    data = data.split('rpm')[0]\n",
    "    data = data.split('(')[0]\n",
    "    numbers = data.split('-')\n",
    "    try:\n",
    "        for i in range(len(numbers)):\n",
    "            numbers[i] = float(numbers[i])\n",
    "        return np.average(numbers)\n",
    "    except:\n",
    "        return 2750.0\n"
   ],
   "metadata": {
    "collapsed": false,
    "ExecuteTime": {
     "end_time": "2023-10-06T12:16:39.390997Z",
     "start_time": "2023-10-06T12:16:39.105481900Z"
    }
   }
  },
  {
   "cell_type": "code",
   "execution_count": 675,
   "outputs": [],
   "source": [
    "df['torque_value'] = df['torque'].apply(torq)\n",
    "df['rpm'] = df['torque'].apply(rp)\n",
    "df.drop('torque',axis=1,inplace=True)"
   ],
   "metadata": {
    "collapsed": false,
    "ExecuteTime": {
     "end_time": "2023-10-06T12:16:39.390997Z",
     "start_time": "2023-10-06T12:16:39.112332600Z"
    }
   }
  },
  {
   "cell_type": "code",
   "execution_count": 676,
   "outputs": [
    {
     "data": {
      "text/plain": "                               year  selling_price  km_driven  mileage  \\\nname                                                                     \nSkoda Rapid 1.5 TDI Ambition   2014         370000     120000    21.14   \nHonda City 2017-2020 EXi       2006         158000     140000    17.70   \nHyundai i20 Sportz Diesel      2010         225000     127000    23.00   \nMaruti Swift VXI BSIII         2007         130000     120000    16.10   \nHyundai Xcent 1.2 VTVT E Plus  2017         440000      45000    20.14   \n...                             ...            ...        ...      ...   \nHyundai i20 Magna              2013         320000     110000    18.50   \nHyundai Verna CRDi SX          2007         135000     119000    16.80   \nMaruti Swift Dzire ZDi         2009         382000     120000    19.30   \nTata Indigo CR4                2013         290000      25000    23.57   \nTata Indigo CR4                2013         290000      25000    23.57   \n\n                               engine  max_power  seats  fuel_Diesel  \\\nname                                                                   \nSkoda Rapid 1.5 TDI Ambition   1498.0     103.52    5.0         True   \nHonda City 2017-2020 EXi       1497.0      78.00    5.0        False   \nHyundai i20 Sportz Diesel      1396.0      90.00    5.0         True   \nMaruti Swift VXI BSIII         1298.0      88.20    5.0        False   \nHyundai Xcent 1.2 VTVT E Plus  1197.0      81.86    5.0        False   \n...                               ...        ...    ...          ...   \nHyundai i20 Magna              1197.0      82.85    5.0        False   \nHyundai Verna CRDi SX          1493.0     110.00    5.0         True   \nMaruti Swift Dzire ZDi         1248.0      73.90    5.0         True   \nTata Indigo CR4                1396.0      70.00    5.0         True   \nTata Indigo CR4                1396.0      70.00    5.0         True   \n\n                               fuel_LPG  fuel_Petrol  seller_type_Individual  \\\nname                                                                           \nSkoda Rapid 1.5 TDI Ambition      False        False                    True   \nHonda City 2017-2020 EXi          False         True                    True   \nHyundai i20 Sportz Diesel         False        False                    True   \nMaruti Swift VXI BSIII            False         True                    True   \nHyundai Xcent 1.2 VTVT E Plus     False         True                    True   \n...                                 ...          ...                     ...   \nHyundai i20 Magna                 False         True                    True   \nHyundai Verna CRDi SX             False        False                    True   \nMaruti Swift Dzire ZDi            False        False                    True   \nTata Indigo CR4                   False        False                    True   \nTata Indigo CR4                   False        False                    True   \n\n                               seller_type_Trustmark Dealer  \\\nname                                                          \nSkoda Rapid 1.5 TDI Ambition                          False   \nHonda City 2017-2020 EXi                              False   \nHyundai i20 Sportz Diesel                             False   \nMaruti Swift VXI BSIII                                False   \nHyundai Xcent 1.2 VTVT E Plus                         False   \n...                                                     ...   \nHyundai i20 Magna                                     False   \nHyundai Verna CRDi SX                                 False   \nMaruti Swift Dzire ZDi                                False   \nTata Indigo CR4                                       False   \nTata Indigo CR4                                       False   \n\n                               transmission_Manual  \\\nname                                                 \nSkoda Rapid 1.5 TDI Ambition                  True   \nHonda City 2017-2020 EXi                      True   \nHyundai i20 Sportz Diesel                     True   \nMaruti Swift VXI BSIII                        True   \nHyundai Xcent 1.2 VTVT E Plus                 True   \n...                                            ...   \nHyundai i20 Magna                             True   \nHyundai Verna CRDi SX                         True   \nMaruti Swift Dzire ZDi                        True   \nTata Indigo CR4                               True   \nTata Indigo CR4                               True   \n\n                               owner_Fourth & Above Owner  owner_Second Owner  \\\nname                                                                            \nSkoda Rapid 1.5 TDI Ambition                        False                True   \nHonda City 2017-2020 EXi                            False               False   \nHyundai i20 Sportz Diesel                           False               False   \nMaruti Swift VXI BSIII                              False               False   \nHyundai Xcent 1.2 VTVT E Plus                       False               False   \n...                                                   ...                 ...   \nHyundai i20 Magna                                   False               False   \nHyundai Verna CRDi SX                                True               False   \nMaruti Swift Dzire ZDi                              False               False   \nTata Indigo CR4                                     False               False   \nTata Indigo CR4                                     False               False   \n\n                               owner_Test Drive Car  owner_Third Owner  \\\nname                                                                     \nSkoda Rapid 1.5 TDI Ambition                  False              False   \nHonda City 2017-2020 EXi                      False               True   \nHyundai i20 Sportz Diesel                     False              False   \nMaruti Swift VXI BSIII                        False              False   \nHyundai Xcent 1.2 VTVT E Plus                 False              False   \n...                                             ...                ...   \nHyundai i20 Magna                             False              False   \nHyundai Verna CRDi SX                         False              False   \nMaruti Swift Dzire ZDi                        False              False   \nTata Indigo CR4                               False              False   \nTata Indigo CR4                               False              False   \n\n                               torque_value     rpm  \nname                                                 \nSkoda Rapid 1.5 TDI Ambition       250.0000  2000.0  \nHonda City 2017-2020 EXi            12.0000  2700.0  \nHyundai i20 Sportz Diesel          215.7463  2250.0  \nMaruti Swift VXI BSIII              11.0000  4500.0  \nHyundai Xcent 1.2 VTVT E Plus      113.7000  4000.0  \n...                                     ...     ...  \nHyundai i20 Magna                  113.0000  4000.0  \nHyundai Verna CRDi SX               24.0000  2325.0  \nMaruti Swift Dzire ZDi             190.0000  2000.0  \nTata Indigo CR4                    140.0000  2400.0  \nTata Indigo CR4                    140.0000  2400.0  \n\n[7905 rows x 19 columns]",
      "text/html": "<div>\n<style scoped>\n    .dataframe tbody tr th:only-of-type {\n        vertical-align: middle;\n    }\n\n    .dataframe tbody tr th {\n        vertical-align: top;\n    }\n\n    .dataframe thead th {\n        text-align: right;\n    }\n</style>\n<table border=\"1\" class=\"dataframe\">\n  <thead>\n    <tr style=\"text-align: right;\">\n      <th></th>\n      <th>year</th>\n      <th>selling_price</th>\n      <th>km_driven</th>\n      <th>mileage</th>\n      <th>engine</th>\n      <th>max_power</th>\n      <th>seats</th>\n      <th>fuel_Diesel</th>\n      <th>fuel_LPG</th>\n      <th>fuel_Petrol</th>\n      <th>seller_type_Individual</th>\n      <th>seller_type_Trustmark Dealer</th>\n      <th>transmission_Manual</th>\n      <th>owner_Fourth &amp; Above Owner</th>\n      <th>owner_Second Owner</th>\n      <th>owner_Test Drive Car</th>\n      <th>owner_Third Owner</th>\n      <th>torque_value</th>\n      <th>rpm</th>\n    </tr>\n    <tr>\n      <th>name</th>\n      <th></th>\n      <th></th>\n      <th></th>\n      <th></th>\n      <th></th>\n      <th></th>\n      <th></th>\n      <th></th>\n      <th></th>\n      <th></th>\n      <th></th>\n      <th></th>\n      <th></th>\n      <th></th>\n      <th></th>\n      <th></th>\n      <th></th>\n      <th></th>\n      <th></th>\n    </tr>\n  </thead>\n  <tbody>\n    <tr>\n      <th>Skoda Rapid 1.5 TDI Ambition</th>\n      <td>2014</td>\n      <td>370000</td>\n      <td>120000</td>\n      <td>21.14</td>\n      <td>1498.0</td>\n      <td>103.52</td>\n      <td>5.0</td>\n      <td>True</td>\n      <td>False</td>\n      <td>False</td>\n      <td>True</td>\n      <td>False</td>\n      <td>True</td>\n      <td>False</td>\n      <td>True</td>\n      <td>False</td>\n      <td>False</td>\n      <td>250.0000</td>\n      <td>2000.0</td>\n    </tr>\n    <tr>\n      <th>Honda City 2017-2020 EXi</th>\n      <td>2006</td>\n      <td>158000</td>\n      <td>140000</td>\n      <td>17.70</td>\n      <td>1497.0</td>\n      <td>78.00</td>\n      <td>5.0</td>\n      <td>False</td>\n      <td>False</td>\n      <td>True</td>\n      <td>True</td>\n      <td>False</td>\n      <td>True</td>\n      <td>False</td>\n      <td>False</td>\n      <td>False</td>\n      <td>True</td>\n      <td>12.0000</td>\n      <td>2700.0</td>\n    </tr>\n    <tr>\n      <th>Hyundai i20 Sportz Diesel</th>\n      <td>2010</td>\n      <td>225000</td>\n      <td>127000</td>\n      <td>23.00</td>\n      <td>1396.0</td>\n      <td>90.00</td>\n      <td>5.0</td>\n      <td>True</td>\n      <td>False</td>\n      <td>False</td>\n      <td>True</td>\n      <td>False</td>\n      <td>True</td>\n      <td>False</td>\n      <td>False</td>\n      <td>False</td>\n      <td>False</td>\n      <td>215.7463</td>\n      <td>2250.0</td>\n    </tr>\n    <tr>\n      <th>Maruti Swift VXI BSIII</th>\n      <td>2007</td>\n      <td>130000</td>\n      <td>120000</td>\n      <td>16.10</td>\n      <td>1298.0</td>\n      <td>88.20</td>\n      <td>5.0</td>\n      <td>False</td>\n      <td>False</td>\n      <td>True</td>\n      <td>True</td>\n      <td>False</td>\n      <td>True</td>\n      <td>False</td>\n      <td>False</td>\n      <td>False</td>\n      <td>False</td>\n      <td>11.0000</td>\n      <td>4500.0</td>\n    </tr>\n    <tr>\n      <th>Hyundai Xcent 1.2 VTVT E Plus</th>\n      <td>2017</td>\n      <td>440000</td>\n      <td>45000</td>\n      <td>20.14</td>\n      <td>1197.0</td>\n      <td>81.86</td>\n      <td>5.0</td>\n      <td>False</td>\n      <td>False</td>\n      <td>True</td>\n      <td>True</td>\n      <td>False</td>\n      <td>True</td>\n      <td>False</td>\n      <td>False</td>\n      <td>False</td>\n      <td>False</td>\n      <td>113.7000</td>\n      <td>4000.0</td>\n    </tr>\n    <tr>\n      <th>...</th>\n      <td>...</td>\n      <td>...</td>\n      <td>...</td>\n      <td>...</td>\n      <td>...</td>\n      <td>...</td>\n      <td>...</td>\n      <td>...</td>\n      <td>...</td>\n      <td>...</td>\n      <td>...</td>\n      <td>...</td>\n      <td>...</td>\n      <td>...</td>\n      <td>...</td>\n      <td>...</td>\n      <td>...</td>\n      <td>...</td>\n      <td>...</td>\n    </tr>\n    <tr>\n      <th>Hyundai i20 Magna</th>\n      <td>2013</td>\n      <td>320000</td>\n      <td>110000</td>\n      <td>18.50</td>\n      <td>1197.0</td>\n      <td>82.85</td>\n      <td>5.0</td>\n      <td>False</td>\n      <td>False</td>\n      <td>True</td>\n      <td>True</td>\n      <td>False</td>\n      <td>True</td>\n      <td>False</td>\n      <td>False</td>\n      <td>False</td>\n      <td>False</td>\n      <td>113.0000</td>\n      <td>4000.0</td>\n    </tr>\n    <tr>\n      <th>Hyundai Verna CRDi SX</th>\n      <td>2007</td>\n      <td>135000</td>\n      <td>119000</td>\n      <td>16.80</td>\n      <td>1493.0</td>\n      <td>110.00</td>\n      <td>5.0</td>\n      <td>True</td>\n      <td>False</td>\n      <td>False</td>\n      <td>True</td>\n      <td>False</td>\n      <td>True</td>\n      <td>True</td>\n      <td>False</td>\n      <td>False</td>\n      <td>False</td>\n      <td>24.0000</td>\n      <td>2325.0</td>\n    </tr>\n    <tr>\n      <th>Maruti Swift Dzire ZDi</th>\n      <td>2009</td>\n      <td>382000</td>\n      <td>120000</td>\n      <td>19.30</td>\n      <td>1248.0</td>\n      <td>73.90</td>\n      <td>5.0</td>\n      <td>True</td>\n      <td>False</td>\n      <td>False</td>\n      <td>True</td>\n      <td>False</td>\n      <td>True</td>\n      <td>False</td>\n      <td>False</td>\n      <td>False</td>\n      <td>False</td>\n      <td>190.0000</td>\n      <td>2000.0</td>\n    </tr>\n    <tr>\n      <th>Tata Indigo CR4</th>\n      <td>2013</td>\n      <td>290000</td>\n      <td>25000</td>\n      <td>23.57</td>\n      <td>1396.0</td>\n      <td>70.00</td>\n      <td>5.0</td>\n      <td>True</td>\n      <td>False</td>\n      <td>False</td>\n      <td>True</td>\n      <td>False</td>\n      <td>True</td>\n      <td>False</td>\n      <td>False</td>\n      <td>False</td>\n      <td>False</td>\n      <td>140.0000</td>\n      <td>2400.0</td>\n    </tr>\n    <tr>\n      <th>Tata Indigo CR4</th>\n      <td>2013</td>\n      <td>290000</td>\n      <td>25000</td>\n      <td>23.57</td>\n      <td>1396.0</td>\n      <td>70.00</td>\n      <td>5.0</td>\n      <td>True</td>\n      <td>False</td>\n      <td>False</td>\n      <td>True</td>\n      <td>False</td>\n      <td>True</td>\n      <td>False</td>\n      <td>False</td>\n      <td>False</td>\n      <td>False</td>\n      <td>140.0000</td>\n      <td>2400.0</td>\n    </tr>\n  </tbody>\n</table>\n<p>7905 rows × 19 columns</p>\n</div>"
     },
     "execution_count": 676,
     "metadata": {},
     "output_type": "execute_result"
    }
   ],
   "source": [
    "df"
   ],
   "metadata": {
    "collapsed": false,
    "ExecuteTime": {
     "end_time": "2023-10-06T12:16:39.391999800Z",
     "start_time": "2023-10-06T12:16:39.215469900Z"
    }
   }
  },
  {
   "cell_type": "code",
   "execution_count": 677,
   "outputs": [
    {
     "data": {
      "text/plain": "year                              2014\nkm_driven                       120000\nmileage                          21.14\nengine                          1498.0\nmax_power                       103.52\nseats                              5.0\nfuel_Diesel                       True\nfuel_LPG                         False\nfuel_Petrol                      False\nseller_type_Individual            True\nseller_type_Trustmark Dealer     False\ntransmission_Manual               True\nowner_Fourth & Above Owner       False\nowner_Second Owner                True\nowner_Test Drive Car             False\nowner_Third Owner                False\ntorque_value                     250.0\nrpm                             2000.0\nName: Skoda Rapid 1.5 TDI Ambition, dtype: object"
     },
     "execution_count": 677,
     "metadata": {},
     "output_type": "execute_result"
    }
   ],
   "source": [
    "df.drop('selling_price', axis=1).iloc[0]"
   ],
   "metadata": {
    "collapsed": false,
    "ExecuteTime": {
     "end_time": "2023-10-06T12:16:39.391999800Z",
     "start_time": "2023-10-06T12:16:39.247420500Z"
    }
   }
  },
  {
   "cell_type": "code",
   "execution_count": 678,
   "outputs": [],
   "source": [
    "def name(data) :\n",
    "    return data.split()[0]"
   ],
   "metadata": {
    "collapsed": false,
    "ExecuteTime": {
     "end_time": "2023-10-06T12:16:39.391999800Z",
     "start_time": "2023-10-06T12:16:39.261341600Z"
    }
   }
  },
  {
   "cell_type": "code",
   "execution_count": 679,
   "outputs": [],
   "source": [
    "df['brand'] = df.index.map(name)"
   ],
   "metadata": {
    "collapsed": false,
    "ExecuteTime": {
     "end_time": "2023-10-06T12:16:39.421191200Z",
     "start_time": "2023-10-06T12:16:39.267687Z"
    }
   }
  },
  {
   "cell_type": "code",
   "execution_count": 680,
   "outputs": [
    {
     "data": {
      "text/plain": "array(['Skoda', 'Honda', 'Hyundai', 'Maruti', 'Toyota', 'Ford', 'Renault',\n       'Mahindra', 'Tata', 'Chevrolet', 'Datsun', 'Jeep', 'Mercedes-Benz',\n       'Mitsubishi', 'Audi', 'Volkswagen', 'BMW', 'Nissan', 'Lexus',\n       'Jaguar', 'Land', 'MG', 'Volvo', 'Daewoo', 'Kia', 'Fiat', 'Force',\n       'Ambassador', 'Ashok', 'Isuzu', 'Opel'], dtype=object)"
     },
     "execution_count": 680,
     "metadata": {},
     "output_type": "execute_result"
    }
   ],
   "source": [
    "df['brand'].unique()"
   ],
   "metadata": {
    "collapsed": false,
    "ExecuteTime": {
     "end_time": "2023-10-06T12:16:39.421191200Z",
     "start_time": "2023-10-06T12:16:39.284003700Z"
    }
   }
  },
  {
   "cell_type": "code",
   "execution_count": 681,
   "outputs": [],
   "source": [
    "df = pd.get_dummies(data=df,columns=['brand'])"
   ],
   "metadata": {
    "collapsed": false,
    "ExecuteTime": {
     "end_time": "2023-10-06T12:16:39.421191200Z",
     "start_time": "2023-10-06T12:16:39.296204800Z"
    }
   }
  },
  {
   "cell_type": "code",
   "execution_count": 682,
   "outputs": [
    {
     "data": {
      "text/plain": "                               year  selling_price  km_driven  mileage  \\\nname                                                                     \nSkoda Rapid 1.5 TDI Ambition   2014         370000     120000    21.14   \nHonda City 2017-2020 EXi       2006         158000     140000    17.70   \nHyundai i20 Sportz Diesel      2010         225000     127000    23.00   \nMaruti Swift VXI BSIII         2007         130000     120000    16.10   \nHyundai Xcent 1.2 VTVT E Plus  2017         440000      45000    20.14   \n...                             ...            ...        ...      ...   \nHyundai i20 Magna              2013         320000     110000    18.50   \nHyundai Verna CRDi SX          2007         135000     119000    16.80   \nMaruti Swift Dzire ZDi         2009         382000     120000    19.30   \nTata Indigo CR4                2013         290000      25000    23.57   \nTata Indigo CR4                2013         290000      25000    23.57   \n\n                               engine  max_power  seats  fuel_Diesel  \\\nname                                                                   \nSkoda Rapid 1.5 TDI Ambition   1498.0     103.52    5.0         True   \nHonda City 2017-2020 EXi       1497.0      78.00    5.0        False   \nHyundai i20 Sportz Diesel      1396.0      90.00    5.0         True   \nMaruti Swift VXI BSIII         1298.0      88.20    5.0        False   \nHyundai Xcent 1.2 VTVT E Plus  1197.0      81.86    5.0        False   \n...                               ...        ...    ...          ...   \nHyundai i20 Magna              1197.0      82.85    5.0        False   \nHyundai Verna CRDi SX          1493.0     110.00    5.0         True   \nMaruti Swift Dzire ZDi         1248.0      73.90    5.0         True   \nTata Indigo CR4                1396.0      70.00    5.0         True   \nTata Indigo CR4                1396.0      70.00    5.0         True   \n\n                               fuel_LPG  fuel_Petrol  ...  \\\nname                                                  ...   \nSkoda Rapid 1.5 TDI Ambition      False        False  ...   \nHonda City 2017-2020 EXi          False         True  ...   \nHyundai i20 Sportz Diesel         False        False  ...   \nMaruti Swift VXI BSIII            False         True  ...   \nHyundai Xcent 1.2 VTVT E Plus     False         True  ...   \n...                                 ...          ...  ...   \nHyundai i20 Magna                 False         True  ...   \nHyundai Verna CRDi SX             False        False  ...   \nMaruti Swift Dzire ZDi            False        False  ...   \nTata Indigo CR4                   False        False  ...   \nTata Indigo CR4                   False        False  ...   \n\n                               brand_Mercedes-Benz  brand_Mitsubishi  \\\nname                                                                   \nSkoda Rapid 1.5 TDI Ambition                 False             False   \nHonda City 2017-2020 EXi                     False             False   \nHyundai i20 Sportz Diesel                    False             False   \nMaruti Swift VXI BSIII                       False             False   \nHyundai Xcent 1.2 VTVT E Plus                False             False   \n...                                            ...               ...   \nHyundai i20 Magna                            False             False   \nHyundai Verna CRDi SX                        False             False   \nMaruti Swift Dzire ZDi                       False             False   \nTata Indigo CR4                              False             False   \nTata Indigo CR4                              False             False   \n\n                               brand_Nissan  brand_Opel  brand_Renault  \\\nname                                                                     \nSkoda Rapid 1.5 TDI Ambition          False       False          False   \nHonda City 2017-2020 EXi              False       False          False   \nHyundai i20 Sportz Diesel             False       False          False   \nMaruti Swift VXI BSIII                False       False          False   \nHyundai Xcent 1.2 VTVT E Plus         False       False          False   \n...                                     ...         ...            ...   \nHyundai i20 Magna                     False       False          False   \nHyundai Verna CRDi SX                 False       False          False   \nMaruti Swift Dzire ZDi                False       False          False   \nTata Indigo CR4                       False       False          False   \nTata Indigo CR4                       False       False          False   \n\n                               brand_Skoda  brand_Tata  brand_Toyota  \\\nname                                                                   \nSkoda Rapid 1.5 TDI Ambition          True       False         False   \nHonda City 2017-2020 EXi             False       False         False   \nHyundai i20 Sportz Diesel            False       False         False   \nMaruti Swift VXI BSIII               False       False         False   \nHyundai Xcent 1.2 VTVT E Plus        False       False         False   \n...                                    ...         ...           ...   \nHyundai i20 Magna                    False       False         False   \nHyundai Verna CRDi SX                False       False         False   \nMaruti Swift Dzire ZDi               False       False         False   \nTata Indigo CR4                      False        True         False   \nTata Indigo CR4                      False        True         False   \n\n                               brand_Volkswagen  brand_Volvo  \nname                                                          \nSkoda Rapid 1.5 TDI Ambition              False        False  \nHonda City 2017-2020 EXi                  False        False  \nHyundai i20 Sportz Diesel                 False        False  \nMaruti Swift VXI BSIII                    False        False  \nHyundai Xcent 1.2 VTVT E Plus             False        False  \n...                                         ...          ...  \nHyundai i20 Magna                         False        False  \nHyundai Verna CRDi SX                     False        False  \nMaruti Swift Dzire ZDi                    False        False  \nTata Indigo CR4                           False        False  \nTata Indigo CR4                           False        False  \n\n[7905 rows x 50 columns]",
      "text/html": "<div>\n<style scoped>\n    .dataframe tbody tr th:only-of-type {\n        vertical-align: middle;\n    }\n\n    .dataframe tbody tr th {\n        vertical-align: top;\n    }\n\n    .dataframe thead th {\n        text-align: right;\n    }\n</style>\n<table border=\"1\" class=\"dataframe\">\n  <thead>\n    <tr style=\"text-align: right;\">\n      <th></th>\n      <th>year</th>\n      <th>selling_price</th>\n      <th>km_driven</th>\n      <th>mileage</th>\n      <th>engine</th>\n      <th>max_power</th>\n      <th>seats</th>\n      <th>fuel_Diesel</th>\n      <th>fuel_LPG</th>\n      <th>fuel_Petrol</th>\n      <th>...</th>\n      <th>brand_Mercedes-Benz</th>\n      <th>brand_Mitsubishi</th>\n      <th>brand_Nissan</th>\n      <th>brand_Opel</th>\n      <th>brand_Renault</th>\n      <th>brand_Skoda</th>\n      <th>brand_Tata</th>\n      <th>brand_Toyota</th>\n      <th>brand_Volkswagen</th>\n      <th>brand_Volvo</th>\n    </tr>\n    <tr>\n      <th>name</th>\n      <th></th>\n      <th></th>\n      <th></th>\n      <th></th>\n      <th></th>\n      <th></th>\n      <th></th>\n      <th></th>\n      <th></th>\n      <th></th>\n      <th></th>\n      <th></th>\n      <th></th>\n      <th></th>\n      <th></th>\n      <th></th>\n      <th></th>\n      <th></th>\n      <th></th>\n      <th></th>\n      <th></th>\n    </tr>\n  </thead>\n  <tbody>\n    <tr>\n      <th>Skoda Rapid 1.5 TDI Ambition</th>\n      <td>2014</td>\n      <td>370000</td>\n      <td>120000</td>\n      <td>21.14</td>\n      <td>1498.0</td>\n      <td>103.52</td>\n      <td>5.0</td>\n      <td>True</td>\n      <td>False</td>\n      <td>False</td>\n      <td>...</td>\n      <td>False</td>\n      <td>False</td>\n      <td>False</td>\n      <td>False</td>\n      <td>False</td>\n      <td>True</td>\n      <td>False</td>\n      <td>False</td>\n      <td>False</td>\n      <td>False</td>\n    </tr>\n    <tr>\n      <th>Honda City 2017-2020 EXi</th>\n      <td>2006</td>\n      <td>158000</td>\n      <td>140000</td>\n      <td>17.70</td>\n      <td>1497.0</td>\n      <td>78.00</td>\n      <td>5.0</td>\n      <td>False</td>\n      <td>False</td>\n      <td>True</td>\n      <td>...</td>\n      <td>False</td>\n      <td>False</td>\n      <td>False</td>\n      <td>False</td>\n      <td>False</td>\n      <td>False</td>\n      <td>False</td>\n      <td>False</td>\n      <td>False</td>\n      <td>False</td>\n    </tr>\n    <tr>\n      <th>Hyundai i20 Sportz Diesel</th>\n      <td>2010</td>\n      <td>225000</td>\n      <td>127000</td>\n      <td>23.00</td>\n      <td>1396.0</td>\n      <td>90.00</td>\n      <td>5.0</td>\n      <td>True</td>\n      <td>False</td>\n      <td>False</td>\n      <td>...</td>\n      <td>False</td>\n      <td>False</td>\n      <td>False</td>\n      <td>False</td>\n      <td>False</td>\n      <td>False</td>\n      <td>False</td>\n      <td>False</td>\n      <td>False</td>\n      <td>False</td>\n    </tr>\n    <tr>\n      <th>Maruti Swift VXI BSIII</th>\n      <td>2007</td>\n      <td>130000</td>\n      <td>120000</td>\n      <td>16.10</td>\n      <td>1298.0</td>\n      <td>88.20</td>\n      <td>5.0</td>\n      <td>False</td>\n      <td>False</td>\n      <td>True</td>\n      <td>...</td>\n      <td>False</td>\n      <td>False</td>\n      <td>False</td>\n      <td>False</td>\n      <td>False</td>\n      <td>False</td>\n      <td>False</td>\n      <td>False</td>\n      <td>False</td>\n      <td>False</td>\n    </tr>\n    <tr>\n      <th>Hyundai Xcent 1.2 VTVT E Plus</th>\n      <td>2017</td>\n      <td>440000</td>\n      <td>45000</td>\n      <td>20.14</td>\n      <td>1197.0</td>\n      <td>81.86</td>\n      <td>5.0</td>\n      <td>False</td>\n      <td>False</td>\n      <td>True</td>\n      <td>...</td>\n      <td>False</td>\n      <td>False</td>\n      <td>False</td>\n      <td>False</td>\n      <td>False</td>\n      <td>False</td>\n      <td>False</td>\n      <td>False</td>\n      <td>False</td>\n      <td>False</td>\n    </tr>\n    <tr>\n      <th>...</th>\n      <td>...</td>\n      <td>...</td>\n      <td>...</td>\n      <td>...</td>\n      <td>...</td>\n      <td>...</td>\n      <td>...</td>\n      <td>...</td>\n      <td>...</td>\n      <td>...</td>\n      <td>...</td>\n      <td>...</td>\n      <td>...</td>\n      <td>...</td>\n      <td>...</td>\n      <td>...</td>\n      <td>...</td>\n      <td>...</td>\n      <td>...</td>\n      <td>...</td>\n      <td>...</td>\n    </tr>\n    <tr>\n      <th>Hyundai i20 Magna</th>\n      <td>2013</td>\n      <td>320000</td>\n      <td>110000</td>\n      <td>18.50</td>\n      <td>1197.0</td>\n      <td>82.85</td>\n      <td>5.0</td>\n      <td>False</td>\n      <td>False</td>\n      <td>True</td>\n      <td>...</td>\n      <td>False</td>\n      <td>False</td>\n      <td>False</td>\n      <td>False</td>\n      <td>False</td>\n      <td>False</td>\n      <td>False</td>\n      <td>False</td>\n      <td>False</td>\n      <td>False</td>\n    </tr>\n    <tr>\n      <th>Hyundai Verna CRDi SX</th>\n      <td>2007</td>\n      <td>135000</td>\n      <td>119000</td>\n      <td>16.80</td>\n      <td>1493.0</td>\n      <td>110.00</td>\n      <td>5.0</td>\n      <td>True</td>\n      <td>False</td>\n      <td>False</td>\n      <td>...</td>\n      <td>False</td>\n      <td>False</td>\n      <td>False</td>\n      <td>False</td>\n      <td>False</td>\n      <td>False</td>\n      <td>False</td>\n      <td>False</td>\n      <td>False</td>\n      <td>False</td>\n    </tr>\n    <tr>\n      <th>Maruti Swift Dzire ZDi</th>\n      <td>2009</td>\n      <td>382000</td>\n      <td>120000</td>\n      <td>19.30</td>\n      <td>1248.0</td>\n      <td>73.90</td>\n      <td>5.0</td>\n      <td>True</td>\n      <td>False</td>\n      <td>False</td>\n      <td>...</td>\n      <td>False</td>\n      <td>False</td>\n      <td>False</td>\n      <td>False</td>\n      <td>False</td>\n      <td>False</td>\n      <td>False</td>\n      <td>False</td>\n      <td>False</td>\n      <td>False</td>\n    </tr>\n    <tr>\n      <th>Tata Indigo CR4</th>\n      <td>2013</td>\n      <td>290000</td>\n      <td>25000</td>\n      <td>23.57</td>\n      <td>1396.0</td>\n      <td>70.00</td>\n      <td>5.0</td>\n      <td>True</td>\n      <td>False</td>\n      <td>False</td>\n      <td>...</td>\n      <td>False</td>\n      <td>False</td>\n      <td>False</td>\n      <td>False</td>\n      <td>False</td>\n      <td>False</td>\n      <td>True</td>\n      <td>False</td>\n      <td>False</td>\n      <td>False</td>\n    </tr>\n    <tr>\n      <th>Tata Indigo CR4</th>\n      <td>2013</td>\n      <td>290000</td>\n      <td>25000</td>\n      <td>23.57</td>\n      <td>1396.0</td>\n      <td>70.00</td>\n      <td>5.0</td>\n      <td>True</td>\n      <td>False</td>\n      <td>False</td>\n      <td>...</td>\n      <td>False</td>\n      <td>False</td>\n      <td>False</td>\n      <td>False</td>\n      <td>False</td>\n      <td>False</td>\n      <td>True</td>\n      <td>False</td>\n      <td>False</td>\n      <td>False</td>\n    </tr>\n  </tbody>\n</table>\n<p>7905 rows × 50 columns</p>\n</div>"
     },
     "execution_count": 682,
     "metadata": {},
     "output_type": "execute_result"
    }
   ],
   "source": [
    "df"
   ],
   "metadata": {
    "collapsed": false,
    "ExecuteTime": {
     "end_time": "2023-10-06T12:16:39.618861700Z",
     "start_time": "2023-10-06T12:16:39.313605800Z"
    }
   }
  },
  {
   "cell_type": "code",
   "execution_count": 683,
   "outputs": [
    {
     "data": {
      "text/plain": "                               year  selling_price  km_driven  mileage  \\\nname                                                                     \nSkoda Rapid 1.5 TDI Ambition   2014         370000     120000    21.14   \nHonda City 2017-2020 EXi       2006         158000     140000    17.70   \nHyundai i20 Sportz Diesel      2010         225000     127000    23.00   \nMaruti Swift VXI BSIII         2007         130000     120000    16.10   \nHyundai Xcent 1.2 VTVT E Plus  2017         440000      45000    20.14   \n...                             ...            ...        ...      ...   \nHyundai i20 Magna              2013         320000     110000    18.50   \nHyundai Verna CRDi SX          2007         135000     119000    16.80   \nMaruti Swift Dzire ZDi         2009         382000     120000    19.30   \nTata Indigo CR4                2013         290000      25000    23.57   \nTata Indigo CR4                2013         290000      25000    23.57   \n\n                               engine  max_power  seats  fuel_Diesel  \\\nname                                                                   \nSkoda Rapid 1.5 TDI Ambition   1498.0     103.52    5.0         True   \nHonda City 2017-2020 EXi       1497.0      78.00    5.0        False   \nHyundai i20 Sportz Diesel      1396.0      90.00    5.0         True   \nMaruti Swift VXI BSIII         1298.0      88.20    5.0        False   \nHyundai Xcent 1.2 VTVT E Plus  1197.0      81.86    5.0        False   \n...                               ...        ...    ...          ...   \nHyundai i20 Magna              1197.0      82.85    5.0        False   \nHyundai Verna CRDi SX          1493.0     110.00    5.0         True   \nMaruti Swift Dzire ZDi         1248.0      73.90    5.0         True   \nTata Indigo CR4                1396.0      70.00    5.0         True   \nTata Indigo CR4                1396.0      70.00    5.0         True   \n\n                               fuel_LPG  fuel_Petrol  ...  \\\nname                                                  ...   \nSkoda Rapid 1.5 TDI Ambition      False        False  ...   \nHonda City 2017-2020 EXi          False         True  ...   \nHyundai i20 Sportz Diesel         False        False  ...   \nMaruti Swift VXI BSIII            False         True  ...   \nHyundai Xcent 1.2 VTVT E Plus     False         True  ...   \n...                                 ...          ...  ...   \nHyundai i20 Magna                 False         True  ...   \nHyundai Verna CRDi SX             False        False  ...   \nMaruti Swift Dzire ZDi            False        False  ...   \nTata Indigo CR4                   False        False  ...   \nTata Indigo CR4                   False        False  ...   \n\n                               brand_Mercedes-Benz  brand_Mitsubishi  \\\nname                                                                   \nSkoda Rapid 1.5 TDI Ambition                 False             False   \nHonda City 2017-2020 EXi                     False             False   \nHyundai i20 Sportz Diesel                    False             False   \nMaruti Swift VXI BSIII                       False             False   \nHyundai Xcent 1.2 VTVT E Plus                False             False   \n...                                            ...               ...   \nHyundai i20 Magna                            False             False   \nHyundai Verna CRDi SX                        False             False   \nMaruti Swift Dzire ZDi                       False             False   \nTata Indigo CR4                              False             False   \nTata Indigo CR4                              False             False   \n\n                               brand_Nissan  brand_Opel  brand_Renault  \\\nname                                                                     \nSkoda Rapid 1.5 TDI Ambition          False       False          False   \nHonda City 2017-2020 EXi              False       False          False   \nHyundai i20 Sportz Diesel             False       False          False   \nMaruti Swift VXI BSIII                False       False          False   \nHyundai Xcent 1.2 VTVT E Plus         False       False          False   \n...                                     ...         ...            ...   \nHyundai i20 Magna                     False       False          False   \nHyundai Verna CRDi SX                 False       False          False   \nMaruti Swift Dzire ZDi                False       False          False   \nTata Indigo CR4                       False       False          False   \nTata Indigo CR4                       False       False          False   \n\n                               brand_Skoda  brand_Tata  brand_Toyota  \\\nname                                                                   \nSkoda Rapid 1.5 TDI Ambition          True       False         False   \nHonda City 2017-2020 EXi             False       False         False   \nHyundai i20 Sportz Diesel            False       False         False   \nMaruti Swift VXI BSIII               False       False         False   \nHyundai Xcent 1.2 VTVT E Plus        False       False         False   \n...                                    ...         ...           ...   \nHyundai i20 Magna                    False       False         False   \nHyundai Verna CRDi SX                False       False         False   \nMaruti Swift Dzire ZDi               False       False         False   \nTata Indigo CR4                      False        True         False   \nTata Indigo CR4                      False        True         False   \n\n                               brand_Volkswagen  brand_Volvo  \nname                                                          \nSkoda Rapid 1.5 TDI Ambition              False        False  \nHonda City 2017-2020 EXi                  False        False  \nHyundai i20 Sportz Diesel                 False        False  \nMaruti Swift VXI BSIII                    False        False  \nHyundai Xcent 1.2 VTVT E Plus             False        False  \n...                                         ...          ...  \nHyundai i20 Magna                         False        False  \nHyundai Verna CRDi SX                     False        False  \nMaruti Swift Dzire ZDi                    False        False  \nTata Indigo CR4                           False        False  \nTata Indigo CR4                           False        False  \n\n[7905 rows x 50 columns]",
      "text/html": "<div>\n<style scoped>\n    .dataframe tbody tr th:only-of-type {\n        vertical-align: middle;\n    }\n\n    .dataframe tbody tr th {\n        vertical-align: top;\n    }\n\n    .dataframe thead th {\n        text-align: right;\n    }\n</style>\n<table border=\"1\" class=\"dataframe\">\n  <thead>\n    <tr style=\"text-align: right;\">\n      <th></th>\n      <th>year</th>\n      <th>selling_price</th>\n      <th>km_driven</th>\n      <th>mileage</th>\n      <th>engine</th>\n      <th>max_power</th>\n      <th>seats</th>\n      <th>fuel_Diesel</th>\n      <th>fuel_LPG</th>\n      <th>fuel_Petrol</th>\n      <th>...</th>\n      <th>brand_Mercedes-Benz</th>\n      <th>brand_Mitsubishi</th>\n      <th>brand_Nissan</th>\n      <th>brand_Opel</th>\n      <th>brand_Renault</th>\n      <th>brand_Skoda</th>\n      <th>brand_Tata</th>\n      <th>brand_Toyota</th>\n      <th>brand_Volkswagen</th>\n      <th>brand_Volvo</th>\n    </tr>\n    <tr>\n      <th>name</th>\n      <th></th>\n      <th></th>\n      <th></th>\n      <th></th>\n      <th></th>\n      <th></th>\n      <th></th>\n      <th></th>\n      <th></th>\n      <th></th>\n      <th></th>\n      <th></th>\n      <th></th>\n      <th></th>\n      <th></th>\n      <th></th>\n      <th></th>\n      <th></th>\n      <th></th>\n      <th></th>\n      <th></th>\n    </tr>\n  </thead>\n  <tbody>\n    <tr>\n      <th>Skoda Rapid 1.5 TDI Ambition</th>\n      <td>2014</td>\n      <td>370000</td>\n      <td>120000</td>\n      <td>21.14</td>\n      <td>1498.0</td>\n      <td>103.52</td>\n      <td>5.0</td>\n      <td>True</td>\n      <td>False</td>\n      <td>False</td>\n      <td>...</td>\n      <td>False</td>\n      <td>False</td>\n      <td>False</td>\n      <td>False</td>\n      <td>False</td>\n      <td>True</td>\n      <td>False</td>\n      <td>False</td>\n      <td>False</td>\n      <td>False</td>\n    </tr>\n    <tr>\n      <th>Honda City 2017-2020 EXi</th>\n      <td>2006</td>\n      <td>158000</td>\n      <td>140000</td>\n      <td>17.70</td>\n      <td>1497.0</td>\n      <td>78.00</td>\n      <td>5.0</td>\n      <td>False</td>\n      <td>False</td>\n      <td>True</td>\n      <td>...</td>\n      <td>False</td>\n      <td>False</td>\n      <td>False</td>\n      <td>False</td>\n      <td>False</td>\n      <td>False</td>\n      <td>False</td>\n      <td>False</td>\n      <td>False</td>\n      <td>False</td>\n    </tr>\n    <tr>\n      <th>Hyundai i20 Sportz Diesel</th>\n      <td>2010</td>\n      <td>225000</td>\n      <td>127000</td>\n      <td>23.00</td>\n      <td>1396.0</td>\n      <td>90.00</td>\n      <td>5.0</td>\n      <td>True</td>\n      <td>False</td>\n      <td>False</td>\n      <td>...</td>\n      <td>False</td>\n      <td>False</td>\n      <td>False</td>\n      <td>False</td>\n      <td>False</td>\n      <td>False</td>\n      <td>False</td>\n      <td>False</td>\n      <td>False</td>\n      <td>False</td>\n    </tr>\n    <tr>\n      <th>Maruti Swift VXI BSIII</th>\n      <td>2007</td>\n      <td>130000</td>\n      <td>120000</td>\n      <td>16.10</td>\n      <td>1298.0</td>\n      <td>88.20</td>\n      <td>5.0</td>\n      <td>False</td>\n      <td>False</td>\n      <td>True</td>\n      <td>...</td>\n      <td>False</td>\n      <td>False</td>\n      <td>False</td>\n      <td>False</td>\n      <td>False</td>\n      <td>False</td>\n      <td>False</td>\n      <td>False</td>\n      <td>False</td>\n      <td>False</td>\n    </tr>\n    <tr>\n      <th>Hyundai Xcent 1.2 VTVT E Plus</th>\n      <td>2017</td>\n      <td>440000</td>\n      <td>45000</td>\n      <td>20.14</td>\n      <td>1197.0</td>\n      <td>81.86</td>\n      <td>5.0</td>\n      <td>False</td>\n      <td>False</td>\n      <td>True</td>\n      <td>...</td>\n      <td>False</td>\n      <td>False</td>\n      <td>False</td>\n      <td>False</td>\n      <td>False</td>\n      <td>False</td>\n      <td>False</td>\n      <td>False</td>\n      <td>False</td>\n      <td>False</td>\n    </tr>\n    <tr>\n      <th>...</th>\n      <td>...</td>\n      <td>...</td>\n      <td>...</td>\n      <td>...</td>\n      <td>...</td>\n      <td>...</td>\n      <td>...</td>\n      <td>...</td>\n      <td>...</td>\n      <td>...</td>\n      <td>...</td>\n      <td>...</td>\n      <td>...</td>\n      <td>...</td>\n      <td>...</td>\n      <td>...</td>\n      <td>...</td>\n      <td>...</td>\n      <td>...</td>\n      <td>...</td>\n      <td>...</td>\n    </tr>\n    <tr>\n      <th>Hyundai i20 Magna</th>\n      <td>2013</td>\n      <td>320000</td>\n      <td>110000</td>\n      <td>18.50</td>\n      <td>1197.0</td>\n      <td>82.85</td>\n      <td>5.0</td>\n      <td>False</td>\n      <td>False</td>\n      <td>True</td>\n      <td>...</td>\n      <td>False</td>\n      <td>False</td>\n      <td>False</td>\n      <td>False</td>\n      <td>False</td>\n      <td>False</td>\n      <td>False</td>\n      <td>False</td>\n      <td>False</td>\n      <td>False</td>\n    </tr>\n    <tr>\n      <th>Hyundai Verna CRDi SX</th>\n      <td>2007</td>\n      <td>135000</td>\n      <td>119000</td>\n      <td>16.80</td>\n      <td>1493.0</td>\n      <td>110.00</td>\n      <td>5.0</td>\n      <td>True</td>\n      <td>False</td>\n      <td>False</td>\n      <td>...</td>\n      <td>False</td>\n      <td>False</td>\n      <td>False</td>\n      <td>False</td>\n      <td>False</td>\n      <td>False</td>\n      <td>False</td>\n      <td>False</td>\n      <td>False</td>\n      <td>False</td>\n    </tr>\n    <tr>\n      <th>Maruti Swift Dzire ZDi</th>\n      <td>2009</td>\n      <td>382000</td>\n      <td>120000</td>\n      <td>19.30</td>\n      <td>1248.0</td>\n      <td>73.90</td>\n      <td>5.0</td>\n      <td>True</td>\n      <td>False</td>\n      <td>False</td>\n      <td>...</td>\n      <td>False</td>\n      <td>False</td>\n      <td>False</td>\n      <td>False</td>\n      <td>False</td>\n      <td>False</td>\n      <td>False</td>\n      <td>False</td>\n      <td>False</td>\n      <td>False</td>\n    </tr>\n    <tr>\n      <th>Tata Indigo CR4</th>\n      <td>2013</td>\n      <td>290000</td>\n      <td>25000</td>\n      <td>23.57</td>\n      <td>1396.0</td>\n      <td>70.00</td>\n      <td>5.0</td>\n      <td>True</td>\n      <td>False</td>\n      <td>False</td>\n      <td>...</td>\n      <td>False</td>\n      <td>False</td>\n      <td>False</td>\n      <td>False</td>\n      <td>False</td>\n      <td>False</td>\n      <td>True</td>\n      <td>False</td>\n      <td>False</td>\n      <td>False</td>\n    </tr>\n    <tr>\n      <th>Tata Indigo CR4</th>\n      <td>2013</td>\n      <td>290000</td>\n      <td>25000</td>\n      <td>23.57</td>\n      <td>1396.0</td>\n      <td>70.00</td>\n      <td>5.0</td>\n      <td>True</td>\n      <td>False</td>\n      <td>False</td>\n      <td>...</td>\n      <td>False</td>\n      <td>False</td>\n      <td>False</td>\n      <td>False</td>\n      <td>False</td>\n      <td>False</td>\n      <td>True</td>\n      <td>False</td>\n      <td>False</td>\n      <td>False</td>\n    </tr>\n  </tbody>\n</table>\n<p>7905 rows × 50 columns</p>\n</div>"
     },
     "execution_count": 683,
     "metadata": {},
     "output_type": "execute_result"
    }
   ],
   "source": [
    "df"
   ],
   "metadata": {
    "collapsed": false,
    "ExecuteTime": {
     "end_time": "2023-10-06T12:16:39.619870700Z",
     "start_time": "2023-10-06T12:16:39.379476500Z"
    }
   }
  },
  {
   "cell_type": "code",
   "execution_count": 684,
   "outputs": [],
   "source": [
    "X = df.drop('selling_price',axis=1).values\n",
    "y = df['selling_price'].values"
   ],
   "metadata": {
    "collapsed": false,
    "ExecuteTime": {
     "end_time": "2023-10-06T12:16:39.619870700Z",
     "start_time": "2023-10-06T12:16:39.413196600Z"
    }
   }
  },
  {
   "cell_type": "code",
   "execution_count": 685,
   "outputs": [],
   "source": [
    "from sklearn.model_selection import train_test_split\n",
    "X_train, X_test, y_train, y_test = train_test_split(X,y,test_size=0.3,random_state=101)"
   ],
   "metadata": {
    "collapsed": false,
    "ExecuteTime": {
     "end_time": "2023-10-06T12:16:39.620882300Z",
     "start_time": "2023-10-06T12:16:39.431244500Z"
    }
   }
  },
  {
   "cell_type": "code",
   "execution_count": 686,
   "outputs": [],
   "source": [
    "from sklearn.preprocessing import MinMaxScaler\n",
    "scaler = MinMaxScaler()\n"
   ],
   "metadata": {
    "collapsed": false,
    "ExecuteTime": {
     "end_time": "2023-10-06T12:16:39.620882300Z",
     "start_time": "2023-10-06T12:16:39.442670600Z"
    }
   }
  },
  {
   "cell_type": "code",
   "execution_count": 687,
   "outputs": [
    {
     "data": {
      "text/plain": "MinMaxScaler()",
      "text/html": "<style>#sk-container-id-13 {color: black;}#sk-container-id-13 pre{padding: 0;}#sk-container-id-13 div.sk-toggleable {background-color: white;}#sk-container-id-13 label.sk-toggleable__label {cursor: pointer;display: block;width: 100%;margin-bottom: 0;padding: 0.3em;box-sizing: border-box;text-align: center;}#sk-container-id-13 label.sk-toggleable__label-arrow:before {content: \"▸\";float: left;margin-right: 0.25em;color: #696969;}#sk-container-id-13 label.sk-toggleable__label-arrow:hover:before {color: black;}#sk-container-id-13 div.sk-estimator:hover label.sk-toggleable__label-arrow:before {color: black;}#sk-container-id-13 div.sk-toggleable__content {max-height: 0;max-width: 0;overflow: hidden;text-align: left;background-color: #f0f8ff;}#sk-container-id-13 div.sk-toggleable__content pre {margin: 0.2em;color: black;border-radius: 0.25em;background-color: #f0f8ff;}#sk-container-id-13 input.sk-toggleable__control:checked~div.sk-toggleable__content {max-height: 200px;max-width: 100%;overflow: auto;}#sk-container-id-13 input.sk-toggleable__control:checked~label.sk-toggleable__label-arrow:before {content: \"▾\";}#sk-container-id-13 div.sk-estimator input.sk-toggleable__control:checked~label.sk-toggleable__label {background-color: #d4ebff;}#sk-container-id-13 div.sk-label input.sk-toggleable__control:checked~label.sk-toggleable__label {background-color: #d4ebff;}#sk-container-id-13 input.sk-hidden--visually {border: 0;clip: rect(1px 1px 1px 1px);clip: rect(1px, 1px, 1px, 1px);height: 1px;margin: -1px;overflow: hidden;padding: 0;position: absolute;width: 1px;}#sk-container-id-13 div.sk-estimator {font-family: monospace;background-color: #f0f8ff;border: 1px dotted black;border-radius: 0.25em;box-sizing: border-box;margin-bottom: 0.5em;}#sk-container-id-13 div.sk-estimator:hover {background-color: #d4ebff;}#sk-container-id-13 div.sk-parallel-item::after {content: \"\";width: 100%;border-bottom: 1px solid gray;flex-grow: 1;}#sk-container-id-13 div.sk-label:hover label.sk-toggleable__label {background-color: #d4ebff;}#sk-container-id-13 div.sk-serial::before {content: \"\";position: absolute;border-left: 1px solid gray;box-sizing: border-box;top: 0;bottom: 0;left: 50%;z-index: 0;}#sk-container-id-13 div.sk-serial {display: flex;flex-direction: column;align-items: center;background-color: white;padding-right: 0.2em;padding-left: 0.2em;position: relative;}#sk-container-id-13 div.sk-item {position: relative;z-index: 1;}#sk-container-id-13 div.sk-parallel {display: flex;align-items: stretch;justify-content: center;background-color: white;position: relative;}#sk-container-id-13 div.sk-item::before, #sk-container-id-13 div.sk-parallel-item::before {content: \"\";position: absolute;border-left: 1px solid gray;box-sizing: border-box;top: 0;bottom: 0;left: 50%;z-index: -1;}#sk-container-id-13 div.sk-parallel-item {display: flex;flex-direction: column;z-index: 1;position: relative;background-color: white;}#sk-container-id-13 div.sk-parallel-item:first-child::after {align-self: flex-end;width: 50%;}#sk-container-id-13 div.sk-parallel-item:last-child::after {align-self: flex-start;width: 50%;}#sk-container-id-13 div.sk-parallel-item:only-child::after {width: 0;}#sk-container-id-13 div.sk-dashed-wrapped {border: 1px dashed gray;margin: 0 0.4em 0.5em 0.4em;box-sizing: border-box;padding-bottom: 0.4em;background-color: white;}#sk-container-id-13 div.sk-label label {font-family: monospace;font-weight: bold;display: inline-block;line-height: 1.2em;}#sk-container-id-13 div.sk-label-container {text-align: center;}#sk-container-id-13 div.sk-container {/* jupyter's `normalize.less` sets `[hidden] { display: none; }` but bootstrap.min.css set `[hidden] { display: none !important; }` so we also need the `!important` here to be able to override the default hidden behavior on the sphinx rendered scikit-learn.org. See: https://github.com/scikit-learn/scikit-learn/issues/21755 */display: inline-block !important;position: relative;}#sk-container-id-13 div.sk-text-repr-fallback {display: none;}</style><div id=\"sk-container-id-13\" class=\"sk-top-container\"><div class=\"sk-text-repr-fallback\"><pre>MinMaxScaler()</pre><b>In a Jupyter environment, please rerun this cell to show the HTML representation or trust the notebook. <br />On GitHub, the HTML representation is unable to render, please try loading this page with nbviewer.org.</b></div><div class=\"sk-container\" hidden><div class=\"sk-item\"><div class=\"sk-estimator sk-toggleable\"><input class=\"sk-toggleable__control sk-hidden--visually\" id=\"sk-estimator-id-13\" type=\"checkbox\" checked><label for=\"sk-estimator-id-13\" class=\"sk-toggleable__label sk-toggleable__label-arrow\">MinMaxScaler</label><div class=\"sk-toggleable__content\"><pre>MinMaxScaler()</pre></div></div></div></div></div>"
     },
     "execution_count": 687,
     "metadata": {},
     "output_type": "execute_result"
    }
   ],
   "source": [
    "scaler.fit_transform(X_train)\n",
    "scaler.fit(X_test)"
   ],
   "metadata": {
    "collapsed": false,
    "ExecuteTime": {
     "end_time": "2023-10-06T12:16:39.830604Z",
     "start_time": "2023-10-06T12:16:39.448224200Z"
    }
   }
  },
  {
   "cell_type": "code",
   "execution_count": 688,
   "outputs": [],
   "source": [
    "X_train=np.asarray(X_train).astype(float)\n",
    "y_train=np.asarray(y_train).astype(float)\n",
    "\n",
    "X_test=np.asarray(X_test).astype(float)\n",
    "y_testn=np.asarray(y_test).astype(float)"
   ],
   "metadata": {
    "collapsed": false,
    "ExecuteTime": {
     "end_time": "2023-10-06T12:16:39.831610Z",
     "start_time": "2023-10-06T12:16:39.504954600Z"
    }
   }
  },
  {
   "cell_type": "code",
   "execution_count": 689,
   "outputs": [],
   "source": [
    "model = tf.keras.models.Sequential()"
   ],
   "metadata": {
    "collapsed": false,
    "ExecuteTime": {
     "end_time": "2023-10-06T12:16:39.831610Z",
     "start_time": "2023-10-06T12:16:39.535124800Z"
    }
   }
  },
  {
   "cell_type": "code",
   "execution_count": 690,
   "outputs": [
    {
     "data": {
      "text/plain": "(5533, 49)"
     },
     "execution_count": 690,
     "metadata": {},
     "output_type": "execute_result"
    }
   ],
   "source": [
    "X_train.shape"
   ],
   "metadata": {
    "collapsed": false,
    "ExecuteTime": {
     "end_time": "2023-10-06T12:16:39.831610Z",
     "start_time": "2023-10-06T12:16:39.545695200Z"
    }
   }
  },
  {
   "cell_type": "code",
   "execution_count": 691,
   "outputs": [],
   "source": [
    "model.add(tf.keras.layers.Dense(units=500,input_dim=49, activation='relu'))\n",
    "\n",
    "\n",
    "model.add(tf.keras.layers.Dense(units=250, activation='relu'))\n",
    "\n",
    "\n",
    "model.add(tf.keras.layers.Dense(units=100, activation='relu'))\n",
    "\n",
    "\n",
    "model.add(tf.keras.layers.Dense(units=50, activation='relu'))\n",
    "\n",
    "\n",
    "model.add(tf.keras.layers.Dense(units=1))"
   ],
   "metadata": {
    "collapsed": false,
    "ExecuteTime": {
     "end_time": "2023-10-06T12:16:40.056517500Z",
     "start_time": "2023-10-06T12:16:39.554885900Z"
    }
   }
  },
  {
   "cell_type": "code",
   "execution_count": 692,
   "outputs": [],
   "source": [
    "model.compile(optimizer='adam',loss='mse')"
   ],
   "metadata": {
    "collapsed": false,
    "ExecuteTime": {
     "end_time": "2023-10-06T12:16:40.056517500Z",
     "start_time": "2023-10-06T12:16:39.644661400Z"
    }
   }
  },
  {
   "cell_type": "code",
   "execution_count": 693,
   "outputs": [],
   "source": [
    "stopper = tf.keras.callbacks.EarlyStopping() ## is not utilized, since without it results are simply better for this particular data set"
   ],
   "metadata": {
    "collapsed": false,
    "ExecuteTime": {
     "end_time": "2023-10-06T12:16:40.056517500Z",
     "start_time": "2023-10-06T12:16:39.660376800Z"
    }
   }
  },
  {
   "cell_type": "code",
   "execution_count": 694,
   "outputs": [
    {
     "name": "stdout",
     "output_type": "stream",
     "text": [
      "Epoch 1/600\n",
      "173/173 [==============================] - 2s 5ms/step - loss: 889507414016.0000 - val_loss: 733363240960.0000\n",
      "Epoch 2/600\n",
      "173/173 [==============================] - 1s 4ms/step - loss: 566453010432.0000 - val_loss: 503010590720.0000\n",
      "Epoch 3/600\n",
      "173/173 [==============================] - 1s 4ms/step - loss: 398457503744.0000 - val_loss: 339992870912.0000\n",
      "Epoch 4/600\n",
      "173/173 [==============================] - 1s 4ms/step - loss: 293285003264.0000 - val_loss: 277341372416.0000\n",
      "Epoch 5/600\n",
      "173/173 [==============================] - 1s 4ms/step - loss: 266188685312.0000 - val_loss: 262948143104.0000\n",
      "Epoch 6/600\n",
      "173/173 [==============================] - 1s 4ms/step - loss: 258264137728.0000 - val_loss: 247456530432.0000\n",
      "Epoch 7/600\n",
      "173/173 [==============================] - 1s 4ms/step - loss: 249516998656.0000 - val_loss: 242867175424.0000\n",
      "Epoch 8/600\n",
      "173/173 [==============================] - 1s 4ms/step - loss: 250331594752.0000 - val_loss: 264835481600.0000\n",
      "Epoch 9/600\n",
      "173/173 [==============================] - 1s 3ms/step - loss: 243701432320.0000 - val_loss: 235012947968.0000\n",
      "Epoch 10/600\n",
      "173/173 [==============================] - 1s 4ms/step - loss: 239868952576.0000 - val_loss: 225027588096.0000\n",
      "Epoch 11/600\n",
      "173/173 [==============================] - 1s 3ms/step - loss: 242640175104.0000 - val_loss: 232845393920.0000\n",
      "Epoch 12/600\n",
      "173/173 [==============================] - 1s 3ms/step - loss: 240176529408.0000 - val_loss: 234365812736.0000\n",
      "Epoch 13/600\n",
      "173/173 [==============================] - 1s 3ms/step - loss: 229592121344.0000 - val_loss: 226461630464.0000\n",
      "Epoch 14/600\n",
      "173/173 [==============================] - 1s 3ms/step - loss: 238200389632.0000 - val_loss: 211036225536.0000\n",
      "Epoch 15/600\n",
      "173/173 [==============================] - 1s 3ms/step - loss: 227482992640.0000 - val_loss: 227793076224.0000\n",
      "Epoch 16/600\n",
      "173/173 [==============================] - 1s 3ms/step - loss: 222953275392.0000 - val_loss: 201973923840.0000\n",
      "Epoch 17/600\n",
      "173/173 [==============================] - 1s 3ms/step - loss: 223205146624.0000 - val_loss: 202709188608.0000\n",
      "Epoch 18/600\n",
      "173/173 [==============================] - 0s 3ms/step - loss: 221337944064.0000 - val_loss: 242584141824.0000\n",
      "Epoch 19/600\n",
      "173/173 [==============================] - 0s 3ms/step - loss: 219357970432.0000 - val_loss: 193037746176.0000\n",
      "Epoch 20/600\n",
      "173/173 [==============================] - 0s 3ms/step - loss: 209778360320.0000 - val_loss: 186110394368.0000\n",
      "Epoch 21/600\n",
      "173/173 [==============================] - 0s 3ms/step - loss: 209049042944.0000 - val_loss: 183689854976.0000\n",
      "Epoch 22/600\n",
      "173/173 [==============================] - 1s 3ms/step - loss: 200357888000.0000 - val_loss: 232036106240.0000\n",
      "Epoch 23/600\n",
      "173/173 [==============================] - 0s 3ms/step - loss: 206626766848.0000 - val_loss: 317519953920.0000\n",
      "Epoch 24/600\n",
      "173/173 [==============================] - 0s 3ms/step - loss: 203432034304.0000 - val_loss: 170536730624.0000\n",
      "Epoch 25/600\n",
      "173/173 [==============================] - 0s 3ms/step - loss: 189455155200.0000 - val_loss: 173595721728.0000\n",
      "Epoch 26/600\n",
      "173/173 [==============================] - 0s 3ms/step - loss: 185790660608.0000 - val_loss: 157974593536.0000\n",
      "Epoch 27/600\n",
      "173/173 [==============================] - 1s 3ms/step - loss: 180031143936.0000 - val_loss: 149403140096.0000\n",
      "Epoch 28/600\n",
      "173/173 [==============================] - 1s 3ms/step - loss: 185888030720.0000 - val_loss: 148770127872.0000\n",
      "Epoch 29/600\n",
      "173/173 [==============================] - 1s 3ms/step - loss: 170501799936.0000 - val_loss: 144201236480.0000\n",
      "Epoch 30/600\n",
      "173/173 [==============================] - 1s 3ms/step - loss: 170875305984.0000 - val_loss: 169889611776.0000\n",
      "Epoch 31/600\n",
      "173/173 [==============================] - 1s 3ms/step - loss: 172896911360.0000 - val_loss: 184478384128.0000\n",
      "Epoch 32/600\n",
      "173/173 [==============================] - 1s 3ms/step - loss: 169856253952.0000 - val_loss: 143048769536.0000\n",
      "Epoch 33/600\n",
      "173/173 [==============================] - 1s 3ms/step - loss: 157723443200.0000 - val_loss: 126183432192.0000\n",
      "Epoch 34/600\n",
      "173/173 [==============================] - 1s 4ms/step - loss: 165686902784.0000 - val_loss: 129740816384.0000\n",
      "Epoch 35/600\n",
      "173/173 [==============================] - 1s 3ms/step - loss: 152481923072.0000 - val_loss: 115494977536.0000\n",
      "Epoch 36/600\n",
      "173/173 [==============================] - 1s 3ms/step - loss: 148408958976.0000 - val_loss: 120575287296.0000\n",
      "Epoch 37/600\n",
      "173/173 [==============================] - 1s 3ms/step - loss: 153639206912.0000 - val_loss: 206772682752.0000\n",
      "Epoch 38/600\n",
      "173/173 [==============================] - 1s 3ms/step - loss: 147661815808.0000 - val_loss: 107894259712.0000\n",
      "Epoch 39/600\n",
      "173/173 [==============================] - 1s 3ms/step - loss: 130377752576.0000 - val_loss: 108852977664.0000\n",
      "Epoch 40/600\n",
      "173/173 [==============================] - 1s 3ms/step - loss: 129297375232.0000 - val_loss: 103345405952.0000\n",
      "Epoch 41/600\n",
      "173/173 [==============================] - 0s 3ms/step - loss: 125535690752.0000 - val_loss: 104971124736.0000\n",
      "Epoch 42/600\n",
      "173/173 [==============================] - 0s 3ms/step - loss: 125772177408.0000 - val_loss: 150117761024.0000\n",
      "Epoch 43/600\n",
      "173/173 [==============================] - 0s 3ms/step - loss: 128712605696.0000 - val_loss: 101459771392.0000\n",
      "Epoch 44/600\n",
      "173/173 [==============================] - 0s 3ms/step - loss: 114652348416.0000 - val_loss: 110008655872.0000\n",
      "Epoch 45/600\n",
      "173/173 [==============================] - 1s 3ms/step - loss: 117869608960.0000 - val_loss: 112725827584.0000\n",
      "Epoch 46/600\n",
      "173/173 [==============================] - 1s 4ms/step - loss: 117789360128.0000 - val_loss: 105527140352.0000\n",
      "Epoch 47/600\n",
      "173/173 [==============================] - 1s 4ms/step - loss: 107948130304.0000 - val_loss: 96320700416.0000\n",
      "Epoch 48/600\n",
      "173/173 [==============================] - 1s 3ms/step - loss: 113394499584.0000 - val_loss: 108188319744.0000\n",
      "Epoch 49/600\n",
      "173/173 [==============================] - 0s 3ms/step - loss: 102893608960.0000 - val_loss: 123295039488.0000\n",
      "Epoch 50/600\n",
      "173/173 [==============================] - 0s 3ms/step - loss: 103606214656.0000 - val_loss: 92720807936.0000\n",
      "Epoch 51/600\n",
      "173/173 [==============================] - 1s 3ms/step - loss: 101803442176.0000 - val_loss: 90151952384.0000\n",
      "Epoch 52/600\n",
      "173/173 [==============================] - 1s 3ms/step - loss: 94051147776.0000 - val_loss: 122263707648.0000\n",
      "Epoch 53/600\n",
      "173/173 [==============================] - 1s 3ms/step - loss: 108427329536.0000 - val_loss: 104533884928.0000\n",
      "Epoch 54/600\n",
      "173/173 [==============================] - 1s 3ms/step - loss: 95739756544.0000 - val_loss: 97472176128.0000\n",
      "Epoch 55/600\n",
      "173/173 [==============================] - 0s 3ms/step - loss: 90304126976.0000 - val_loss: 80214949888.0000\n",
      "Epoch 56/600\n",
      "173/173 [==============================] - 0s 3ms/step - loss: 91203461120.0000 - val_loss: 82445803520.0000\n",
      "Epoch 57/600\n",
      "173/173 [==============================] - 0s 3ms/step - loss: 93324394496.0000 - val_loss: 96476913664.0000\n",
      "Epoch 58/600\n",
      "173/173 [==============================] - 0s 3ms/step - loss: 90046267392.0000 - val_loss: 91608285184.0000\n",
      "Epoch 59/600\n",
      "173/173 [==============================] - 0s 3ms/step - loss: 94529454080.0000 - val_loss: 83608305664.0000\n",
      "Epoch 60/600\n",
      "173/173 [==============================] - 0s 3ms/step - loss: 85099315200.0000 - val_loss: 103406231552.0000\n",
      "Epoch 61/600\n",
      "173/173 [==============================] - 0s 3ms/step - loss: 108456361984.0000 - val_loss: 85397831680.0000\n",
      "Epoch 62/600\n",
      "173/173 [==============================] - 0s 3ms/step - loss: 84788764672.0000 - val_loss: 97688698880.0000\n",
      "Epoch 63/600\n",
      "173/173 [==============================] - 0s 3ms/step - loss: 90966319104.0000 - val_loss: 92453322752.0000\n",
      "Epoch 64/600\n",
      "173/173 [==============================] - 0s 3ms/step - loss: 83019350016.0000 - val_loss: 93383155712.0000\n",
      "Epoch 65/600\n",
      "173/173 [==============================] - 0s 3ms/step - loss: 81249714176.0000 - val_loss: 83366879232.0000\n",
      "Epoch 66/600\n",
      "173/173 [==============================] - 0s 3ms/step - loss: 87987101696.0000 - val_loss: 80421265408.0000\n",
      "Epoch 67/600\n",
      "173/173 [==============================] - 1s 3ms/step - loss: 84731199488.0000 - val_loss: 101185224704.0000\n",
      "Epoch 68/600\n",
      "173/173 [==============================] - 1s 3ms/step - loss: 87221067776.0000 - val_loss: 98437545984.0000\n",
      "Epoch 69/600\n",
      "173/173 [==============================] - 1s 4ms/step - loss: 100362231808.0000 - val_loss: 83079766016.0000\n",
      "Epoch 70/600\n",
      "173/173 [==============================] - 1s 4ms/step - loss: 79201935360.0000 - val_loss: 87352459264.0000\n",
      "Epoch 71/600\n",
      "173/173 [==============================] - 1s 4ms/step - loss: 79873392640.0000 - val_loss: 96653262848.0000\n",
      "Epoch 72/600\n",
      "173/173 [==============================] - 1s 4ms/step - loss: 87511613440.0000 - val_loss: 186564395008.0000\n",
      "Epoch 73/600\n",
      "173/173 [==============================] - 1s 4ms/step - loss: 91292647424.0000 - val_loss: 142883504128.0000\n",
      "Epoch 74/600\n",
      "173/173 [==============================] - 1s 4ms/step - loss: 88225218560.0000 - val_loss: 123276820480.0000\n",
      "Epoch 75/600\n",
      "173/173 [==============================] - 1s 4ms/step - loss: 74062651392.0000 - val_loss: 77489922048.0000\n",
      "Epoch 76/600\n",
      "173/173 [==============================] - 1s 4ms/step - loss: 75399151616.0000 - val_loss: 90706575360.0000\n",
      "Epoch 77/600\n",
      "173/173 [==============================] - 1s 3ms/step - loss: 73435979776.0000 - val_loss: 83721854976.0000\n",
      "Epoch 78/600\n",
      "173/173 [==============================] - 0s 3ms/step - loss: 82034106368.0000 - val_loss: 116572192768.0000\n",
      "Epoch 79/600\n",
      "173/173 [==============================] - 0s 3ms/step - loss: 81204797440.0000 - val_loss: 81111908352.0000\n",
      "Epoch 80/600\n",
      "173/173 [==============================] - 0s 3ms/step - loss: 72619950080.0000 - val_loss: 85669404672.0000\n",
      "Epoch 81/600\n",
      "173/173 [==============================] - 0s 3ms/step - loss: 76108939264.0000 - val_loss: 92143640576.0000\n",
      "Epoch 82/600\n",
      "173/173 [==============================] - 0s 3ms/step - loss: 76860981248.0000 - val_loss: 86350544896.0000\n",
      "Epoch 83/600\n",
      "173/173 [==============================] - 0s 3ms/step - loss: 74927513600.0000 - val_loss: 82387722240.0000\n",
      "Epoch 84/600\n",
      "173/173 [==============================] - 0s 3ms/step - loss: 81930027008.0000 - val_loss: 80617390080.0000\n",
      "Epoch 85/600\n",
      "173/173 [==============================] - 1s 3ms/step - loss: 80652058624.0000 - val_loss: 75696234496.0000\n",
      "Epoch 86/600\n",
      "173/173 [==============================] - 1s 3ms/step - loss: 68947664896.0000 - val_loss: 78240301056.0000\n",
      "Epoch 87/600\n",
      "173/173 [==============================] - 1s 4ms/step - loss: 71699636224.0000 - val_loss: 77797785600.0000\n",
      "Epoch 88/600\n",
      "173/173 [==============================] - 1s 4ms/step - loss: 82231828480.0000 - val_loss: 86262218752.0000\n",
      "Epoch 89/600\n",
      "173/173 [==============================] - 1s 4ms/step - loss: 74691354624.0000 - val_loss: 75365687296.0000\n",
      "Epoch 90/600\n",
      "173/173 [==============================] - 1s 4ms/step - loss: 72062631936.0000 - val_loss: 86681870336.0000\n",
      "Epoch 91/600\n",
      "173/173 [==============================] - 1s 4ms/step - loss: 80066314240.0000 - val_loss: 71268065280.0000\n",
      "Epoch 92/600\n",
      "173/173 [==============================] - 1s 3ms/step - loss: 76099166208.0000 - val_loss: 164898127872.0000\n",
      "Epoch 93/600\n",
      "173/173 [==============================] - 1s 3ms/step - loss: 72695627776.0000 - val_loss: 78201257984.0000\n",
      "Epoch 94/600\n",
      "173/173 [==============================] - 0s 3ms/step - loss: 75539169280.0000 - val_loss: 79267766272.0000\n",
      "Epoch 95/600\n",
      "173/173 [==============================] - 1s 3ms/step - loss: 73518653440.0000 - val_loss: 74860167168.0000\n",
      "Epoch 96/600\n",
      "173/173 [==============================] - 0s 3ms/step - loss: 66385711104.0000 - val_loss: 81199038464.0000\n",
      "Epoch 97/600\n",
      "173/173 [==============================] - 0s 3ms/step - loss: 73207652352.0000 - val_loss: 83046965248.0000\n",
      "Epoch 98/600\n",
      "173/173 [==============================] - 0s 3ms/step - loss: 77636935680.0000 - val_loss: 95245287424.0000\n",
      "Epoch 99/600\n",
      "173/173 [==============================] - 0s 3ms/step - loss: 73905364992.0000 - val_loss: 71645265920.0000\n",
      "Epoch 100/600\n",
      "173/173 [==============================] - 0s 3ms/step - loss: 67788697600.0000 - val_loss: 72942247936.0000\n",
      "Epoch 101/600\n",
      "173/173 [==============================] - 0s 3ms/step - loss: 78401748992.0000 - val_loss: 88775360512.0000\n",
      "Epoch 102/600\n",
      "173/173 [==============================] - 0s 3ms/step - loss: 69852839936.0000 - val_loss: 87203733504.0000\n",
      "Epoch 103/600\n",
      "173/173 [==============================] - 0s 3ms/step - loss: 69032198144.0000 - val_loss: 71904534528.0000\n",
      "Epoch 104/600\n",
      "173/173 [==============================] - 0s 3ms/step - loss: 72984403968.0000 - val_loss: 75366703104.0000\n",
      "Epoch 105/600\n",
      "173/173 [==============================] - 1s 3ms/step - loss: 64931360768.0000 - val_loss: 71869243392.0000\n",
      "Epoch 106/600\n",
      "173/173 [==============================] - 1s 4ms/step - loss: 68918779904.0000 - val_loss: 92551708672.0000\n",
      "Epoch 107/600\n",
      "173/173 [==============================] - 1s 4ms/step - loss: 72799608832.0000 - val_loss: 78797856768.0000\n",
      "Epoch 108/600\n",
      "173/173 [==============================] - 1s 4ms/step - loss: 83056893952.0000 - val_loss: 180698103808.0000\n",
      "Epoch 109/600\n",
      "173/173 [==============================] - 1s 4ms/step - loss: 73277603840.0000 - val_loss: 73776881664.0000\n",
      "Epoch 110/600\n",
      "173/173 [==============================] - 1s 4ms/step - loss: 66891280384.0000 - val_loss: 73701924864.0000\n",
      "Epoch 111/600\n",
      "173/173 [==============================] - 1s 4ms/step - loss: 67283300352.0000 - val_loss: 73409167360.0000\n",
      "Epoch 112/600\n",
      "173/173 [==============================] - 1s 4ms/step - loss: 72172437504.0000 - val_loss: 75174461440.0000\n",
      "Epoch 113/600\n",
      "173/173 [==============================] - 1s 4ms/step - loss: 76717326336.0000 - val_loss: 89032712192.0000\n",
      "Epoch 114/600\n",
      "173/173 [==============================] - 1s 3ms/step - loss: 65348399104.0000 - val_loss: 75694776320.0000\n",
      "Epoch 115/600\n",
      "173/173 [==============================] - 0s 3ms/step - loss: 75109818368.0000 - val_loss: 82690752512.0000\n",
      "Epoch 116/600\n",
      "173/173 [==============================] - 1s 3ms/step - loss: 66310053888.0000 - val_loss: 71058898944.0000\n",
      "Epoch 117/600\n",
      "173/173 [==============================] - 0s 3ms/step - loss: 72933998592.0000 - val_loss: 98612748288.0000\n",
      "Epoch 118/600\n",
      "173/173 [==============================] - 0s 3ms/step - loss: 68349345792.0000 - val_loss: 78687592448.0000\n",
      "Epoch 119/600\n",
      "173/173 [==============================] - 0s 3ms/step - loss: 67672735744.0000 - val_loss: 80339542016.0000\n",
      "Epoch 120/600\n",
      "173/173 [==============================] - 0s 3ms/step - loss: 68664356864.0000 - val_loss: 71853613056.0000\n",
      "Epoch 121/600\n",
      "173/173 [==============================] - 1s 3ms/step - loss: 63935008768.0000 - val_loss: 80286785536.0000\n",
      "Epoch 122/600\n",
      "173/173 [==============================] - 1s 3ms/step - loss: 70146064384.0000 - val_loss: 72663416832.0000\n",
      "Epoch 123/600\n",
      "173/173 [==============================] - 1s 3ms/step - loss: 65120202752.0000 - val_loss: 86522470400.0000\n",
      "Epoch 124/600\n",
      "173/173 [==============================] - 1s 3ms/step - loss: 67108458496.0000 - val_loss: 73739411456.0000\n",
      "Epoch 125/600\n",
      "173/173 [==============================] - 0s 3ms/step - loss: 66229784576.0000 - val_loss: 81719410688.0000\n",
      "Epoch 126/600\n",
      "173/173 [==============================] - 1s 3ms/step - loss: 70505218048.0000 - val_loss: 87855398912.0000\n",
      "Epoch 127/600\n",
      "173/173 [==============================] - 1s 3ms/step - loss: 84564369408.0000 - val_loss: 77911875584.0000\n",
      "Epoch 128/600\n",
      "173/173 [==============================] - 0s 3ms/step - loss: 82662670336.0000 - val_loss: 73302687744.0000\n",
      "Epoch 129/600\n",
      "173/173 [==============================] - 0s 3ms/step - loss: 63764926464.0000 - val_loss: 73672032256.0000\n",
      "Epoch 130/600\n",
      "173/173 [==============================] - 0s 3ms/step - loss: 64252887040.0000 - val_loss: 72755560448.0000\n",
      "Epoch 131/600\n",
      "173/173 [==============================] - 0s 3ms/step - loss: 66233569280.0000 - val_loss: 70245588992.0000\n",
      "Epoch 132/600\n",
      "173/173 [==============================] - 0s 3ms/step - loss: 63296413696.0000 - val_loss: 86281986048.0000\n",
      "Epoch 133/600\n",
      "173/173 [==============================] - 0s 3ms/step - loss: 67982278656.0000 - val_loss: 83526475776.0000\n",
      "Epoch 134/600\n",
      "173/173 [==============================] - 0s 3ms/step - loss: 66218135552.0000 - val_loss: 88164433920.0000\n",
      "Epoch 135/600\n",
      "173/173 [==============================] - 1s 3ms/step - loss: 64374407168.0000 - val_loss: 79462449152.0000\n",
      "Epoch 136/600\n",
      "173/173 [==============================] - 0s 3ms/step - loss: 70776578048.0000 - val_loss: 72706662400.0000\n",
      "Epoch 137/600\n",
      "173/173 [==============================] - 1s 3ms/step - loss: 67852193792.0000 - val_loss: 91971051520.0000\n",
      "Epoch 138/600\n",
      "173/173 [==============================] - 1s 3ms/step - loss: 64923500544.0000 - val_loss: 83164422144.0000\n",
      "Epoch 139/600\n",
      "173/173 [==============================] - 0s 3ms/step - loss: 63676026880.0000 - val_loss: 73204981760.0000\n",
      "Epoch 140/600\n",
      "173/173 [==============================] - 1s 3ms/step - loss: 65786232832.0000 - val_loss: 81557520384.0000\n",
      "Epoch 141/600\n",
      "173/173 [==============================] - 0s 3ms/step - loss: 67781734400.0000 - val_loss: 79635537920.0000\n",
      "Epoch 142/600\n",
      "173/173 [==============================] - 0s 3ms/step - loss: 66514575360.0000 - val_loss: 72248475648.0000\n",
      "Epoch 143/600\n",
      "173/173 [==============================] - 0s 3ms/step - loss: 66017607680.0000 - val_loss: 81800036352.0000\n",
      "Epoch 144/600\n",
      "173/173 [==============================] - 0s 3ms/step - loss: 62161801216.0000 - val_loss: 77400506368.0000\n",
      "Epoch 145/600\n",
      "173/173 [==============================] - 0s 3ms/step - loss: 60425891840.0000 - val_loss: 82099847168.0000\n",
      "Epoch 146/600\n",
      "173/173 [==============================] - 0s 3ms/step - loss: 81704935424.0000 - val_loss: 75462795264.0000\n",
      "Epoch 147/600\n",
      "173/173 [==============================] - 0s 3ms/step - loss: 67905802240.0000 - val_loss: 77194158080.0000\n",
      "Epoch 148/600\n",
      "173/173 [==============================] - 0s 3ms/step - loss: 63367589888.0000 - val_loss: 101407293440.0000\n",
      "Epoch 149/600\n",
      "173/173 [==============================] - 0s 3ms/step - loss: 68596658176.0000 - val_loss: 71398883328.0000\n",
      "Epoch 150/600\n",
      "173/173 [==============================] - 0s 3ms/step - loss: 66016231424.0000 - val_loss: 78160650240.0000\n",
      "Epoch 151/600\n",
      "173/173 [==============================] - 0s 3ms/step - loss: 61775699968.0000 - val_loss: 77037158400.0000\n",
      "Epoch 152/600\n",
      "173/173 [==============================] - 1s 3ms/step - loss: 60047163392.0000 - val_loss: 71962550272.0000\n",
      "Epoch 153/600\n",
      "173/173 [==============================] - 1s 3ms/step - loss: 63510839296.0000 - val_loss: 80162562048.0000\n",
      "Epoch 154/600\n",
      "173/173 [==============================] - 1s 3ms/step - loss: 60492455936.0000 - val_loss: 84163952640.0000\n",
      "Epoch 155/600\n",
      "173/173 [==============================] - 1s 3ms/step - loss: 69674958848.0000 - val_loss: 89412067328.0000\n",
      "Epoch 156/600\n",
      "173/173 [==============================] - 0s 3ms/step - loss: 66713841664.0000 - val_loss: 81595146240.0000\n",
      "Epoch 157/600\n",
      "173/173 [==============================] - 0s 3ms/step - loss: 64547192832.0000 - val_loss: 77180133376.0000\n",
      "Epoch 158/600\n",
      "173/173 [==============================] - 0s 3ms/step - loss: 62976811008.0000 - val_loss: 70785613824.0000\n",
      "Epoch 159/600\n",
      "173/173 [==============================] - 0s 3ms/step - loss: 61646647296.0000 - val_loss: 79751634944.0000\n",
      "Epoch 160/600\n",
      "173/173 [==============================] - 0s 3ms/step - loss: 63013556224.0000 - val_loss: 143889743872.0000\n",
      "Epoch 161/600\n",
      "173/173 [==============================] - 0s 3ms/step - loss: 76039102464.0000 - val_loss: 70396280832.0000\n",
      "Epoch 162/600\n",
      "173/173 [==============================] - 0s 3ms/step - loss: 60145631232.0000 - val_loss: 87536861184.0000\n",
      "Epoch 163/600\n",
      "173/173 [==============================] - 0s 3ms/step - loss: 59950542848.0000 - val_loss: 78602870784.0000\n",
      "Epoch 164/600\n",
      "173/173 [==============================] - 1s 3ms/step - loss: 60038926336.0000 - val_loss: 85214773248.0000\n",
      "Epoch 165/600\n",
      "173/173 [==============================] - 0s 3ms/step - loss: 60031426560.0000 - val_loss: 79807537152.0000\n",
      "Epoch 166/600\n",
      "173/173 [==============================] - 0s 3ms/step - loss: 62329380864.0000 - val_loss: 84219060224.0000\n",
      "Epoch 167/600\n",
      "173/173 [==============================] - 0s 3ms/step - loss: 58317766656.0000 - val_loss: 74166525952.0000\n",
      "Epoch 168/600\n",
      "173/173 [==============================] - 0s 3ms/step - loss: 58591666176.0000 - val_loss: 79202721792.0000\n",
      "Epoch 169/600\n",
      "173/173 [==============================] - 0s 3ms/step - loss: 71349657600.0000 - val_loss: 76079292416.0000\n",
      "Epoch 170/600\n",
      "173/173 [==============================] - 0s 3ms/step - loss: 62999248896.0000 - val_loss: 72027578368.0000\n",
      "Epoch 171/600\n",
      "173/173 [==============================] - 0s 3ms/step - loss: 58930626560.0000 - val_loss: 78293286912.0000\n",
      "Epoch 172/600\n",
      "173/173 [==============================] - 0s 3ms/step - loss: 77380444160.0000 - val_loss: 117963038720.0000\n",
      "Epoch 173/600\n",
      "173/173 [==============================] - 0s 3ms/step - loss: 68158730240.0000 - val_loss: 109161291776.0000\n",
      "Epoch 174/600\n",
      "173/173 [==============================] - 0s 3ms/step - loss: 59248472064.0000 - val_loss: 92776521728.0000\n",
      "Epoch 175/600\n",
      "173/173 [==============================] - 1s 3ms/step - loss: 58447011840.0000 - val_loss: 92656771072.0000\n",
      "Epoch 176/600\n",
      "173/173 [==============================] - 1s 3ms/step - loss: 64948269056.0000 - val_loss: 83131408384.0000\n",
      "Epoch 177/600\n",
      "173/173 [==============================] - 1s 4ms/step - loss: 59219513344.0000 - val_loss: 70515073024.0000\n",
      "Epoch 178/600\n",
      "173/173 [==============================] - 1s 4ms/step - loss: 76796739584.0000 - val_loss: 70186827776.0000\n",
      "Epoch 179/600\n",
      "173/173 [==============================] - 1s 4ms/step - loss: 57666260992.0000 - val_loss: 78232469504.0000\n",
      "Epoch 180/600\n",
      "173/173 [==============================] - 1s 4ms/step - loss: 61088817152.0000 - val_loss: 95901900800.0000\n",
      "Epoch 181/600\n",
      "173/173 [==============================] - 1s 4ms/step - loss: 81284440064.0000 - val_loss: 75293663232.0000\n",
      "Epoch 182/600\n",
      "173/173 [==============================] - 1s 4ms/step - loss: 78155685888.0000 - val_loss: 76299264000.0000\n",
      "Epoch 183/600\n",
      "173/173 [==============================] - 1s 4ms/step - loss: 57671688192.0000 - val_loss: 71675609088.0000\n",
      "Epoch 184/600\n",
      "173/173 [==============================] - 1s 4ms/step - loss: 63027134464.0000 - val_loss: 72878161920.0000\n",
      "Epoch 185/600\n",
      "173/173 [==============================] - 1s 4ms/step - loss: 60532195328.0000 - val_loss: 71704215552.0000\n",
      "Epoch 186/600\n",
      "173/173 [==============================] - 1s 4ms/step - loss: 59140349952.0000 - val_loss: 91361337344.0000\n",
      "Epoch 187/600\n",
      "173/173 [==============================] - 1s 4ms/step - loss: 57091006464.0000 - val_loss: 71364919296.0000\n",
      "Epoch 188/600\n",
      "173/173 [==============================] - 1s 4ms/step - loss: 67043811328.0000 - val_loss: 74426400768.0000\n",
      "Epoch 189/600\n",
      "173/173 [==============================] - 1s 4ms/step - loss: 57609326592.0000 - val_loss: 70339387392.0000\n",
      "Epoch 190/600\n",
      "173/173 [==============================] - 1s 4ms/step - loss: 55175249920.0000 - val_loss: 74715029504.0000\n",
      "Epoch 191/600\n",
      "173/173 [==============================] - 1s 4ms/step - loss: 63573594112.0000 - val_loss: 132782047232.0000\n",
      "Epoch 192/600\n",
      "173/173 [==============================] - 1s 4ms/step - loss: 57576083456.0000 - val_loss: 70278955008.0000\n",
      "Epoch 193/600\n",
      "173/173 [==============================] - 1s 4ms/step - loss: 67587321856.0000 - val_loss: 94965940224.0000\n",
      "Epoch 194/600\n",
      "173/173 [==============================] - 1s 4ms/step - loss: 59158933504.0000 - val_loss: 89366855680.0000\n",
      "Epoch 195/600\n",
      "173/173 [==============================] - 1s 4ms/step - loss: 64636055552.0000 - val_loss: 78411923456.0000\n",
      "Epoch 196/600\n",
      "173/173 [==============================] - 1s 4ms/step - loss: 61806768128.0000 - val_loss: 73458253824.0000\n",
      "Epoch 197/600\n",
      "173/173 [==============================] - 1s 3ms/step - loss: 57767407616.0000 - val_loss: 101198012416.0000\n",
      "Epoch 198/600\n",
      "173/173 [==============================] - 1s 3ms/step - loss: 63485702144.0000 - val_loss: 74955366400.0000\n",
      "Epoch 199/600\n",
      "173/173 [==============================] - 1s 3ms/step - loss: 67440078848.0000 - val_loss: 94158635008.0000\n",
      "Epoch 200/600\n",
      "173/173 [==============================] - 1s 3ms/step - loss: 64833220608.0000 - val_loss: 76789547008.0000\n",
      "Epoch 201/600\n",
      "173/173 [==============================] - 1s 3ms/step - loss: 54488014848.0000 - val_loss: 75431059456.0000\n",
      "Epoch 202/600\n",
      "173/173 [==============================] - 1s 4ms/step - loss: 56436563968.0000 - val_loss: 73525485568.0000\n",
      "Epoch 203/600\n",
      "173/173 [==============================] - 1s 4ms/step - loss: 58053353472.0000 - val_loss: 135068147712.0000\n",
      "Epoch 204/600\n",
      "173/173 [==============================] - 1s 4ms/step - loss: 76263727104.0000 - val_loss: 80271310848.0000\n",
      "Epoch 205/600\n",
      "173/173 [==============================] - 1s 4ms/step - loss: 59413782528.0000 - val_loss: 92930785280.0000\n",
      "Epoch 206/600\n",
      "173/173 [==============================] - 1s 4ms/step - loss: 67039166464.0000 - val_loss: 81962713088.0000\n",
      "Epoch 207/600\n",
      "173/173 [==============================] - 1s 3ms/step - loss: 57494847488.0000 - val_loss: 83852943360.0000\n",
      "Epoch 208/600\n",
      "173/173 [==============================] - 1s 3ms/step - loss: 56422961152.0000 - val_loss: 88337408000.0000\n",
      "Epoch 209/600\n",
      "173/173 [==============================] - 1s 3ms/step - loss: 54761259008.0000 - val_loss: 74925916160.0000\n",
      "Epoch 210/600\n",
      "173/173 [==============================] - 1s 3ms/step - loss: 60680523776.0000 - val_loss: 78893744128.0000\n",
      "Epoch 211/600\n",
      "173/173 [==============================] - 1s 3ms/step - loss: 68623081472.0000 - val_loss: 74934689792.0000\n",
      "Epoch 212/600\n",
      "173/173 [==============================] - 1s 3ms/step - loss: 68750213120.0000 - val_loss: 69806702592.0000\n",
      "Epoch 213/600\n",
      "173/173 [==============================] - 1s 3ms/step - loss: 55309201408.0000 - val_loss: 72257396736.0000\n",
      "Epoch 214/600\n",
      "173/173 [==============================] - 1s 3ms/step - loss: 57824940032.0000 - val_loss: 73810780160.0000\n",
      "Epoch 215/600\n",
      "173/173 [==============================] - 1s 3ms/step - loss: 58011901952.0000 - val_loss: 72636047360.0000\n",
      "Epoch 216/600\n",
      "173/173 [==============================] - 1s 3ms/step - loss: 58416222208.0000 - val_loss: 74284957696.0000\n",
      "Epoch 217/600\n",
      "173/173 [==============================] - 1s 4ms/step - loss: 68120207360.0000 - val_loss: 105954000896.0000\n",
      "Epoch 218/600\n",
      "173/173 [==============================] - 1s 4ms/step - loss: 61001764864.0000 - val_loss: 81319272448.0000\n",
      "Epoch 219/600\n",
      "173/173 [==============================] - 1s 4ms/step - loss: 55742091264.0000 - val_loss: 76227371008.0000\n",
      "Epoch 220/600\n",
      "173/173 [==============================] - 1s 4ms/step - loss: 54630965248.0000 - val_loss: 73535692800.0000\n",
      "Epoch 221/600\n",
      "173/173 [==============================] - 1s 4ms/step - loss: 53260247040.0000 - val_loss: 78529822720.0000\n",
      "Epoch 222/600\n",
      "173/173 [==============================] - 1s 4ms/step - loss: 57613389824.0000 - val_loss: 70886391808.0000\n",
      "Epoch 223/600\n",
      "173/173 [==============================] - 1s 4ms/step - loss: 72629477376.0000 - val_loss: 84498726912.0000\n",
      "Epoch 224/600\n",
      "173/173 [==============================] - 1s 4ms/step - loss: 69320925184.0000 - val_loss: 93902594048.0000\n",
      "Epoch 225/600\n",
      "173/173 [==============================] - 1s 3ms/step - loss: 59406385152.0000 - val_loss: 84479107072.0000\n",
      "Epoch 226/600\n",
      "173/173 [==============================] - 1s 3ms/step - loss: 58517266432.0000 - val_loss: 71152132096.0000\n",
      "Epoch 227/600\n",
      "173/173 [==============================] - 1s 3ms/step - loss: 58983325696.0000 - val_loss: 75891482624.0000\n",
      "Epoch 228/600\n",
      "173/173 [==============================] - 1s 3ms/step - loss: 56727638016.0000 - val_loss: 90729398272.0000\n",
      "Epoch 229/600\n",
      "173/173 [==============================] - 1s 3ms/step - loss: 60549525504.0000 - val_loss: 80803725312.0000\n",
      "Epoch 230/600\n",
      "173/173 [==============================] - 1s 3ms/step - loss: 51497283584.0000 - val_loss: 73807429632.0000\n",
      "Epoch 231/600\n",
      "173/173 [==============================] - 1s 3ms/step - loss: 56511844352.0000 - val_loss: 70961233920.0000\n",
      "Epoch 232/600\n",
      "173/173 [==============================] - 1s 3ms/step - loss: 53991677952.0000 - val_loss: 72967946240.0000\n",
      "Epoch 233/600\n",
      "173/173 [==============================] - 1s 4ms/step - loss: 55196221440.0000 - val_loss: 80715923456.0000\n",
      "Epoch 234/600\n",
      "173/173 [==============================] - 1s 4ms/step - loss: 51682668544.0000 - val_loss: 74935492608.0000\n",
      "Epoch 235/600\n",
      "173/173 [==============================] - 1s 4ms/step - loss: 54709489664.0000 - val_loss: 76152979456.0000\n",
      "Epoch 236/600\n",
      "173/173 [==============================] - 1s 4ms/step - loss: 52618424320.0000 - val_loss: 74452033536.0000\n",
      "Epoch 237/600\n",
      "173/173 [==============================] - 1s 4ms/step - loss: 60451770368.0000 - val_loss: 80199385088.0000\n",
      "Epoch 238/600\n",
      "173/173 [==============================] - 1s 4ms/step - loss: 66193756160.0000 - val_loss: 83836444672.0000\n",
      "Epoch 239/600\n",
      "173/173 [==============================] - 1s 4ms/step - loss: 68712501248.0000 - val_loss: 89644081152.0000\n",
      "Epoch 240/600\n",
      "173/173 [==============================] - 1s 4ms/step - loss: 65476775936.0000 - val_loss: 73213468672.0000\n",
      "Epoch 241/600\n",
      "173/173 [==============================] - 1s 4ms/step - loss: 53877354496.0000 - val_loss: 89367060480.0000\n",
      "Epoch 242/600\n",
      "173/173 [==============================] - 1s 4ms/step - loss: 54100119552.0000 - val_loss: 76675784704.0000\n",
      "Epoch 243/600\n",
      "173/173 [==============================] - 1s 4ms/step - loss: 52620427264.0000 - val_loss: 74334838784.0000\n",
      "Epoch 244/600\n",
      "173/173 [==============================] - 1s 4ms/step - loss: 51458457600.0000 - val_loss: 68623204352.0000\n",
      "Epoch 245/600\n",
      "173/173 [==============================] - 1s 4ms/step - loss: 67048378368.0000 - val_loss: 95852617728.0000\n",
      "Epoch 246/600\n",
      "173/173 [==============================] - 1s 4ms/step - loss: 60646887424.0000 - val_loss: 113259094016.0000\n",
      "Epoch 247/600\n",
      "173/173 [==============================] - 1s 4ms/step - loss: 64009818112.0000 - val_loss: 71939743744.0000\n",
      "Epoch 248/600\n",
      "173/173 [==============================] - 1s 4ms/step - loss: 55897755648.0000 - val_loss: 97759731712.0000\n",
      "Epoch 249/600\n",
      "173/173 [==============================] - 1s 4ms/step - loss: 55855394816.0000 - val_loss: 73773645824.0000\n",
      "Epoch 250/600\n",
      "173/173 [==============================] - 1s 4ms/step - loss: 53616816128.0000 - val_loss: 79921930240.0000\n",
      "Epoch 251/600\n",
      "173/173 [==============================] - 1s 4ms/step - loss: 49868136448.0000 - val_loss: 72202543104.0000\n",
      "Epoch 252/600\n",
      "173/173 [==============================] - 1s 4ms/step - loss: 51628564480.0000 - val_loss: 74982948864.0000\n",
      "Epoch 253/600\n",
      "173/173 [==============================] - 1s 4ms/step - loss: 49218912256.0000 - val_loss: 74901602304.0000\n",
      "Epoch 254/600\n",
      "173/173 [==============================] - 1s 4ms/step - loss: 56074706944.0000 - val_loss: 77937672192.0000\n",
      "Epoch 255/600\n",
      "173/173 [==============================] - 1s 3ms/step - loss: 64216064000.0000 - val_loss: 91596988416.0000\n",
      "Epoch 256/600\n",
      "173/173 [==============================] - 1s 3ms/step - loss: 61506158592.0000 - val_loss: 92411789312.0000\n",
      "Epoch 257/600\n",
      "173/173 [==============================] - 1s 3ms/step - loss: 50943479808.0000 - val_loss: 72854478848.0000\n",
      "Epoch 258/600\n",
      "173/173 [==============================] - 1s 4ms/step - loss: 48787005440.0000 - val_loss: 75462500352.0000\n",
      "Epoch 259/600\n",
      "173/173 [==============================] - 1s 4ms/step - loss: 54982561792.0000 - val_loss: 74492305408.0000\n",
      "Epoch 260/600\n",
      "173/173 [==============================] - 1s 4ms/step - loss: 62023356416.0000 - val_loss: 86245343232.0000\n",
      "Epoch 261/600\n",
      "173/173 [==============================] - 1s 4ms/step - loss: 55006179328.0000 - val_loss: 72760352768.0000\n",
      "Epoch 262/600\n",
      "173/173 [==============================] - 1s 3ms/step - loss: 48245080064.0000 - val_loss: 74326614016.0000\n",
      "Epoch 263/600\n",
      "173/173 [==============================] - 1s 3ms/step - loss: 57051357184.0000 - val_loss: 74598023168.0000\n",
      "Epoch 264/600\n",
      "173/173 [==============================] - 1s 3ms/step - loss: 62477053952.0000 - val_loss: 90771759104.0000\n",
      "Epoch 265/600\n",
      "173/173 [==============================] - 1s 3ms/step - loss: 64025980928.0000 - val_loss: 80414523392.0000\n",
      "Epoch 266/600\n",
      "173/173 [==============================] - 1s 3ms/step - loss: 54151225344.0000 - val_loss: 71526211584.0000\n",
      "Epoch 267/600\n",
      "173/173 [==============================] - 1s 3ms/step - loss: 63710789632.0000 - val_loss: 78510931968.0000\n",
      "Epoch 268/600\n",
      "173/173 [==============================] - 1s 4ms/step - loss: 55672471552.0000 - val_loss: 78521516032.0000\n",
      "Epoch 269/600\n",
      "173/173 [==============================] - 1s 4ms/step - loss: 59057557504.0000 - val_loss: 86927663104.0000\n",
      "Epoch 270/600\n",
      "173/173 [==============================] - 1s 4ms/step - loss: 66170351616.0000 - val_loss: 114158403584.0000\n",
      "Epoch 271/600\n",
      "173/173 [==============================] - 1s 4ms/step - loss: 53617442816.0000 - val_loss: 71020240896.0000\n",
      "Epoch 272/600\n",
      "173/173 [==============================] - 1s 4ms/step - loss: 48666505216.0000 - val_loss: 82956623872.0000\n",
      "Epoch 273/600\n",
      "173/173 [==============================] - 1s 4ms/step - loss: 50792374272.0000 - val_loss: 74708926464.0000\n",
      "Epoch 274/600\n",
      "173/173 [==============================] - 1s 4ms/step - loss: 53343682560.0000 - val_loss: 85163646976.0000\n",
      "Epoch 275/600\n",
      "173/173 [==============================] - 1s 4ms/step - loss: 56707858432.0000 - val_loss: 80603234304.0000\n",
      "Epoch 276/600\n",
      "173/173 [==============================] - 1s 4ms/step - loss: 60630474752.0000 - val_loss: 82100830208.0000\n",
      "Epoch 277/600\n",
      "173/173 [==============================] - 1s 4ms/step - loss: 52185624576.0000 - val_loss: 81438195712.0000\n",
      "Epoch 278/600\n",
      "173/173 [==============================] - 1s 3ms/step - loss: 50073374720.0000 - val_loss: 79267774464.0000\n",
      "Epoch 279/600\n",
      "173/173 [==============================] - 1s 3ms/step - loss: 54968901632.0000 - val_loss: 75880316928.0000\n",
      "Epoch 280/600\n",
      "173/173 [==============================] - 0s 3ms/step - loss: 61033984000.0000 - val_loss: 68124749824.0000\n",
      "Epoch 281/600\n",
      "173/173 [==============================] - 0s 3ms/step - loss: 52726566912.0000 - val_loss: 67981291520.0000\n",
      "Epoch 282/600\n",
      "173/173 [==============================] - 1s 3ms/step - loss: 51123175424.0000 - val_loss: 86960914432.0000\n",
      "Epoch 283/600\n",
      "173/173 [==============================] - 1s 3ms/step - loss: 58347696128.0000 - val_loss: 88030183424.0000\n",
      "Epoch 284/600\n",
      "173/173 [==============================] - 1s 3ms/step - loss: 69074599936.0000 - val_loss: 71602692096.0000\n",
      "Epoch 285/600\n",
      "173/173 [==============================] - 1s 4ms/step - loss: 61363937280.0000 - val_loss: 70477840384.0000\n",
      "Epoch 286/600\n",
      "173/173 [==============================] - 1s 4ms/step - loss: 53952045056.0000 - val_loss: 70768410624.0000\n",
      "Epoch 287/600\n",
      "173/173 [==============================] - 1s 4ms/step - loss: 51859075072.0000 - val_loss: 72031961088.0000\n",
      "Epoch 288/600\n",
      "173/173 [==============================] - 1s 4ms/step - loss: 49619853312.0000 - val_loss: 79701106688.0000\n",
      "Epoch 289/600\n",
      "173/173 [==============================] - 1s 4ms/step - loss: 50021773312.0000 - val_loss: 73775833088.0000\n",
      "Epoch 290/600\n",
      "173/173 [==============================] - 1s 4ms/step - loss: 61606608896.0000 - val_loss: 80427155456.0000\n",
      "Epoch 291/600\n",
      "173/173 [==============================] - 1s 4ms/step - loss: 50267090944.0000 - val_loss: 79103270912.0000\n",
      "Epoch 292/600\n",
      "173/173 [==============================] - 1s 4ms/step - loss: 54198800384.0000 - val_loss: 93661642752.0000\n",
      "Epoch 293/600\n",
      "173/173 [==============================] - 1s 4ms/step - loss: 56261541888.0000 - val_loss: 74811703296.0000\n",
      "Epoch 294/600\n",
      "173/173 [==============================] - 1s 4ms/step - loss: 57982525440.0000 - val_loss: 141501808640.0000\n",
      "Epoch 295/600\n",
      "173/173 [==============================] - 1s 4ms/step - loss: 64590139392.0000 - val_loss: 69992955904.0000\n",
      "Epoch 296/600\n",
      "173/173 [==============================] - 1s 4ms/step - loss: 50505236480.0000 - val_loss: 70996000768.0000\n",
      "Epoch 297/600\n",
      "173/173 [==============================] - 1s 4ms/step - loss: 58010906624.0000 - val_loss: 75926315008.0000\n",
      "Epoch 298/600\n",
      "173/173 [==============================] - 1s 4ms/step - loss: 56363458560.0000 - val_loss: 71275651072.0000\n",
      "Epoch 299/600\n",
      "173/173 [==============================] - 1s 4ms/step - loss: 48205701120.0000 - val_loss: 78558601216.0000\n",
      "Epoch 300/600\n",
      "173/173 [==============================] - 1s 4ms/step - loss: 51605381120.0000 - val_loss: 77770399744.0000\n",
      "Epoch 301/600\n",
      "173/173 [==============================] - 1s 4ms/step - loss: 53487407104.0000 - val_loss: 73123250176.0000\n",
      "Epoch 302/600\n",
      "173/173 [==============================] - 1s 4ms/step - loss: 68842848256.0000 - val_loss: 75350548480.0000\n",
      "Epoch 303/600\n",
      "173/173 [==============================] - 1s 4ms/step - loss: 54998392832.0000 - val_loss: 71694934016.0000\n",
      "Epoch 304/600\n",
      "173/173 [==============================] - 1s 4ms/step - loss: 48375083008.0000 - val_loss: 68996538368.0000\n",
      "Epoch 305/600\n",
      "173/173 [==============================] - 1s 4ms/step - loss: 53350522880.0000 - val_loss: 74380222464.0000\n",
      "Epoch 306/600\n",
      "173/173 [==============================] - 1s 4ms/step - loss: 49410998272.0000 - val_loss: 76130336768.0000\n",
      "Epoch 307/600\n",
      "173/173 [==============================] - 1s 4ms/step - loss: 53024595968.0000 - val_loss: 93297344512.0000\n",
      "Epoch 308/600\n",
      "173/173 [==============================] - 1s 4ms/step - loss: 53085102080.0000 - val_loss: 70911434752.0000\n",
      "Epoch 309/600\n",
      "173/173 [==============================] - 1s 4ms/step - loss: 46614491136.0000 - val_loss: 70996279296.0000\n",
      "Epoch 310/600\n",
      "173/173 [==============================] - 1s 4ms/step - loss: 51538747392.0000 - val_loss: 80434003968.0000\n",
      "Epoch 311/600\n",
      "173/173 [==============================] - 1s 4ms/step - loss: 54412996608.0000 - val_loss: 73923043328.0000\n",
      "Epoch 312/600\n",
      "173/173 [==============================] - 1s 4ms/step - loss: 53885669376.0000 - val_loss: 75421155328.0000\n",
      "Epoch 313/600\n",
      "173/173 [==============================] - 1s 4ms/step - loss: 48821559296.0000 - val_loss: 85723086848.0000\n",
      "Epoch 314/600\n",
      "173/173 [==============================] - 1s 4ms/step - loss: 56498634752.0000 - val_loss: 79297175552.0000\n",
      "Epoch 315/600\n",
      "173/173 [==============================] - 1s 4ms/step - loss: 50560798720.0000 - val_loss: 80817143808.0000\n",
      "Epoch 316/600\n",
      "173/173 [==============================] - 1s 4ms/step - loss: 48941617152.0000 - val_loss: 77483384832.0000\n",
      "Epoch 317/600\n",
      "173/173 [==============================] - 1s 4ms/step - loss: 47184465920.0000 - val_loss: 89940516864.0000\n",
      "Epoch 318/600\n",
      "173/173 [==============================] - 1s 3ms/step - loss: 57761591296.0000 - val_loss: 86234177536.0000\n",
      "Epoch 319/600\n",
      "173/173 [==============================] - 1s 3ms/step - loss: 47564120064.0000 - val_loss: 86456147968.0000\n",
      "Epoch 320/600\n",
      "173/173 [==============================] - 1s 3ms/step - loss: 49064329216.0000 - val_loss: 74987610112.0000\n",
      "Epoch 321/600\n",
      "173/173 [==============================] - 1s 3ms/step - loss: 48479580160.0000 - val_loss: 83647807488.0000\n",
      "Epoch 322/600\n",
      "173/173 [==============================] - 1s 3ms/step - loss: 55585787904.0000 - val_loss: 88388313088.0000\n",
      "Epoch 323/600\n",
      "173/173 [==============================] - 1s 3ms/step - loss: 60849758208.0000 - val_loss: 92138283008.0000\n",
      "Epoch 324/600\n",
      "173/173 [==============================] - 1s 3ms/step - loss: 59105214464.0000 - val_loss: 85425553408.0000\n",
      "Epoch 325/600\n",
      "173/173 [==============================] - 1s 4ms/step - loss: 57024741376.0000 - val_loss: 95309053952.0000\n",
      "Epoch 326/600\n",
      "173/173 [==============================] - 1s 4ms/step - loss: 61140086784.0000 - val_loss: 76130574336.0000\n",
      "Epoch 327/600\n",
      "173/173 [==============================] - 1s 4ms/step - loss: 52824240128.0000 - val_loss: 74250362880.0000\n",
      "Epoch 328/600\n",
      "173/173 [==============================] - 1s 4ms/step - loss: 64042618880.0000 - val_loss: 85384142848.0000\n",
      "Epoch 329/600\n",
      "173/173 [==============================] - 1s 4ms/step - loss: 52558479360.0000 - val_loss: 75596103680.0000\n",
      "Epoch 330/600\n",
      "173/173 [==============================] - 1s 4ms/step - loss: 50746466304.0000 - val_loss: 75151597568.0000\n",
      "Epoch 331/600\n",
      "173/173 [==============================] - 1s 4ms/step - loss: 50730004480.0000 - val_loss: 73046548480.0000\n",
      "Epoch 332/600\n",
      "173/173 [==============================] - 1s 4ms/step - loss: 49366618112.0000 - val_loss: 121280200704.0000\n",
      "Epoch 333/600\n",
      "173/173 [==============================] - 1s 4ms/step - loss: 50555387904.0000 - val_loss: 74211508224.0000\n",
      "Epoch 334/600\n",
      "173/173 [==============================] - 1s 4ms/step - loss: 47279591424.0000 - val_loss: 107120279552.0000\n",
      "Epoch 335/600\n",
      "173/173 [==============================] - 1s 4ms/step - loss: 55388057600.0000 - val_loss: 82371993600.0000\n",
      "Epoch 336/600\n",
      "173/173 [==============================] - 1s 4ms/step - loss: 56075071488.0000 - val_loss: 72982634496.0000\n",
      "Epoch 337/600\n",
      "173/173 [==============================] - 1s 4ms/step - loss: 49799761920.0000 - val_loss: 78488879104.0000\n",
      "Epoch 338/600\n",
      "173/173 [==============================] - 1s 4ms/step - loss: 55117414400.0000 - val_loss: 75358306304.0000\n",
      "Epoch 339/600\n",
      "173/173 [==============================] - 1s 4ms/step - loss: 46969659392.0000 - val_loss: 76554665984.0000\n",
      "Epoch 340/600\n",
      "173/173 [==============================] - 1s 4ms/step - loss: 48161075200.0000 - val_loss: 72385527808.0000\n",
      "Epoch 341/600\n",
      "173/173 [==============================] - 1s 4ms/step - loss: 73000140800.0000 - val_loss: 92257624064.0000\n",
      "Epoch 342/600\n",
      "173/173 [==============================] - 1s 4ms/step - loss: 52416253952.0000 - val_loss: 72478384128.0000\n",
      "Epoch 343/600\n",
      "173/173 [==============================] - 1s 4ms/step - loss: 49345314816.0000 - val_loss: 70890946560.0000\n",
      "Epoch 344/600\n",
      "173/173 [==============================] - 1s 4ms/step - loss: 45695713280.0000 - val_loss: 71679336448.0000\n",
      "Epoch 345/600\n",
      "173/173 [==============================] - 1s 4ms/step - loss: 52353101824.0000 - val_loss: 71587356672.0000\n",
      "Epoch 346/600\n",
      "173/173 [==============================] - 1s 4ms/step - loss: 47192326144.0000 - val_loss: 82070405120.0000\n",
      "Epoch 347/600\n",
      "173/173 [==============================] - 1s 4ms/step - loss: 47621005312.0000 - val_loss: 70969679872.0000\n",
      "Epoch 348/600\n",
      "173/173 [==============================] - 1s 4ms/step - loss: 47687307264.0000 - val_loss: 110250917888.0000\n",
      "Epoch 349/600\n",
      "173/173 [==============================] - 1s 4ms/step - loss: 49213231104.0000 - val_loss: 79669436416.0000\n",
      "Epoch 350/600\n",
      "173/173 [==============================] - 1s 4ms/step - loss: 48639631360.0000 - val_loss: 75834376192.0000\n",
      "Epoch 351/600\n",
      "173/173 [==============================] - 1s 4ms/step - loss: 65380614144.0000 - val_loss: 94174879744.0000\n",
      "Epoch 352/600\n",
      "173/173 [==============================] - 1s 4ms/step - loss: 53612433408.0000 - val_loss: 83758292992.0000\n",
      "Epoch 353/600\n",
      "173/173 [==============================] - 1s 4ms/step - loss: 53752672256.0000 - val_loss: 91340939264.0000\n",
      "Epoch 354/600\n",
      "173/173 [==============================] - 1s 4ms/step - loss: 58726084608.0000 - val_loss: 84131348480.0000\n",
      "Epoch 355/600\n",
      "173/173 [==============================] - 1s 4ms/step - loss: 54314266624.0000 - val_loss: 71600529408.0000\n",
      "Epoch 356/600\n",
      "173/173 [==============================] - 1s 4ms/step - loss: 65516662784.0000 - val_loss: 76612091904.0000\n",
      "Epoch 357/600\n",
      "173/173 [==============================] - 1s 4ms/step - loss: 51045060608.0000 - val_loss: 72446205952.0000\n",
      "Epoch 358/600\n",
      "173/173 [==============================] - 1s 4ms/step - loss: 45036531712.0000 - val_loss: 80057499648.0000\n",
      "Epoch 359/600\n",
      "173/173 [==============================] - 1s 3ms/step - loss: 46211334144.0000 - val_loss: 79860711424.0000\n",
      "Epoch 360/600\n",
      "173/173 [==============================] - 1s 3ms/step - loss: 55546437632.0000 - val_loss: 69073248256.0000\n",
      "Epoch 361/600\n",
      "173/173 [==============================] - 1s 3ms/step - loss: 50619674624.0000 - val_loss: 73561849856.0000\n",
      "Epoch 362/600\n",
      "173/173 [==============================] - 1s 3ms/step - loss: 63593398272.0000 - val_loss: 98726199296.0000\n",
      "Epoch 363/600\n",
      "173/173 [==============================] - 1s 4ms/step - loss: 61492162560.0000 - val_loss: 84236271616.0000\n",
      "Epoch 364/600\n",
      "173/173 [==============================] - 1s 4ms/step - loss: 48526946304.0000 - val_loss: 71229284352.0000\n",
      "Epoch 365/600\n",
      "173/173 [==============================] - 1s 4ms/step - loss: 49926729728.0000 - val_loss: 71436509184.0000\n",
      "Epoch 366/600\n",
      "173/173 [==============================] - 1s 4ms/step - loss: 48233000960.0000 - val_loss: 76002025472.0000\n",
      "Epoch 367/600\n",
      "173/173 [==============================] - 1s 4ms/step - loss: 46326558720.0000 - val_loss: 71567736832.0000\n",
      "Epoch 368/600\n",
      "173/173 [==============================] - 1s 4ms/step - loss: 48336756736.0000 - val_loss: 71904526336.0000\n",
      "Epoch 369/600\n",
      "173/173 [==============================] - 1s 4ms/step - loss: 46781935616.0000 - val_loss: 73646915584.0000\n",
      "Epoch 370/600\n",
      "173/173 [==============================] - 1s 4ms/step - loss: 54395686912.0000 - val_loss: 79967797248.0000\n",
      "Epoch 371/600\n",
      "173/173 [==============================] - 1s 4ms/step - loss: 57461059584.0000 - val_loss: 74212982784.0000\n",
      "Epoch 372/600\n",
      "173/173 [==============================] - 1s 4ms/step - loss: 51615285248.0000 - val_loss: 69029634048.0000\n",
      "Epoch 373/600\n",
      "173/173 [==============================] - 1s 4ms/step - loss: 50016071680.0000 - val_loss: 71704346624.0000\n",
      "Epoch 374/600\n",
      "173/173 [==============================] - 1s 3ms/step - loss: 50242723840.0000 - val_loss: 82707144704.0000\n",
      "Epoch 375/600\n",
      "173/173 [==============================] - 1s 3ms/step - loss: 46643720192.0000 - val_loss: 70750519296.0000\n",
      "Epoch 376/600\n",
      "173/173 [==============================] - 1s 3ms/step - loss: 48621871104.0000 - val_loss: 74846445568.0000\n",
      "Epoch 377/600\n",
      "173/173 [==============================] - 1s 3ms/step - loss: 59945197568.0000 - val_loss: 100637605888.0000\n",
      "Epoch 378/600\n",
      "173/173 [==============================] - 1s 3ms/step - loss: 50286575616.0000 - val_loss: 70852444160.0000\n",
      "Epoch 379/600\n",
      "173/173 [==============================] - 1s 3ms/step - loss: 56290697216.0000 - val_loss: 93638172672.0000\n",
      "Epoch 380/600\n",
      "173/173 [==============================] - 1s 4ms/step - loss: 52968894464.0000 - val_loss: 68982562816.0000\n",
      "Epoch 381/600\n",
      "173/173 [==============================] - 1s 4ms/step - loss: 44159463424.0000 - val_loss: 68077555712.0000\n",
      "Epoch 382/600\n",
      "173/173 [==============================] - 1s 3ms/step - loss: 50056863744.0000 - val_loss: 71504781312.0000\n",
      "Epoch 383/600\n",
      "173/173 [==============================] - 1s 3ms/step - loss: 54783787008.0000 - val_loss: 66924421120.0000\n",
      "Epoch 384/600\n",
      "173/173 [==============================] - 1s 3ms/step - loss: 43523866624.0000 - val_loss: 75569455104.0000\n",
      "Epoch 385/600\n",
      "173/173 [==============================] - 0s 3ms/step - loss: 54430384128.0000 - val_loss: 74911932416.0000\n",
      "Epoch 386/600\n",
      "173/173 [==============================] - 0s 3ms/step - loss: 48484700160.0000 - val_loss: 72257339392.0000\n",
      "Epoch 387/600\n",
      "173/173 [==============================] - 0s 3ms/step - loss: 47827169280.0000 - val_loss: 89932210176.0000\n",
      "Epoch 388/600\n",
      "173/173 [==============================] - 0s 3ms/step - loss: 46131060736.0000 - val_loss: 70075432960.0000\n",
      "Epoch 389/600\n",
      "173/173 [==============================] - 0s 3ms/step - loss: 53664428032.0000 - val_loss: 86698033152.0000\n",
      "Epoch 390/600\n",
      "173/173 [==============================] - 0s 3ms/step - loss: 63621046272.0000 - val_loss: 90578788352.0000\n",
      "Epoch 391/600\n",
      "173/173 [==============================] - 0s 3ms/step - loss: 60794015744.0000 - val_loss: 72138244096.0000\n",
      "Epoch 392/600\n",
      "173/173 [==============================] - 0s 3ms/step - loss: 44363223040.0000 - val_loss: 69025988608.0000\n",
      "Epoch 393/600\n",
      "173/173 [==============================] - 0s 3ms/step - loss: 43700498432.0000 - val_loss: 77227106304.0000\n",
      "Epoch 394/600\n",
      "173/173 [==============================] - 0s 3ms/step - loss: 46120431616.0000 - val_loss: 80538320896.0000\n",
      "Epoch 395/600\n",
      "173/173 [==============================] - 1s 3ms/step - loss: 52566093824.0000 - val_loss: 71046504448.0000\n",
      "Epoch 396/600\n",
      "173/173 [==============================] - 1s 3ms/step - loss: 48311488512.0000 - val_loss: 81322139648.0000\n",
      "Epoch 397/600\n",
      "173/173 [==============================] - 1s 3ms/step - loss: 47644123136.0000 - val_loss: 86639173632.0000\n",
      "Epoch 398/600\n",
      "173/173 [==============================] - 1s 3ms/step - loss: 51339747328.0000 - val_loss: 92760694784.0000\n",
      "Epoch 399/600\n",
      "173/173 [==============================] - 1s 3ms/step - loss: 47036039168.0000 - val_loss: 79975047168.0000\n",
      "Epoch 400/600\n",
      "173/173 [==============================] - 1s 3ms/step - loss: 46096334848.0000 - val_loss: 70695845888.0000\n",
      "Epoch 401/600\n",
      "173/173 [==============================] - 1s 3ms/step - loss: 44964696064.0000 - val_loss: 71633207296.0000\n",
      "Epoch 402/600\n",
      "173/173 [==============================] - 1s 3ms/step - loss: 49560182784.0000 - val_loss: 123794366464.0000\n",
      "Epoch 403/600\n",
      "173/173 [==============================] - 1s 3ms/step - loss: 60053626880.0000 - val_loss: 95422070784.0000\n",
      "Epoch 404/600\n",
      "173/173 [==============================] - 1s 3ms/step - loss: 54806220800.0000 - val_loss: 74197614592.0000\n",
      "Epoch 405/600\n",
      "173/173 [==============================] - 1s 3ms/step - loss: 54738206720.0000 - val_loss: 73678536704.0000\n",
      "Epoch 406/600\n",
      "173/173 [==============================] - 1s 3ms/step - loss: 53452693504.0000 - val_loss: 74642055168.0000\n",
      "Epoch 407/600\n",
      "173/173 [==============================] - 1s 3ms/step - loss: 46285922304.0000 - val_loss: 76638887936.0000\n",
      "Epoch 408/600\n",
      "173/173 [==============================] - 1s 3ms/step - loss: 43853811712.0000 - val_loss: 72687583232.0000\n",
      "Epoch 409/600\n",
      "173/173 [==============================] - 1s 3ms/step - loss: 62264115200.0000 - val_loss: 75965161472.0000\n",
      "Epoch 410/600\n",
      "173/173 [==============================] - 1s 3ms/step - loss: 49245450240.0000 - val_loss: 72851660800.0000\n",
      "Epoch 411/600\n",
      "173/173 [==============================] - 1s 3ms/step - loss: 62086918144.0000 - val_loss: 116132823040.0000\n",
      "Epoch 412/600\n",
      "173/173 [==============================] - 1s 3ms/step - loss: 50194997248.0000 - val_loss: 75381923840.0000\n",
      "Epoch 413/600\n",
      "173/173 [==============================] - 1s 3ms/step - loss: 43751796736.0000 - val_loss: 69352316928.0000\n",
      "Epoch 414/600\n",
      "173/173 [==============================] - 1s 4ms/step - loss: 44322947072.0000 - val_loss: 71709892608.0000\n",
      "Epoch 415/600\n",
      "173/173 [==============================] - 1s 3ms/step - loss: 47538634752.0000 - val_loss: 74771283968.0000\n",
      "Epoch 416/600\n",
      "173/173 [==============================] - 1s 3ms/step - loss: 57949790208.0000 - val_loss: 87575904256.0000\n",
      "Epoch 417/600\n",
      "173/173 [==============================] - 1s 3ms/step - loss: 47178825728.0000 - val_loss: 70121873408.0000\n",
      "Epoch 418/600\n",
      "173/173 [==============================] - 1s 3ms/step - loss: 46067560448.0000 - val_loss: 81595162624.0000\n",
      "Epoch 419/600\n",
      "173/173 [==============================] - 1s 3ms/step - loss: 50323304448.0000 - val_loss: 75572215808.0000\n",
      "Epoch 420/600\n",
      "173/173 [==============================] - 1s 3ms/step - loss: 46990442496.0000 - val_loss: 76697141248.0000\n",
      "Epoch 421/600\n",
      "173/173 [==============================] - 1s 3ms/step - loss: 46288928768.0000 - val_loss: 96099516416.0000\n",
      "Epoch 422/600\n",
      "173/173 [==============================] - 1s 3ms/step - loss: 46840786944.0000 - val_loss: 68538626048.0000\n",
      "Epoch 423/600\n",
      "173/173 [==============================] - 1s 3ms/step - loss: 46763618304.0000 - val_loss: 76871680000.0000\n",
      "Epoch 424/600\n",
      "173/173 [==============================] - 1s 3ms/step - loss: 43131244544.0000 - val_loss: 71566475264.0000\n",
      "Epoch 425/600\n",
      "173/173 [==============================] - 1s 3ms/step - loss: 45650432000.0000 - val_loss: 77687406592.0000\n",
      "Epoch 426/600\n",
      "173/173 [==============================] - 1s 3ms/step - loss: 47337484288.0000 - val_loss: 76003057664.0000\n",
      "Epoch 427/600\n",
      "173/173 [==============================] - 1s 3ms/step - loss: 43252604928.0000 - val_loss: 74424934400.0000\n",
      "Epoch 428/600\n",
      "173/173 [==============================] - 1s 3ms/step - loss: 46821924864.0000 - val_loss: 83668590592.0000\n",
      "Epoch 429/600\n",
      "173/173 [==============================] - 1s 3ms/step - loss: 48153174016.0000 - val_loss: 79634644992.0000\n",
      "Epoch 430/600\n",
      "173/173 [==============================] - 1s 4ms/step - loss: 42900668416.0000 - val_loss: 74728464384.0000\n",
      "Epoch 431/600\n",
      "173/173 [==============================] - 1s 3ms/step - loss: 43627225088.0000 - val_loss: 82415607808.0000\n",
      "Epoch 432/600\n",
      "173/173 [==============================] - 1s 4ms/step - loss: 44715098112.0000 - val_loss: 72748548096.0000\n",
      "Epoch 433/600\n",
      "173/173 [==============================] - 1s 3ms/step - loss: 48618053632.0000 - val_loss: 80078528512.0000\n",
      "Epoch 434/600\n",
      "173/173 [==============================] - 0s 2ms/step - loss: 44262563840.0000 - val_loss: 84140818432.0000\n",
      "Epoch 435/600\n",
      "173/173 [==============================] - 0s 2ms/step - loss: 47892234240.0000 - val_loss: 76214910976.0000\n",
      "Epoch 436/600\n",
      "173/173 [==============================] - 0s 2ms/step - loss: 44519919616.0000 - val_loss: 70753271808.0000\n",
      "Epoch 437/600\n",
      "173/173 [==============================] - 0s 2ms/step - loss: 42086617088.0000 - val_loss: 99915472896.0000\n",
      "Epoch 438/600\n",
      "173/173 [==============================] - 0s 2ms/step - loss: 51030855680.0000 - val_loss: 71081705472.0000\n",
      "Epoch 439/600\n",
      "173/173 [==============================] - 0s 2ms/step - loss: 44719898624.0000 - val_loss: 76197855232.0000\n",
      "Epoch 440/600\n",
      "173/173 [==============================] - 0s 2ms/step - loss: 45062152192.0000 - val_loss: 79600361472.0000\n",
      "Epoch 441/600\n",
      "173/173 [==============================] - 0s 2ms/step - loss: 45984301056.0000 - val_loss: 103067828224.0000\n",
      "Epoch 442/600\n",
      "173/173 [==============================] - 0s 2ms/step - loss: 50403483648.0000 - val_loss: 81047289856.0000\n",
      "Epoch 443/600\n",
      "173/173 [==============================] - 0s 2ms/step - loss: 50349051904.0000 - val_loss: 75402174464.0000\n",
      "Epoch 444/600\n",
      "173/173 [==============================] - 0s 2ms/step - loss: 52579356672.0000 - val_loss: 115394723840.0000\n",
      "Epoch 445/600\n",
      "173/173 [==============================] - 0s 2ms/step - loss: 50779205632.0000 - val_loss: 75512717312.0000\n",
      "Epoch 446/600\n",
      "173/173 [==============================] - 0s 2ms/step - loss: 44942745600.0000 - val_loss: 77778599936.0000\n",
      "Epoch 447/600\n",
      "173/173 [==============================] - 0s 2ms/step - loss: 43401752576.0000 - val_loss: 75941167104.0000\n",
      "Epoch 448/600\n",
      "173/173 [==============================] - 0s 3ms/step - loss: 44739633152.0000 - val_loss: 72002838528.0000\n",
      "Epoch 449/600\n",
      "173/173 [==============================] - 1s 3ms/step - loss: 49644908544.0000 - val_loss: 97387233280.0000\n",
      "Epoch 450/600\n",
      "173/173 [==============================] - 1s 3ms/step - loss: 44547760128.0000 - val_loss: 68475719680.0000\n",
      "Epoch 451/600\n",
      "173/173 [==============================] - 1s 3ms/step - loss: 45856157696.0000 - val_loss: 77661839360.0000\n",
      "Epoch 452/600\n",
      "173/173 [==============================] - 1s 3ms/step - loss: 46321012736.0000 - val_loss: 88304189440.0000\n",
      "Epoch 453/600\n",
      "173/173 [==============================] - 1s 3ms/step - loss: 61686648832.0000 - val_loss: 72544714752.0000\n",
      "Epoch 454/600\n",
      "173/173 [==============================] - 1s 3ms/step - loss: 54034432000.0000 - val_loss: 77137354752.0000\n",
      "Epoch 455/600\n",
      "173/173 [==============================] - 1s 3ms/step - loss: 66227523584.0000 - val_loss: 104478220288.0000\n",
      "Epoch 456/600\n",
      "173/173 [==============================] - 1s 3ms/step - loss: 67763081216.0000 - val_loss: 71025156096.0000\n",
      "Epoch 457/600\n",
      "173/173 [==============================] - 1s 3ms/step - loss: 47276658688.0000 - val_loss: 74380517376.0000\n",
      "Epoch 458/600\n",
      "173/173 [==============================] - 1s 3ms/step - loss: 52825264128.0000 - val_loss: 73178210304.0000\n",
      "Epoch 459/600\n",
      "173/173 [==============================] - 1s 3ms/step - loss: 47536660480.0000 - val_loss: 75152162816.0000\n",
      "Epoch 460/600\n",
      "173/173 [==============================] - 1s 3ms/step - loss: 48186433536.0000 - val_loss: 74086105088.0000\n",
      "Epoch 461/600\n",
      "173/173 [==============================] - 1s 3ms/step - loss: 43195748352.0000 - val_loss: 75367915520.0000\n",
      "Epoch 462/600\n",
      "173/173 [==============================] - 1s 4ms/step - loss: 40802529280.0000 - val_loss: 70021292032.0000\n",
      "Epoch 463/600\n",
      "173/173 [==============================] - 1s 3ms/step - loss: 41903730688.0000 - val_loss: 74542391296.0000\n",
      "Epoch 464/600\n",
      "173/173 [==============================] - 1s 3ms/step - loss: 61450076160.0000 - val_loss: 95824388096.0000\n",
      "Epoch 465/600\n",
      "173/173 [==============================] - 1s 4ms/step - loss: 57646108672.0000 - val_loss: 76623290368.0000\n",
      "Epoch 466/600\n",
      "173/173 [==============================] - 1s 4ms/step - loss: 52186267648.0000 - val_loss: 91736793088.0000\n",
      "Epoch 467/600\n",
      "173/173 [==============================] - 1s 4ms/step - loss: 49004699648.0000 - val_loss: 68939587584.0000\n",
      "Epoch 468/600\n",
      "173/173 [==============================] - 1s 4ms/step - loss: 42594942976.0000 - val_loss: 65629765632.0000\n",
      "Epoch 469/600\n",
      "173/173 [==============================] - 1s 3ms/step - loss: 43521236992.0000 - val_loss: 71002718208.0000\n",
      "Epoch 470/600\n",
      "173/173 [==============================] - 1s 3ms/step - loss: 53577818112.0000 - val_loss: 70042632192.0000\n",
      "Epoch 471/600\n",
      "173/173 [==============================] - 1s 3ms/step - loss: 47186272256.0000 - val_loss: 77537918976.0000\n",
      "Epoch 472/600\n",
      "173/173 [==============================] - 1s 3ms/step - loss: 41367699456.0000 - val_loss: 70645956608.0000\n",
      "Epoch 473/600\n",
      "173/173 [==============================] - 1s 3ms/step - loss: 44485320704.0000 - val_loss: 94940020736.0000\n",
      "Epoch 474/600\n",
      "173/173 [==============================] - 0s 3ms/step - loss: 45566164992.0000 - val_loss: 68759617536.0000\n",
      "Epoch 475/600\n",
      "173/173 [==============================] - 0s 3ms/step - loss: 52191928320.0000 - val_loss: 82304933888.0000\n",
      "Epoch 476/600\n",
      "173/173 [==============================] - 0s 3ms/step - loss: 49003671552.0000 - val_loss: 74628587520.0000\n",
      "Epoch 477/600\n",
      "173/173 [==============================] - 0s 3ms/step - loss: 46507712512.0000 - val_loss: 72822620160.0000\n",
      "Epoch 478/600\n",
      "173/173 [==============================] - 0s 3ms/step - loss: 42901577728.0000 - val_loss: 72527675392.0000\n",
      "Epoch 479/600\n",
      "173/173 [==============================] - 1s 3ms/step - loss: 42738937856.0000 - val_loss: 66363224064.0000\n",
      "Epoch 480/600\n",
      "173/173 [==============================] - 1s 3ms/step - loss: 57004068864.0000 - val_loss: 78800281600.0000\n",
      "Epoch 481/600\n",
      "173/173 [==============================] - 1s 3ms/step - loss: 54495588352.0000 - val_loss: 73257394176.0000\n",
      "Epoch 482/600\n",
      "173/173 [==============================] - 1s 3ms/step - loss: 43722903552.0000 - val_loss: 93101686784.0000\n",
      "Epoch 483/600\n",
      "173/173 [==============================] - 1s 3ms/step - loss: 60375556096.0000 - val_loss: 69684977664.0000\n",
      "Epoch 484/600\n",
      "173/173 [==============================] - 1s 3ms/step - loss: 47210598400.0000 - val_loss: 71855685632.0000\n",
      "Epoch 485/600\n",
      "173/173 [==============================] - 1s 3ms/step - loss: 42344267776.0000 - val_loss: 73162964992.0000\n",
      "Epoch 486/600\n",
      "173/173 [==============================] - 1s 3ms/step - loss: 43827523584.0000 - val_loss: 80144384000.0000\n",
      "Epoch 487/600\n",
      "173/173 [==============================] - 1s 3ms/step - loss: 45023301632.0000 - val_loss: 68759306240.0000\n",
      "Epoch 488/600\n",
      "173/173 [==============================] - 1s 3ms/step - loss: 44091592704.0000 - val_loss: 77144973312.0000\n",
      "Epoch 489/600\n",
      "173/173 [==============================] - 1s 3ms/step - loss: 78634754048.0000 - val_loss: 73660579840.0000\n",
      "Epoch 490/600\n",
      "173/173 [==============================] - 1s 3ms/step - loss: 63860658176.0000 - val_loss: 71981588480.0000\n",
      "Epoch 491/600\n",
      "173/173 [==============================] - 1s 3ms/step - loss: 46696816640.0000 - val_loss: 78907736064.0000\n",
      "Epoch 492/600\n",
      "173/173 [==============================] - 1s 3ms/step - loss: 46647824384.0000 - val_loss: 68671197184.0000\n",
      "Epoch 493/600\n",
      "173/173 [==============================] - 1s 3ms/step - loss: 48094937088.0000 - val_loss: 77040082944.0000\n",
      "Epoch 494/600\n",
      "173/173 [==============================] - 1s 3ms/step - loss: 42396188672.0000 - val_loss: 70437945344.0000\n",
      "Epoch 495/600\n",
      "173/173 [==============================] - 1s 3ms/step - loss: 43708903424.0000 - val_loss: 79616409600.0000\n",
      "Epoch 496/600\n",
      "173/173 [==============================] - 1s 3ms/step - loss: 45767516160.0000 - val_loss: 72698494976.0000\n",
      "Epoch 497/600\n",
      "173/173 [==============================] - 1s 3ms/step - loss: 49132339200.0000 - val_loss: 77583499264.0000\n",
      "Epoch 498/600\n",
      "173/173 [==============================] - 1s 3ms/step - loss: 44643966976.0000 - val_loss: 76161302528.0000\n",
      "Epoch 499/600\n",
      "173/173 [==============================] - 1s 3ms/step - loss: 49306152960.0000 - val_loss: 72015929344.0000\n",
      "Epoch 500/600\n",
      "173/173 [==============================] - 1s 3ms/step - loss: 44580577280.0000 - val_loss: 71894253568.0000\n",
      "Epoch 501/600\n",
      "173/173 [==============================] - 1s 3ms/step - loss: 48444166144.0000 - val_loss: 87935459328.0000\n",
      "Epoch 502/600\n",
      "173/173 [==============================] - 1s 3ms/step - loss: 47533309952.0000 - val_loss: 122106052608.0000\n",
      "Epoch 503/600\n",
      "173/173 [==============================] - 1s 3ms/step - loss: 62212059136.0000 - val_loss: 76827705344.0000\n",
      "Epoch 504/600\n",
      "173/173 [==============================] - 1s 3ms/step - loss: 56667078656.0000 - val_loss: 83233759232.0000\n",
      "Epoch 505/600\n",
      "173/173 [==============================] - 1s 3ms/step - loss: 45542498304.0000 - val_loss: 72175935488.0000\n",
      "Epoch 506/600\n",
      "173/173 [==============================] - 1s 3ms/step - loss: 44128808960.0000 - val_loss: 72300986368.0000\n",
      "Epoch 507/600\n",
      "173/173 [==============================] - 1s 3ms/step - loss: 42412376064.0000 - val_loss: 70281338880.0000\n",
      "Epoch 508/600\n",
      "173/173 [==============================] - 1s 3ms/step - loss: 51701587968.0000 - val_loss: 80057729024.0000\n",
      "Epoch 509/600\n",
      "173/173 [==============================] - 1s 3ms/step - loss: 47746453504.0000 - val_loss: 94596325376.0000\n",
      "Epoch 510/600\n",
      "173/173 [==============================] - 1s 4ms/step - loss: 46390562816.0000 - val_loss: 76121620480.0000\n",
      "Epoch 511/600\n",
      "173/173 [==============================] - 1s 3ms/step - loss: 43683053568.0000 - val_loss: 77707845632.0000\n",
      "Epoch 512/600\n",
      "173/173 [==============================] - 1s 3ms/step - loss: 45442641920.0000 - val_loss: 89461276672.0000\n",
      "Epoch 513/600\n",
      "173/173 [==============================] - 1s 3ms/step - loss: 57082351616.0000 - val_loss: 85241954304.0000\n",
      "Epoch 514/600\n",
      "173/173 [==============================] - 1s 3ms/step - loss: 52640628736.0000 - val_loss: 78142226432.0000\n",
      "Epoch 515/600\n",
      "173/173 [==============================] - 0s 3ms/step - loss: 43666903040.0000 - val_loss: 74785996800.0000\n",
      "Epoch 516/600\n",
      "173/173 [==============================] - 0s 2ms/step - loss: 45026656256.0000 - val_loss: 74904551424.0000\n",
      "Epoch 517/600\n",
      "173/173 [==============================] - 0s 2ms/step - loss: 42495930368.0000 - val_loss: 80245784576.0000\n",
      "Epoch 518/600\n",
      "173/173 [==============================] - 0s 3ms/step - loss: 42530287616.0000 - val_loss: 79209095168.0000\n",
      "Epoch 519/600\n",
      "173/173 [==============================] - 0s 2ms/step - loss: 45871296512.0000 - val_loss: 86334586880.0000\n",
      "Epoch 520/600\n",
      "173/173 [==============================] - 0s 3ms/step - loss: 48908500992.0000 - val_loss: 85567922176.0000\n",
      "Epoch 521/600\n",
      "173/173 [==============================] - 0s 3ms/step - loss: 50850054144.0000 - val_loss: 81281351680.0000\n",
      "Epoch 522/600\n",
      "173/173 [==============================] - 0s 2ms/step - loss: 43074211840.0000 - val_loss: 73346916352.0000\n",
      "Epoch 523/600\n",
      "173/173 [==============================] - 0s 3ms/step - loss: 89406119936.0000 - val_loss: 84316733440.0000\n",
      "Epoch 524/600\n",
      "173/173 [==============================] - 0s 3ms/step - loss: 65492443136.0000 - val_loss: 69064867840.0000\n",
      "Epoch 525/600\n",
      "173/173 [==============================] - 0s 3ms/step - loss: 59530727424.0000 - val_loss: 78251778048.0000\n",
      "Epoch 526/600\n",
      "173/173 [==============================] - 0s 2ms/step - loss: 57201827840.0000 - val_loss: 75445379072.0000\n",
      "Epoch 527/600\n",
      "173/173 [==============================] - 0s 3ms/step - loss: 57367592960.0000 - val_loss: 73562570752.0000\n",
      "Epoch 528/600\n",
      "173/173 [==============================] - 0s 2ms/step - loss: 56224276480.0000 - val_loss: 69689778176.0000\n",
      "Epoch 529/600\n",
      "173/173 [==============================] - 0s 3ms/step - loss: 58663190528.0000 - val_loss: 81048010752.0000\n",
      "Epoch 530/600\n",
      "173/173 [==============================] - 0s 3ms/step - loss: 52787568640.0000 - val_loss: 71078977536.0000\n",
      "Epoch 531/600\n",
      "173/173 [==============================] - 0s 3ms/step - loss: 52579631104.0000 - val_loss: 72897732608.0000\n",
      "Epoch 532/600\n",
      "173/173 [==============================] - 0s 3ms/step - loss: 50812379136.0000 - val_loss: 70669688832.0000\n",
      "Epoch 533/600\n",
      "173/173 [==============================] - 0s 3ms/step - loss: 53222178816.0000 - val_loss: 73537855488.0000\n",
      "Epoch 534/600\n",
      "173/173 [==============================] - 0s 2ms/step - loss: 52005814272.0000 - val_loss: 71767015424.0000\n",
      "Epoch 535/600\n",
      "173/173 [==============================] - 0s 2ms/step - loss: 47868157952.0000 - val_loss: 69128011776.0000\n",
      "Epoch 536/600\n",
      "173/173 [==============================] - 0s 2ms/step - loss: 46635446272.0000 - val_loss: 95692423168.0000\n",
      "Epoch 537/600\n",
      "173/173 [==============================] - 0s 2ms/step - loss: 46700150784.0000 - val_loss: 71620460544.0000\n",
      "Epoch 538/600\n",
      "173/173 [==============================] - 0s 2ms/step - loss: 43936100352.0000 - val_loss: 69302124544.0000\n",
      "Epoch 539/600\n",
      "173/173 [==============================] - 0s 2ms/step - loss: 44550062080.0000 - val_loss: 84873289728.0000\n",
      "Epoch 540/600\n",
      "173/173 [==============================] - 0s 2ms/step - loss: 45813432320.0000 - val_loss: 87234609152.0000\n",
      "Epoch 541/600\n",
      "173/173 [==============================] - 0s 2ms/step - loss: 50721783808.0000 - val_loss: 73198125056.0000\n",
      "Epoch 542/600\n",
      "173/173 [==============================] - 0s 2ms/step - loss: 49711939584.0000 - val_loss: 75143004160.0000\n",
      "Epoch 543/600\n",
      "173/173 [==============================] - 0s 2ms/step - loss: 46928732160.0000 - val_loss: 80658595840.0000\n",
      "Epoch 544/600\n",
      "173/173 [==============================] - 0s 2ms/step - loss: 45609332736.0000 - val_loss: 82025766912.0000\n",
      "Epoch 545/600\n",
      "173/173 [==============================] - 0s 2ms/step - loss: 42890547200.0000 - val_loss: 76672483328.0000\n",
      "Epoch 546/600\n",
      "173/173 [==============================] - 0s 3ms/step - loss: 46697570304.0000 - val_loss: 89877323776.0000\n",
      "Epoch 547/600\n",
      "173/173 [==============================] - 0s 2ms/step - loss: 48936517632.0000 - val_loss: 78622023680.0000\n",
      "Epoch 548/600\n",
      "173/173 [==============================] - 0s 2ms/step - loss: 47908872192.0000 - val_loss: 80277774336.0000\n",
      "Epoch 549/600\n",
      "173/173 [==============================] - 0s 3ms/step - loss: 45908398080.0000 - val_loss: 74685906944.0000\n",
      "Epoch 550/600\n",
      "173/173 [==============================] - 0s 3ms/step - loss: 48898310144.0000 - val_loss: 76900474880.0000\n",
      "Epoch 551/600\n",
      "173/173 [==============================] - 0s 2ms/step - loss: 44240171008.0000 - val_loss: 76681928704.0000\n",
      "Epoch 552/600\n",
      "173/173 [==============================] - 0s 2ms/step - loss: 43478999040.0000 - val_loss: 72910372864.0000\n",
      "Epoch 553/600\n",
      "173/173 [==============================] - 0s 2ms/step - loss: 41258651648.0000 - val_loss: 82081153024.0000\n",
      "Epoch 554/600\n",
      "173/173 [==============================] - 0s 2ms/step - loss: 43881562112.0000 - val_loss: 73880461312.0000\n",
      "Epoch 555/600\n",
      "173/173 [==============================] - 0s 2ms/step - loss: 43006414848.0000 - val_loss: 76242280448.0000\n",
      "Epoch 556/600\n",
      "173/173 [==============================] - 0s 2ms/step - loss: 41846607872.0000 - val_loss: 86618472448.0000\n",
      "Epoch 557/600\n",
      "173/173 [==============================] - 0s 3ms/step - loss: 49065320448.0000 - val_loss: 79325732864.0000\n",
      "Epoch 558/600\n",
      "173/173 [==============================] - 0s 2ms/step - loss: 41773576192.0000 - val_loss: 82618187776.0000\n",
      "Epoch 559/600\n",
      "173/173 [==============================] - 0s 3ms/step - loss: 46869307392.0000 - val_loss: 88345911296.0000\n",
      "Epoch 560/600\n",
      "173/173 [==============================] - 0s 3ms/step - loss: 43333029888.0000 - val_loss: 90343194624.0000\n",
      "Epoch 561/600\n",
      "173/173 [==============================] - 0s 2ms/step - loss: 42960990208.0000 - val_loss: 87982219264.0000\n",
      "Epoch 562/600\n",
      "173/173 [==============================] - 0s 2ms/step - loss: 45499133952.0000 - val_loss: 88020066304.0000\n",
      "Epoch 563/600\n",
      "173/173 [==============================] - 0s 2ms/step - loss: 59219660800.0000 - val_loss: 93435035648.0000\n",
      "Epoch 564/600\n",
      "173/173 [==============================] - 0s 2ms/step - loss: 57678454784.0000 - val_loss: 82440110080.0000\n",
      "Epoch 565/600\n",
      "173/173 [==============================] - 0s 2ms/step - loss: 48288440320.0000 - val_loss: 71366098944.0000\n",
      "Epoch 566/600\n",
      "173/173 [==============================] - 0s 2ms/step - loss: 45801562112.0000 - val_loss: 76512673792.0000\n",
      "Epoch 567/600\n",
      "173/173 [==============================] - 0s 2ms/step - loss: 43143565312.0000 - val_loss: 68576571392.0000\n",
      "Epoch 568/600\n",
      "173/173 [==============================] - 0s 2ms/step - loss: 50675363840.0000 - val_loss: 81428013056.0000\n",
      "Epoch 569/600\n",
      "173/173 [==============================] - 0s 2ms/step - loss: 53741572096.0000 - val_loss: 79102050304.0000\n",
      "Epoch 570/600\n",
      "173/173 [==============================] - 0s 3ms/step - loss: 43659587584.0000 - val_loss: 74980507648.0000\n",
      "Epoch 571/600\n",
      "173/173 [==============================] - 0s 2ms/step - loss: 47961341952.0000 - val_loss: 83392528384.0000\n",
      "Epoch 572/600\n",
      "173/173 [==============================] - 0s 2ms/step - loss: 46018048000.0000 - val_loss: 78318346240.0000\n",
      "Epoch 573/600\n",
      "173/173 [==============================] - 0s 3ms/step - loss: 41936904192.0000 - val_loss: 83179831296.0000\n",
      "Epoch 574/600\n",
      "173/173 [==============================] - 1s 3ms/step - loss: 41286926336.0000 - val_loss: 79529418752.0000\n",
      "Epoch 575/600\n",
      "173/173 [==============================] - 1s 3ms/step - loss: 40980033536.0000 - val_loss: 81231224832.0000\n",
      "Epoch 576/600\n",
      "173/173 [==============================] - 1s 3ms/step - loss: 41792233472.0000 - val_loss: 73734225920.0000\n",
      "Epoch 577/600\n",
      "173/173 [==============================] - 1s 3ms/step - loss: 40541921280.0000 - val_loss: 82655805440.0000\n",
      "Epoch 578/600\n",
      "173/173 [==============================] - 1s 3ms/step - loss: 47676645376.0000 - val_loss: 87556259840.0000\n",
      "Epoch 579/600\n",
      "173/173 [==============================] - 1s 3ms/step - loss: 42956062720.0000 - val_loss: 78784323584.0000\n",
      "Epoch 580/600\n",
      "173/173 [==============================] - 1s 3ms/step - loss: 41459470336.0000 - val_loss: 78528733184.0000\n",
      "Epoch 581/600\n",
      "173/173 [==============================] - 1s 3ms/step - loss: 46727761920.0000 - val_loss: 81142505472.0000\n",
      "Epoch 582/600\n",
      "173/173 [==============================] - 1s 3ms/step - loss: 44820508672.0000 - val_loss: 76052381696.0000\n",
      "Epoch 583/600\n",
      "173/173 [==============================] - 1s 3ms/step - loss: 40741314560.0000 - val_loss: 76101492736.0000\n",
      "Epoch 584/600\n",
      "173/173 [==============================] - 1s 3ms/step - loss: 40834617344.0000 - val_loss: 71824203776.0000\n",
      "Epoch 585/600\n",
      "173/173 [==============================] - 1s 3ms/step - loss: 50447949824.0000 - val_loss: 76085542912.0000\n",
      "Epoch 586/600\n",
      "173/173 [==============================] - 1s 3ms/step - loss: 49868980224.0000 - val_loss: 81286324224.0000\n",
      "Epoch 587/600\n",
      "173/173 [==============================] - 1s 4ms/step - loss: 46116724736.0000 - val_loss: 72772698112.0000\n",
      "Epoch 588/600\n",
      "173/173 [==============================] - 1s 3ms/step - loss: 43257860096.0000 - val_loss: 111084765184.0000\n",
      "Epoch 589/600\n",
      "173/173 [==============================] - 1s 3ms/step - loss: 52112470016.0000 - val_loss: 74467098624.0000\n",
      "Epoch 590/600\n",
      "173/173 [==============================] - 1s 3ms/step - loss: 40896286720.0000 - val_loss: 76411297792.0000\n",
      "Epoch 591/600\n",
      "173/173 [==============================] - 1s 3ms/step - loss: 40745447424.0000 - val_loss: 85321203712.0000\n",
      "Epoch 592/600\n",
      "173/173 [==============================] - 1s 3ms/step - loss: 42585673728.0000 - val_loss: 72749867008.0000\n",
      "Epoch 593/600\n",
      "173/173 [==============================] - 1s 3ms/step - loss: 40513331200.0000 - val_loss: 72679030784.0000\n",
      "Epoch 594/600\n",
      "173/173 [==============================] - 1s 3ms/step - loss: 40762155008.0000 - val_loss: 76845613056.0000\n",
      "Epoch 595/600\n",
      "173/173 [==============================] - 1s 3ms/step - loss: 41563242496.0000 - val_loss: 82696904704.0000\n",
      "Epoch 596/600\n",
      "173/173 [==============================] - 1s 3ms/step - loss: 46840201216.0000 - val_loss: 101164204032.0000\n",
      "Epoch 597/600\n",
      "173/173 [==============================] - 1s 3ms/step - loss: 46854565888.0000 - val_loss: 92256321536.0000\n",
      "Epoch 598/600\n",
      "173/173 [==============================] - 1s 3ms/step - loss: 40687771648.0000 - val_loss: 76800401408.0000\n",
      "Epoch 599/600\n",
      "173/173 [==============================] - 1s 3ms/step - loss: 40686190592.0000 - val_loss: 72145321984.0000\n",
      "Epoch 600/600\n",
      "173/173 [==============================] - 1s 3ms/step - loss: 39728119808.0000 - val_loss: 68324646912.0000\n"
     ]
    },
    {
     "data": {
      "text/plain": "<keras.src.callbacks.History at 0x134416f8dd0>"
     },
     "execution_count": 694,
     "metadata": {},
     "output_type": "execute_result"
    }
   ],
   "source": [
    "model.fit(x=X_train,y=y_train,\n",
    "          validation_data=(X_test,y_test),\n",
    "          epochs=600,\n",
    "          verbose = 1, )"
   ],
   "metadata": {
    "collapsed": false,
    "ExecuteTime": {
     "end_time": "2023-10-06T12:22:17.047643400Z",
     "start_time": "2023-10-06T12:16:39.666702500Z"
    }
   }
  },
  {
   "cell_type": "code",
   "execution_count": 695,
   "outputs": [
    {
     "name": "stdout",
     "output_type": "stream",
     "text": [
      "75/75 [==============================] - 0s 1ms/step\n"
     ]
    }
   ],
   "source": [
    "predictions = model.predict(X_test)"
   ],
   "metadata": {
    "collapsed": false,
    "ExecuteTime": {
     "end_time": "2023-10-06T12:22:17.308093Z",
     "start_time": "2023-10-06T12:22:17.048875200Z"
    }
   }
  },
  {
   "cell_type": "code",
   "execution_count": 696,
   "outputs": [],
   "source": [
    "from sklearn.metrics import mean_squared_error,mean_absolute_error,explained_variance_score"
   ],
   "metadata": {
    "collapsed": false,
    "ExecuteTime": {
     "end_time": "2023-10-06T12:22:17.308093Z",
     "start_time": "2023-10-06T12:22:17.301306100Z"
    }
   }
  },
  {
   "cell_type": "code",
   "execution_count": 697,
   "outputs": [
    {
     "data": {
      "text/plain": "261389.8285606332"
     },
     "execution_count": 697,
     "metadata": {},
     "output_type": "execute_result"
    }
   ],
   "source": [
    "np.sqrt(mean_squared_error(y_test,predictions))"
   ],
   "metadata": {
    "collapsed": false,
    "ExecuteTime": {
     "end_time": "2023-10-06T12:22:17.370736400Z",
     "start_time": "2023-10-06T12:22:17.307030800Z"
    }
   }
  },
  {
   "cell_type": "code",
   "execution_count": 698,
   "outputs": [
    {
     "data": {
      "text/plain": "141684.45311841273"
     },
     "execution_count": 698,
     "metadata": {},
     "output_type": "execute_result"
    }
   ],
   "source": [
    "mean_absolute_error(y_test,predictions)"
   ],
   "metadata": {
    "collapsed": false,
    "ExecuteTime": {
     "end_time": "2023-10-06T12:22:17.383042900Z",
     "start_time": "2023-10-06T12:22:17.349420700Z"
    }
   }
  },
  {
   "cell_type": "code",
   "execution_count": 699,
   "outputs": [
    {
     "data": {
      "text/plain": "0.8993286744427365"
     },
     "execution_count": 699,
     "metadata": {},
     "output_type": "execute_result"
    }
   ],
   "source": [
    "explained_variance_score(y_test,predictions)"
   ],
   "metadata": {
    "collapsed": false,
    "ExecuteTime": {
     "end_time": "2023-10-06T12:22:17.383042900Z",
     "start_time": "2023-10-06T12:22:17.370736400Z"
    }
   }
  },
  {
   "cell_type": "code",
   "execution_count": 700,
   "outputs": [
    {
     "data": {
      "text/plain": "649838.9977229602"
     },
     "execution_count": 700,
     "metadata": {},
     "output_type": "execute_result"
    }
   ],
   "source": [
    "np.average(df['selling_price'])"
   ],
   "metadata": {
    "collapsed": false,
    "ExecuteTime": {
     "end_time": "2023-10-06T12:22:17.383042900Z",
     "start_time": "2023-10-06T12:22:17.370736400Z"
    }
   }
  },
  {
   "cell_type": "code",
   "execution_count": 701,
   "outputs": [],
   "source": [
    " model.save('C:/Users/yusuf/OneDrive/Masaüstü/model.keras')"
   ],
   "metadata": {
    "collapsed": false,
    "ExecuteTime": {
     "end_time": "2023-10-06T12:22:17.463960300Z",
     "start_time": "2023-10-06T12:22:17.371951300Z"
    }
   }
  },
  {
   "cell_type": "code",
   "execution_count": 701,
   "outputs": [],
   "source": [],
   "metadata": {
    "collapsed": false,
    "ExecuteTime": {
     "end_time": "2023-10-06T12:22:17.472470900Z",
     "start_time": "2023-10-06T12:22:17.419538300Z"
    }
   }
  }
 ],
 "metadata": {
  "kernelspec": {
   "display_name": "Python 3",
   "language": "python",
   "name": "python3"
  },
  "language_info": {
   "codemirror_mode": {
    "name": "ipython",
    "version": 2
   },
   "file_extension": ".py",
   "mimetype": "text/x-python",
   "name": "python",
   "nbconvert_exporter": "python",
   "pygments_lexer": "ipython2",
   "version": "2.7.6"
  }
 },
 "nbformat": 4,
 "nbformat_minor": 0
}
